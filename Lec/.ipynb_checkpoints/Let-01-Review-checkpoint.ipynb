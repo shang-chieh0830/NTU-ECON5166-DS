{
 "cells": [
  {
   "cell_type": "markdown",
   "id": "af90b7d5",
   "metadata": {},
   "source": [
    "# Review of Statistics"
   ]
  },
  {
   "cell_type": "markdown",
   "id": "85439dd0",
   "metadata": {},
   "source": [
    "## Basics"
   ]
  },
  {
   "cell_type": "markdown",
   "id": "6a147483",
   "metadata": {},
   "source": [
    "1. CDF always exists.\n",
    "\n",
    "2. Definition of PDF: $f_X(x)$ is said to be a pdf of r.v. X if $P(X\\le x)=\\int_{-\\infty}^x f_X(x)dx$\n",
    "\n",
    "3. PDF/PMF may not exist. (e.g. r.v.'s which are neither continuous nor discrete.)\n",
    "\n",
    "4. PDF is NOT unique. (因為單點機率=0)\n",
    "\n",
    "     e.g. Consider $f_X(x)$ to be a normal pdf.\n",
    "     \n",
    "     Define $\\tilde f_X(x)=\\begin{cases}f_X(x) & \\text{ if } x\\ne0\\\\ e^{10} & \\text{ if } x=0\\end{cases}$\n",
    "\n",
    "     Then $\\tilde f_X(x)$ is still a normal pdf since $P(X\\le x)=\\int_{-\\infty}^x f_X(x)dx=\\int_{-\\infty}^x \\tilde f_X(x)dx$.\n",
    "     \n",
    "     \n",
    "5. CLT: Given $X_1,\\dots,X_n\\sim i.i.d. F_{X}(\\cdot)$, if $E(X)< \\infty$, then $\\sqrt{n} (\\bar{X}_n-\\mu)\\xrightarrow{d}N(0, \\sigma^2)$\n",
    "\n",
    "    The CLT states that sum of independent small distubance is Normal"
   ]
  },
  {
   "cell_type": "markdown",
   "id": "6d285865",
   "metadata": {},
   "source": [
    "## Multivariate Normal"
   ]
  },
  {
   "cell_type": "markdown",
   "id": "46531aad",
   "metadata": {},
   "source": [
    "Consider a multivariate normal r.v., $\\mathbb X\\sim N(\\mathbb\\mu, \\Sigma), \\mathbb X =(X_1, \\dots, X_p)^T$ where each $X_i$ is a univariate normal, i.e.,  $X_i\\sim N(\\mu_i, \\sigma_i^2=\\sigma_{ii})$\n",
    "\n",
    "Assume $\\Sigma$ is diagonal, i.e, $X_i$ are independence.\n",
    "\n",
    "Then $f_{\\mathbb X}{(x_1, ..., x_p)}=f_{X_1}(x_1)\\times \\cdots \\times f_{X_p}(x_p)$\n",
    "\n",
    "$\\text{Proof:}$\n",
    "\n",
    "Consider p=2 for simplicity.\n",
    "\n",
    "$\\Sigma=\\begin{bmatrix}\\sigma_{11} & 0 \\\\ 0&\\sigma_{22}\\end{bmatrix}$\n",
    "\n",
    "$\\Sigma^{-1}=\\frac{1}{\\sigma_{11}\\sigma_{22}-0}\\begin{bmatrix}\\sigma_{22} & 0 \\\\ 0&\\sigma_{11}\\end{bmatrix}=\\begin{bmatrix}1/\\sigma_{11} & 0 \\\\ 0&1/\\sigma_{22}\\end{bmatrix}$\n",
    "\n",
    "$$\n",
    "\\begin{align}\n",
    "f_{\\mathbb X}(x_1, x_2)&=\\frac{1}{\\sqrt{2\\pi}^p}(\\frac{1}{det(\\Sigma)})^{1/2}exp(-\\frac12 (\\mathbb x-\\mathbb\\mu)^T\\Sigma^{-1}(\\mathbb  x-\\mathbb \\mu))\\\\\n",
    "&=\\frac{1}{\\sqrt{2\\pi}^2}(\\frac{1}{\\sigma_{11}\\sigma_{22}})^{1/2}exp(-\\frac12 (\\mathbb x-\\mathbb\\mu)^T\\Sigma^{-1}(\\mathbb  x-\\mathbb \\mu))\\\\\n",
    "&=\\frac{1}{\\sqrt{2\\pi}^2}(\\frac{1}{\\sigma_{11}\\sigma_{22}})^{1/2}exp(-\\frac12 (\\frac{(x_1-\\mu_1)^2}{\\sigma_{11}}+\\frac{(x_2-\\mu_2)^2}{\\sigma_{22}}))\\\\\n",
    "&=f_{X_1(x_1)}f_{X_2(x_2)}\n",
    "\\end{align}\n",
    "$$"
   ]
  },
  {
   "cell_type": "markdown",
   "id": "18e133de",
   "metadata": {},
   "source": [
    "Contour Plot:\n",
    "\n",
    "$f_{\\mathbb X}(x_1, x_2)=k\\iff \\frac{(x_1-\\mu_1)^2}{\\sigma_{11}}+\\frac{(x_2-\\mu_2)^2}{\\sigma_{22}}=k$\n",
    "\n",
    "which is an ellipse in general"
   ]
  }
 ],
 "metadata": {
  "kernelspec": {
   "display_name": "Python 3 (ipykernel)",
   "language": "python",
   "name": "python3"
  },
  "language_info": {
   "codemirror_mode": {
    "name": "ipython",
    "version": 3
   },
   "file_extension": ".py",
   "mimetype": "text/x-python",
   "name": "python",
   "nbconvert_exporter": "python",
   "pygments_lexer": "ipython3",
   "version": "3.10.9"
  },
  "toc": {
   "base_numbering": 1,
   "nav_menu": {},
   "number_sections": true,
   "sideBar": true,
   "skip_h1_title": false,
   "title_cell": "Table of Contents",
   "title_sidebar": "Contents",
   "toc_cell": false,
   "toc_position": {},
   "toc_section_display": true,
   "toc_window_display": false
  }
 },
 "nbformat": 4,
 "nbformat_minor": 5
}
