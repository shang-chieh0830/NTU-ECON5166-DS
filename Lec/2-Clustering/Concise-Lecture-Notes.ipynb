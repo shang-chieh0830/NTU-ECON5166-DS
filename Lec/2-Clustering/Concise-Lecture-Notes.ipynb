{
 "cells": [
  {
   "cell_type": "markdown",
   "id": "cdbcea00",
   "metadata": {},
   "source": [
    "# Clustering"
   ]
  },
  {
   "cell_type": "markdown",
   "id": "922d445b",
   "metadata": {},
   "source": [
    "Goal:\n",
    "\n",
    "- Group similar observations\n",
    "\n",
    "- Ideally, each group is very different.\n",
    "\n",
    "\n",
    "How to generalize to p<2?\n",
    "\n",
    "\n",
    "Algorithm (Bottom-up):\n",
    "\n",
    "1. Calculate pairwise distance\n",
    "\n",
    "2. Fuse the two closest points\n",
    "\n",
    "3. Repeat 1 & 2 until every point is in one group.\n",
    "\n",
    "How to calculate distance between groups?\n",
    "\n",
    "1. Average of all distances between two clusters.\n",
    "\n",
    "2. maximal distance.\n",
    "\n",
    "\n",
    "Dendrogram: a plot with `distance between points fused` as the y-axis and `observation` on the x-axis"
   ]
  },
  {
   "cell_type": "markdown",
   "id": "ef13c2b4",
   "metadata": {},
   "source": [
    "# K-means Clustering"
   ]
  },
  {
   "cell_type": "markdown",
   "id": "69bbac25",
   "metadata": {},
   "source": [
    "Goal:\n",
    "    \n",
    "- find clusterings $C_1, C_2, ...,C_k$ (k clusters), where $C_l \\subset\\{1,2,3,...,k\\}$  \n",
    "\n",
    "- $C_1, C_2, ...,C_k$ is a partition of \\{1,2,...,n\\}, i.e., $C_i\\cap C_j =\\emptyset$ and $C_1\\cup C_2\\cup ...\\cup C_k=\\{1,2,...,n\\}$\n",
    "\n",
    "- every observation is assigned and only assigned to one group.\n",
    "\n",
    "\n",
    "K-means clustering: find optimal $C_1,C_2,...,C_k \\ni \\min \\sum_{l=1}^{k}\\sum_{x_i\\in C_l} ||x_i-\\bar x_l||^2$ where $\\bar x_l=\\frac{1}{n_l}\\sum_{i=1, x_i\\in C_l}^{n_l}x_i$ is called the centroid.\n",
    "\n",
    "\n",
    "Meaning: find clustering such that within-group variation is the smallest.\n",
    "\n",
    "Yet this is a NP-hard combinatorical problem.\n",
    "\n",
    "\n"
   ]
  },
  {
   "cell_type": "markdown",
   "id": "b0c408b6",
   "metadata": {},
   "source": [
    "Solution space = all possible partition $C_1,C_2,...,C_k$ \n",
    "\n",
    "Question: How many possibilities? \n",
    "\n",
    "Answer: $k^n$ since every observations has k choices (n observations and k choices)\n",
    "\n",
    "Hence, this is a combinatorical problem (NP hard)"
   ]
  },
  {
   "cell_type": "markdown",
   "id": "935d06ad",
   "metadata": {},
   "source": [
    "K-means Algorithm:\n",
    "\n",
    "1. Randomly assign points to clusters\n",
    "\n",
    "2. Calculate centroids $\\bar x_1,...,\\bar x_k$\n",
    "\n",
    "3. Re-assign porints to the nearest clusters.\n",
    "\n",
    "Repeat the last two steps until converged.\n",
    "\n",
    "Remark:\n",
    "\n",
    "1. It always converge. But it does not gurantee it's the optimal\n",
    "\n",
    "2. try many time with different initialization."
   ]
  },
  {
   "cell_type": "code",
   "execution_count": null,
   "id": "2158e52b",
   "metadata": {},
   "outputs": [],
   "source": []
  },
  {
   "cell_type": "code",
   "execution_count": null,
   "id": "4535c22a",
   "metadata": {},
   "outputs": [],
   "source": []
  },
  {
   "cell_type": "code",
   "execution_count": null,
   "id": "5326abee",
   "metadata": {},
   "outputs": [],
   "source": []
  }
 ],
 "metadata": {
  "kernelspec": {
   "display_name": "Python 3 (ipykernel)",
   "language": "python",
   "name": "python3"
  },
  "language_info": {
   "codemirror_mode": {
    "name": "ipython",
    "version": 3
   },
   "file_extension": ".py",
   "mimetype": "text/x-python",
   "name": "python",
   "nbconvert_exporter": "python",
   "pygments_lexer": "ipython3",
   "version": "3.10.9"
  },
  "toc": {
   "base_numbering": 1,
   "nav_menu": {},
   "number_sections": true,
   "sideBar": true,
   "skip_h1_title": false,
   "title_cell": "Table of Contents",
   "title_sidebar": "Contents",
   "toc_cell": false,
   "toc_position": {},
   "toc_section_display": true,
   "toc_window_display": false
  }
 },
 "nbformat": 4,
 "nbformat_minor": 5
}
