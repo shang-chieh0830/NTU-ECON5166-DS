{
 "cells": [
  {
   "cell_type": "code",
   "execution_count": 1,
   "id": "24574afa",
   "metadata": {
    "scrolled": true
   },
   "outputs": [
    {
     "name": "stderr",
     "output_type": "stream",
     "text": [
      "/var/folders/kh/sr_tcftj2751w5r2mn48gm1w0000gn/T/ipykernel_1294/3041745546.py:2: UserWarning: \n",
      "The dash_core_components package is deprecated. Please replace\n",
      "`import dash_core_components as dcc` with `from dash import dcc`\n",
      "  import dash_core_components as dcc\n",
      "/var/folders/kh/sr_tcftj2751w5r2mn48gm1w0000gn/T/ipykernel_1294/3041745546.py:3: UserWarning: \n",
      "The dash_html_components package is deprecated. Please replace\n",
      "`import dash_html_components as html` with `from dash import html`\n",
      "  import dash_html_components as html\n"
     ]
    },
    {
     "data": {
      "text/html": [
       "\n",
       "        <iframe\n",
       "            width=\"100%\"\n",
       "            height=\"650\"\n",
       "            src=\"http://127.0.0.1:8050/\"\n",
       "            frameborder=\"0\"\n",
       "            allowfullscreen\n",
       "            \n",
       "        ></iframe>\n",
       "        "
      ],
      "text/plain": [
       "<IPython.lib.display.IFrame at 0x7fa79b06db10>"
      ]
     },
     "metadata": {},
     "output_type": "display_data"
    }
   ],
   "source": [
    "import dash\n",
    "import dash_core_components as dcc\n",
    "import dash_html_components as html\n",
    "from dash.dependencies import Input, Output\n",
    "import web_crawler  # Import my web crawler function\n",
    "import plotly.express as px\n",
    "from datetime import datetime\n",
    "\n",
    "app = dash.Dash(__name__)\n",
    "\n",
    "app.layout = html.Div([\n",
    "    html.H1(children='Hotel Data Dashboard', style={\n",
    "    'textAlign': 'center',\n",
    "    'color': '#BBDFGT',\n",
    "    'margin': '20px 0'  # Adds top and bottom margin\n",
    "    }),\n",
    "\n",
    "    \n",
    "    dcc.Markdown(\"A simple dashboard for hotels data from [booking.com](https://www.booking.com/)\",\n",
    "                     style={\n",
    "                         \"textAlign\": \"center\"\n",
    "                     }\n",
    "    ),\n",
    "\n",
    "    html.Div([\n",
    "        dcc.Markdown('Location:'),\n",
    "        dcc.Input(id='location-input', type='text', placeholder='Enter location', style={\n",
    "            'border': '1px solid #ccc',\n",
    "            'padding': '15px',\n",
    "            'boxShadow': '1px 1px 3px rgba(0,0,0,0.1)'\n",
    "        }),\n",
    "    ]),\n",
    "\n",
    "    html.Div([\n",
    "        dcc.Markdown('Pick Check-in and Check-out Date:'),\n",
    "        dcc.DatePickerRange(\n",
    "            id='date-picker',\n",
    "            start_date=datetime.now().strftime('%Y-%m-%d'),\n",
    "            end_date=None,  # Set end_date to None initially\n",
    "            display_format='YYYY-MM-DD'\n",
    "        ),\n",
    "    ]),\n",
    "\n",
    "    html.Button('Fetch Hotel Data', id='fetch-button', style={\n",
    "    'backgroundColor': '#0074D9',\n",
    "    'color': 'white',\n",
    "    'border': 'none',\n",
    "    'padding': '10px 20px',\n",
    "    'borderRadius': '5px',\n",
    "    'cursor': 'pointer'\n",
    "    }),\n",
    "\n",
    "\n",
    "    dcc.Loading(id=\"loading\", children=[\n",
    "        dcc.Graph(id=\"scatter-plot\"),\n",
    "    ])\n",
    "]) \n",
    "\n",
    "@app.callback(\n",
    "    Output(\"scatter-plot\", \"figure\"),\n",
    "    Input(\"fetch-button\", \"n_clicks\"),\n",
    "    Input(\"location-input\", \"value\"),\n",
    "    Input(\"date-picker\", \"start_date\"),\n",
    "    Input(\"date-picker\", \"end_date\"),\n",
    ")\n",
    "def update_hotel_data(n_clicks, location, start_date, end_date):\n",
    "    if n_clicks is None:\n",
    "        return {}\n",
    "\n",
    "    # Handle the case where end_date is None (not selected)\n",
    "    if end_date is None:\n",
    "        end_date = datetime.now().strftime('%Y-%m-%d')\n",
    "\n",
    "    # Call  web crawler function with user inputs\n",
    "    hotels = web_crawler.get_hotels(location, start_date, end_date)\n",
    "\n",
    "    # Create the scatter plot using Plotly Express\n",
    "    fig = px.scatter(hotels, x='price', y='distance', color='ratings',\n",
    "                     hover_name='name',\n",
    "                     hover_data={'price': True, 'ratings': True})\n",
    "\n",
    "    # Customize the plot\n",
    "    fig.update_traces(marker=dict(size=12, opacity=0.7),\n",
    "                      selector=dict(mode='markers+text'))\n",
    "\n",
    "    # Add titles and labels\n",
    "    fig.update_layout(\n",
    "        title='Hotel Prices vs. Distance from Center',\n",
    "        xaxis_title='Price',\n",
    "        yaxis_title='Distance from Center (kilometers)'\n",
    "    )\n",
    "\n",
    "    return fig\n",
    "\n",
    "if __name__ == '__main__':\n",
    "    app.run_server(debug=True)\n"
   ]
  }
 ],
 "metadata": {
  "@webio": {
   "lastCommId": null,
   "lastKernelId": null
  },
  "kernelspec": {
   "display_name": "Python 3 (ipykernel)",
   "language": "python",
   "name": "python3"
  },
  "language_info": {
   "codemirror_mode": {
    "name": "ipython",
    "version": 3
   },
   "file_extension": ".py",
   "mimetype": "text/x-python",
   "name": "python",
   "nbconvert_exporter": "python",
   "pygments_lexer": "ipython3",
   "version": "3.10.9"
  },
  "toc": {
   "base_numbering": 1,
   "nav_menu": {},
   "number_sections": true,
   "sideBar": true,
   "skip_h1_title": false,
   "title_cell": "Table of Contents",
   "title_sidebar": "Contents",
   "toc_cell": false,
   "toc_position": {},
   "toc_section_display": true,
   "toc_window_display": false
  }
 },
 "nbformat": 4,
 "nbformat_minor": 5
}
