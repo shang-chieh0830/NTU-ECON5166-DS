{
 "cells": [
  {
   "cell_type": "markdown",
   "id": "2648faa8",
   "metadata": {},
   "source": [
    "__Steps:__ \n",
    "\n",
    "- __Initialization__\n",
    "\n",
    "  Initialize a new folder and a Git repository within it. Name the folder using your student ID.\n",
    "     \n",
    "- __Web Crawling__\n",
    "\n",
    "  Write a web crawler to fetch data from [booking.com](https://www.booking.com/index.zh-tw.html?label=gen173nr-1DCAEoggI46AdIM1gEaOcBiAEBmAEwuAEHyAEN2AED6AEBiAIBqAIDuALnxKuoBsACAdICJDc3MGNmMGE5LTdlYTAtNDMyZS1iM2Y4LTNiMzI5NDZkYTMxZNgCBOACAQ&sid=d2bbb0e0a1dbbf961b544750b10edeb5&keep_landing=1&sb_price_type=total&). Implement a function that takes `location`, `check-in date`, and `check-out date` as inputs and returns a DataFrame containing hotel details like `name`, `location`, `price`, `rating`, `distance`, and `comments`. Commit this notebook to your Git repository with a clear commit message.\n",
    "\n",
    "- __Data Cleaning__\n",
    "\n",
    "  After scraping, ensure data types are correctly formatted: `price` as integer, `rating` as float, `comment` as string, and `distance` in kilometers (as a float).\n",
    "  \n",
    "- __Data Visualization__\n",
    "\n",
    "  Use `Plotly` to visualize the data in `web_crawler.ipynb`. The scatter plot should have the `price` on the x-axis and `distance from the center` on the y-axis, color-coded by `ratings`. Commit the updated notebook to Git (with message).\n"
   ]
  },
  {
   "cell_type": "code",
   "execution_count": 92,
   "id": "2bd3f69e",
   "metadata": {},
   "outputs": [
    {
     "data": {
      "text/html": [
       "<div>\n",
       "<style scoped>\n",
       "    .dataframe tbody tr th:only-of-type {\n",
       "        vertical-align: middle;\n",
       "    }\n",
       "\n",
       "    .dataframe tbody tr th {\n",
       "        vertical-align: top;\n",
       "    }\n",
       "\n",
       "    .dataframe thead th {\n",
       "        text-align: right;\n",
       "    }\n",
       "</style>\n",
       "<table border=\"1\" class=\"dataframe\">\n",
       "  <thead>\n",
       "    <tr style=\"text-align: right;\">\n",
       "      <th></th>\n",
       "      <th>name</th>\n",
       "      <th>location</th>\n",
       "      <th>price</th>\n",
       "      <th>ratings</th>\n",
       "      <th>distance</th>\n",
       "      <th>comments</th>\n",
       "    </tr>\n",
       "  </thead>\n",
       "  <tbody>\n",
       "    <tr>\n",
       "      <th>0</th>\n",
       "      <td>地熱旅居露營車</td>\n",
       "      <td>Ta-hsi</td>\n",
       "      <td>5611</td>\n",
       "      <td>9.3</td>\n",
       "      <td>None</td>\n",
       "      <td>好極了</td>\n",
       "    </tr>\n",
       "    <tr>\n",
       "      <th>1</th>\n",
       "      <td>布魯懷特</td>\n",
       "      <td>五結鄉</td>\n",
       "      <td>5184</td>\n",
       "      <td>9.0</td>\n",
       "      <td>None</td>\n",
       "      <td>好極了</td>\n",
       "    </tr>\n",
       "    <tr>\n",
       "      <th>2</th>\n",
       "      <td>天使星夢渡假村</td>\n",
       "      <td>冬山鄉</td>\n",
       "      <td>11111</td>\n",
       "      <td>8.5</td>\n",
       "      <td>None</td>\n",
       "      <td>非常好</td>\n",
       "    </tr>\n",
       "    <tr>\n",
       "      <th>3</th>\n",
       "      <td>沐恩國際溫泉渡假飯店</td>\n",
       "      <td>礁溪鄉</td>\n",
       "      <td>10758</td>\n",
       "      <td>8.0</td>\n",
       "      <td>None</td>\n",
       "      <td>非常好</td>\n",
       "    </tr>\n",
       "    <tr>\n",
       "      <th>4</th>\n",
       "      <td>沐恩遠東溫泉渡假飯店</td>\n",
       "      <td>礁溪鄉</td>\n",
       "      <td>12778</td>\n",
       "      <td>8.2</td>\n",
       "      <td>None</td>\n",
       "      <td>非常好</td>\n",
       "    </tr>\n",
       "    <tr>\n",
       "      <th>5</th>\n",
       "      <td>宜蘭力麗威斯汀度假酒店</td>\n",
       "      <td>員山鄉</td>\n",
       "      <td>17091</td>\n",
       "      <td>8.5</td>\n",
       "      <td>None</td>\n",
       "      <td>非常好</td>\n",
       "    </tr>\n",
       "    <tr>\n",
       "      <th>6</th>\n",
       "      <td>洛卡斯</td>\n",
       "      <td>大同</td>\n",
       "      <td>15162</td>\n",
       "      <td>8.1</td>\n",
       "      <td>None</td>\n",
       "      <td>非常好</td>\n",
       "    </tr>\n",
       "    <tr>\n",
       "      <th>7</th>\n",
       "      <td>蘇澳大飯店</td>\n",
       "      <td>蘇澳鎮</td>\n",
       "      <td>3010</td>\n",
       "      <td>7.5</td>\n",
       "      <td>None</td>\n",
       "      <td>好</td>\n",
       "    </tr>\n",
       "    <tr>\n",
       "      <th>8</th>\n",
       "      <td>藏闊渡假會館</td>\n",
       "      <td>五結鄉</td>\n",
       "      <td>5980</td>\n",
       "      <td>8.8</td>\n",
       "      <td>None</td>\n",
       "      <td>很棒</td>\n",
       "    </tr>\n",
       "    <tr>\n",
       "      <th>9</th>\n",
       "      <td>如沐咖啡旅宿</td>\n",
       "      <td>行健村</td>\n",
       "      <td>6300</td>\n",
       "      <td>9.4</td>\n",
       "      <td>None</td>\n",
       "      <td>好極了</td>\n",
       "    </tr>\n",
       "    <tr>\n",
       "      <th>10</th>\n",
       "      <td>晶泉丰旅</td>\n",
       "      <td>礁溪鄉</td>\n",
       "      <td>12398</td>\n",
       "      <td>8.5</td>\n",
       "      <td>None</td>\n",
       "      <td>非常好</td>\n",
       "    </tr>\n",
       "    <tr>\n",
       "      <th>11</th>\n",
       "      <td>Toucheng Homestay</td>\n",
       "      <td>頭城</td>\n",
       "      <td>1710</td>\n",
       "      <td>8.9</td>\n",
       "      <td>None</td>\n",
       "      <td>很棒</td>\n",
       "    </tr>\n",
       "    <tr>\n",
       "      <th>12</th>\n",
       "      <td>Happiness Yes Inn</td>\n",
       "      <td>羅東鎮</td>\n",
       "      <td>2147</td>\n",
       "      <td>8.4</td>\n",
       "      <td>None</td>\n",
       "      <td>非常好</td>\n",
       "    </tr>\n",
       "    <tr>\n",
       "      <th>13</th>\n",
       "      <td>宜蘭富翔大飯店</td>\n",
       "      <td>宜蘭市</td>\n",
       "      <td>3819</td>\n",
       "      <td>7.8</td>\n",
       "      <td>None</td>\n",
       "      <td>好</td>\n",
       "    </tr>\n",
       "    <tr>\n",
       "      <th>14</th>\n",
       "      <td>松風文旅</td>\n",
       "      <td>五結鄉</td>\n",
       "      <td>8400</td>\n",
       "      <td>8.7</td>\n",
       "      <td>None</td>\n",
       "      <td>很棒</td>\n",
       "    </tr>\n",
       "    <tr>\n",
       "      <th>15</th>\n",
       "      <td>葛瑪蘭溫泉飯店</td>\n",
       "      <td>礁溪鄉</td>\n",
       "      <td>9563</td>\n",
       "      <td>8.6</td>\n",
       "      <td>None</td>\n",
       "      <td>很棒</td>\n",
       "    </tr>\n",
       "    <tr>\n",
       "      <th>16</th>\n",
       "      <td>風華渡假酒店-礁溪館</td>\n",
       "      <td>礁溪鄉</td>\n",
       "      <td>12600</td>\n",
       "      <td>8.7</td>\n",
       "      <td>None</td>\n",
       "      <td>很棒</td>\n",
       "    </tr>\n",
       "    <tr>\n",
       "      <th>17</th>\n",
       "      <td>波卡拉渡假會館</td>\n",
       "      <td>礁溪鄉</td>\n",
       "      <td>6035</td>\n",
       "      <td>8.2</td>\n",
       "      <td>None</td>\n",
       "      <td>非常好</td>\n",
       "    </tr>\n",
       "    <tr>\n",
       "      <th>18</th>\n",
       "      <td>夜市橙堡渡假旅館</td>\n",
       "      <td>宜蘭市</td>\n",
       "      <td>3264</td>\n",
       "      <td>8.5</td>\n",
       "      <td>None</td>\n",
       "      <td>非常好</td>\n",
       "    </tr>\n",
       "    <tr>\n",
       "      <th>19</th>\n",
       "      <td>山形閣</td>\n",
       "      <td>礁溪鄉</td>\n",
       "      <td>16740</td>\n",
       "      <td>9.2</td>\n",
       "      <td>None</td>\n",
       "      <td>好極了</td>\n",
       "    </tr>\n",
       "    <tr>\n",
       "      <th>20</th>\n",
       "      <td>煙波大飯店宜蘭館</td>\n",
       "      <td>宜蘭市</td>\n",
       "      <td>7838</td>\n",
       "      <td>8.6</td>\n",
       "      <td>None</td>\n",
       "      <td>很棒</td>\n",
       "    </tr>\n",
       "    <tr>\n",
       "      <th>21</th>\n",
       "      <td>朗居文旅</td>\n",
       "      <td>頭城</td>\n",
       "      <td>5645</td>\n",
       "      <td>8.3</td>\n",
       "      <td>None</td>\n",
       "      <td>非常好</td>\n",
       "    </tr>\n",
       "    <tr>\n",
       "      <th>22</th>\n",
       "      <td>山水商務飯店</td>\n",
       "      <td>羅東鎮</td>\n",
       "      <td>3960</td>\n",
       "      <td>7.8</td>\n",
       "      <td>None</td>\n",
       "      <td>好</td>\n",
       "    </tr>\n",
       "    <tr>\n",
       "      <th>23</th>\n",
       "      <td>蘭陽烏石港海景酒店</td>\n",
       "      <td>頭城</td>\n",
       "      <td>9796</td>\n",
       "      <td>8.2</td>\n",
       "      <td>None</td>\n",
       "      <td>非常好</td>\n",
       "    </tr>\n",
       "    <tr>\n",
       "      <th>24</th>\n",
       "      <td>雷院子民宿</td>\n",
       "      <td>行健村</td>\n",
       "      <td>8640</td>\n",
       "      <td>9.2</td>\n",
       "      <td>None</td>\n",
       "      <td>好極了</td>\n",
       "    </tr>\n",
       "    <tr>\n",
       "      <th>25</th>\n",
       "      <td>Happiness Yes Inn</td>\n",
       "      <td>羅東鎮</td>\n",
       "      <td>2147</td>\n",
       "      <td>8.4</td>\n",
       "      <td>None</td>\n",
       "      <td>非常好</td>\n",
       "    </tr>\n",
       "    <tr>\n",
       "      <th>26</th>\n",
       "      <td>宜蘭溫泉海景冉冉拾光</td>\n",
       "      <td>頭城</td>\n",
       "      <td>7960</td>\n",
       "      <td>9.3</td>\n",
       "      <td>None</td>\n",
       "      <td>好極了</td>\n",
       "    </tr>\n",
       "    <tr>\n",
       "      <th>27</th>\n",
       "      <td>杜拜時尚戀館</td>\n",
       "      <td>宜蘭市</td>\n",
       "      <td>4560</td>\n",
       "      <td>7.7</td>\n",
       "      <td>None</td>\n",
       "      <td>好</td>\n",
       "    </tr>\n",
       "    <tr>\n",
       "      <th>28</th>\n",
       "      <td>Toucheng Homestay</td>\n",
       "      <td>頭城</td>\n",
       "      <td>1710</td>\n",
       "      <td>8.9</td>\n",
       "      <td>None</td>\n",
       "      <td>很棒</td>\n",
       "    </tr>\n",
       "    <tr>\n",
       "      <th>29</th>\n",
       "      <td>風箏小木屋</td>\n",
       "      <td>冬山鄉</td>\n",
       "      <td>5600</td>\n",
       "      <td>8.5</td>\n",
       "      <td>None</td>\n",
       "      <td>非常好</td>\n",
       "    </tr>\n",
       "    <tr>\n",
       "      <th>30</th>\n",
       "      <td>古舍古鄉</td>\n",
       "      <td>三星鄉</td>\n",
       "      <td>4400</td>\n",
       "      <td>9.0</td>\n",
       "      <td>None</td>\n",
       "      <td>好極了</td>\n",
       "    </tr>\n",
       "    <tr>\n",
       "      <th>31</th>\n",
       "      <td>第五季鄉野別墅</td>\n",
       "      <td>五結鄉</td>\n",
       "      <td>4400</td>\n",
       "      <td>8.8</td>\n",
       "      <td>None</td>\n",
       "      <td>很棒</td>\n",
       "    </tr>\n",
       "    <tr>\n",
       "      <th>32</th>\n",
       "      <td>自由天地民宿</td>\n",
       "      <td>五結鄉</td>\n",
       "      <td>2000</td>\n",
       "      <td>8.1</td>\n",
       "      <td>None</td>\n",
       "      <td>非常好</td>\n",
       "    </tr>\n",
       "    <tr>\n",
       "      <th>33</th>\n",
       "      <td>宜蘭富翔大飯店</td>\n",
       "      <td>宜蘭市</td>\n",
       "      <td>3819</td>\n",
       "      <td>7.8</td>\n",
       "      <td>None</td>\n",
       "      <td>好</td>\n",
       "    </tr>\n",
       "    <tr>\n",
       "      <th>34</th>\n",
       "      <td>松風文旅</td>\n",
       "      <td>五結鄉</td>\n",
       "      <td>8400</td>\n",
       "      <td>8.7</td>\n",
       "      <td>None</td>\n",
       "      <td>很棒</td>\n",
       "    </tr>\n",
       "    <tr>\n",
       "      <th>35</th>\n",
       "      <td>羅東夜市坦智能旅店</td>\n",
       "      <td>羅東鎮</td>\n",
       "      <td>5000</td>\n",
       "      <td>8.1</td>\n",
       "      <td>None</td>\n",
       "      <td>非常好</td>\n",
       "    </tr>\n",
       "    <tr>\n",
       "      <th>36</th>\n",
       "      <td>境安樂活民宿</td>\n",
       "      <td>冬山鄉</td>\n",
       "      <td>3200</td>\n",
       "      <td>8.7</td>\n",
       "      <td>None</td>\n",
       "      <td>很棒</td>\n",
       "    </tr>\n",
       "    <tr>\n",
       "      <th>37</th>\n",
       "      <td>川岸空中Villa</td>\n",
       "      <td>羅東鎮</td>\n",
       "      <td>5360</td>\n",
       "      <td>9.7</td>\n",
       "      <td>None</td>\n",
       "      <td>傑出</td>\n",
       "    </tr>\n",
       "    <tr>\n",
       "      <th>38</th>\n",
       "      <td>驛墅家水岸行館</td>\n",
       "      <td>五結鄉</td>\n",
       "      <td>3960</td>\n",
       "      <td>9.0</td>\n",
       "      <td>None</td>\n",
       "      <td>好極了</td>\n",
       "    </tr>\n",
       "    <tr>\n",
       "      <th>39</th>\n",
       "      <td>LanCheng Le Petit Voy</td>\n",
       "      <td>冬山鄉</td>\n",
       "      <td>2780</td>\n",
       "      <td>8.7</td>\n",
       "      <td>None</td>\n",
       "      <td>很棒</td>\n",
       "    </tr>\n",
       "    <tr>\n",
       "      <th>40</th>\n",
       "      <td>Hostel Tomato 番茄溫泉青旅</td>\n",
       "      <td>礁溪鄉</td>\n",
       "      <td>4460</td>\n",
       "      <td>9.1</td>\n",
       "      <td>None</td>\n",
       "      <td>好極了</td>\n",
       "    </tr>\n",
       "    <tr>\n",
       "      <th>41</th>\n",
       "      <td>1919背包客棧</td>\n",
       "      <td>宜蘭市</td>\n",
       "      <td>2880</td>\n",
       "      <td>8.7</td>\n",
       "      <td>None</td>\n",
       "      <td>很棒</td>\n",
       "    </tr>\n",
       "    <tr>\n",
       "      <th>42</th>\n",
       "      <td>快樂幾迷會館</td>\n",
       "      <td>宜蘭市</td>\n",
       "      <td>3660</td>\n",
       "      <td>8.0</td>\n",
       "      <td>None</td>\n",
       "      <td>非常好</td>\n",
       "    </tr>\n",
       "    <tr>\n",
       "      <th>43</th>\n",
       "      <td>村却國際溫泉酒店</td>\n",
       "      <td>羅東鎮</td>\n",
       "      <td>17883</td>\n",
       "      <td>7.9</td>\n",
       "      <td>None</td>\n",
       "      <td>好</td>\n",
       "    </tr>\n",
       "    <tr>\n",
       "      <th>44</th>\n",
       "      <td>礁溪21溫泉旅店</td>\n",
       "      <td>礁溪鄉</td>\n",
       "      <td>4100</td>\n",
       "      <td>8.3</td>\n",
       "      <td>None</td>\n",
       "      <td>非常好</td>\n",
       "    </tr>\n",
       "    <tr>\n",
       "      <th>45</th>\n",
       "      <td>葛瑪蘭溫泉飯店</td>\n",
       "      <td>礁溪鄉</td>\n",
       "      <td>9563</td>\n",
       "      <td>8.6</td>\n",
       "      <td>None</td>\n",
       "      <td>很棒</td>\n",
       "    </tr>\n",
       "    <tr>\n",
       "      <th>46</th>\n",
       "      <td>佇沐</td>\n",
       "      <td>行健村</td>\n",
       "      <td>7960</td>\n",
       "      <td>9.6</td>\n",
       "      <td>None</td>\n",
       "      <td>傑出</td>\n",
       "    </tr>\n",
       "    <tr>\n",
       "      <th>47</th>\n",
       "      <td>坦克文旅</td>\n",
       "      <td>羅東鎮</td>\n",
       "      <td>3600</td>\n",
       "      <td>8.4</td>\n",
       "      <td>None</td>\n",
       "      <td>非常好</td>\n",
       "    </tr>\n",
       "    <tr>\n",
       "      <th>48</th>\n",
       "      <td>布魯懷特</td>\n",
       "      <td>五結鄉</td>\n",
       "      <td>5760</td>\n",
       "      <td>9.0</td>\n",
       "      <td>None</td>\n",
       "      <td>好極了</td>\n",
       "    </tr>\n",
       "    <tr>\n",
       "      <th>49</th>\n",
       "      <td>宜蘭雅廬景觀渡假別墅</td>\n",
       "      <td>大同</td>\n",
       "      <td>7600</td>\n",
       "      <td>8.7</td>\n",
       "      <td>None</td>\n",
       "      <td>很棒</td>\n",
       "    </tr>\n",
       "    <tr>\n",
       "      <th>50</th>\n",
       "      <td>行口文旅</td>\n",
       "      <td>宜蘭市</td>\n",
       "      <td>5600</td>\n",
       "      <td>8.9</td>\n",
       "      <td>None</td>\n",
       "      <td>很棒</td>\n",
       "    </tr>\n",
       "    <tr>\n",
       "      <th>51</th>\n",
       "      <td>若水溫泉旅館</td>\n",
       "      <td>礁溪鄉</td>\n",
       "      <td>7360</td>\n",
       "      <td>8.0</td>\n",
       "      <td>None</td>\n",
       "      <td>非常好</td>\n",
       "    </tr>\n",
       "    <tr>\n",
       "      <th>52</th>\n",
       "      <td>烏石港 OA HOTEL</td>\n",
       "      <td>頭城</td>\n",
       "      <td>7600</td>\n",
       "      <td>8.4</td>\n",
       "      <td>None</td>\n",
       "      <td>非常好</td>\n",
       "    </tr>\n",
       "    <tr>\n",
       "      <th>53</th>\n",
       "      <td>幸福之鄉溫泉旅館</td>\n",
       "      <td>礁溪鄉</td>\n",
       "      <td>7593</td>\n",
       "      <td>9.1</td>\n",
       "      <td>None</td>\n",
       "      <td>好極了</td>\n",
       "    </tr>\n",
       "    <tr>\n",
       "      <th>54</th>\n",
       "      <td>快樂糖 Happy Time 宜蘭包棟民宿</td>\n",
       "      <td>三星鄉</td>\n",
       "      <td>18000</td>\n",
       "      <td>9.4</td>\n",
       "      <td>None</td>\n",
       "      <td>好極了</td>\n",
       "    </tr>\n",
       "    <tr>\n",
       "      <th>55</th>\n",
       "      <td>睏睏的</td>\n",
       "      <td>羅東鎮</td>\n",
       "      <td>3400</td>\n",
       "      <td>8.3</td>\n",
       "      <td>None</td>\n",
       "      <td>非常好</td>\n",
       "    </tr>\n",
       "    <tr>\n",
       "      <th>56</th>\n",
       "      <td>來dua頭城</td>\n",
       "      <td>頭城</td>\n",
       "      <td>6600</td>\n",
       "      <td>8.9</td>\n",
       "      <td>None</td>\n",
       "      <td>很棒</td>\n",
       "    </tr>\n",
       "    <tr>\n",
       "      <th>57</th>\n",
       "      <td>明池山莊</td>\n",
       "      <td>大同</td>\n",
       "      <td>6660</td>\n",
       "      <td>7.2</td>\n",
       "      <td>None</td>\n",
       "      <td>好</td>\n",
       "    </tr>\n",
       "    <tr>\n",
       "      <th>58</th>\n",
       "      <td>Buluba - 眺望</td>\n",
       "      <td>員山鄉</td>\n",
       "      <td>6400</td>\n",
       "      <td>9.3</td>\n",
       "      <td>None</td>\n",
       "      <td>好極了</td>\n",
       "    </tr>\n",
       "    <tr>\n",
       "      <th>59</th>\n",
       "      <td>馬妞行旅 夢雲閣</td>\n",
       "      <td>礁溪鄉</td>\n",
       "      <td>3192</td>\n",
       "      <td>8.1</td>\n",
       "      <td>None</td>\n",
       "      <td>非常好</td>\n",
       "    </tr>\n",
       "  </tbody>\n",
       "</table>\n",
       "</div>"
      ],
      "text/plain": [
       "                     name location  price  ratings distance comments\n",
       "0                 地熱旅居露營車   Ta-hsi   5611      9.3     None     好極了 \n",
       "1                    布魯懷特      五結鄉   5184      9.0     None     好極了 \n",
       "2                 天使星夢渡假村      冬山鄉  11111      8.5     None     非常好 \n",
       "3              沐恩國際溫泉渡假飯店      礁溪鄉  10758      8.0     None     非常好 \n",
       "4              沐恩遠東溫泉渡假飯店      礁溪鄉  12778      8.2     None     非常好 \n",
       "5             宜蘭力麗威斯汀度假酒店      員山鄉  17091      8.5     None     非常好 \n",
       "6                     洛卡斯       大同  15162      8.1     None     非常好 \n",
       "7                   蘇澳大飯店      蘇澳鎮   3010      7.5     None       好 \n",
       "8                  藏闊渡假會館      五結鄉   5980      8.8     None      很棒 \n",
       "9                  如沐咖啡旅宿      行健村   6300      9.4     None     好極了 \n",
       "10                   晶泉丰旅      礁溪鄉  12398      8.5     None     非常好 \n",
       "11      Toucheng Homestay       頭城   1710      8.9     None      很棒 \n",
       "12      Happiness Yes Inn      羅東鎮   2147      8.4     None     非常好 \n",
       "13                宜蘭富翔大飯店      宜蘭市   3819      7.8     None       好 \n",
       "14                   松風文旅      五結鄉   8400      8.7     None      很棒 \n",
       "15                葛瑪蘭溫泉飯店      礁溪鄉   9563      8.6     None      很棒 \n",
       "16             風華渡假酒店-礁溪館      礁溪鄉  12600      8.7     None      很棒 \n",
       "17                波卡拉渡假會館      礁溪鄉   6035      8.2     None     非常好 \n",
       "18               夜市橙堡渡假旅館      宜蘭市   3264      8.5     None     非常好 \n",
       "19                    山形閣      礁溪鄉  16740      9.2     None     好極了 \n",
       "20               煙波大飯店宜蘭館      宜蘭市   7838      8.6     None      很棒 \n",
       "21                   朗居文旅       頭城   5645      8.3     None     非常好 \n",
       "22                 山水商務飯店      羅東鎮   3960      7.8     None       好 \n",
       "23              蘭陽烏石港海景酒店       頭城   9796      8.2     None     非常好 \n",
       "24                  雷院子民宿      行健村   8640      9.2     None     好極了 \n",
       "25      Happiness Yes Inn      羅東鎮   2147      8.4     None     非常好 \n",
       "26             宜蘭溫泉海景冉冉拾光       頭城   7960      9.3     None     好極了 \n",
       "27                 杜拜時尚戀館      宜蘭市   4560      7.7     None       好 \n",
       "28      Toucheng Homestay       頭城   1710      8.9     None      很棒 \n",
       "29                  風箏小木屋      冬山鄉   5600      8.5     None     非常好 \n",
       "30                   古舍古鄉      三星鄉   4400      9.0     None     好極了 \n",
       "31                第五季鄉野別墅      五結鄉   4400      8.8     None      很棒 \n",
       "32                 自由天地民宿      五結鄉   2000      8.1     None     非常好 \n",
       "33                宜蘭富翔大飯店      宜蘭市   3819      7.8     None       好 \n",
       "34                   松風文旅      五結鄉   8400      8.7     None      很棒 \n",
       "35              羅東夜市坦智能旅店      羅東鎮   5000      8.1     None     非常好 \n",
       "36                 境安樂活民宿      冬山鄉   3200      8.7     None      很棒 \n",
       "37              川岸空中Villa      羅東鎮   5360      9.7     None      傑出 \n",
       "38                驛墅家水岸行館      五結鄉   3960      9.0     None     好極了 \n",
       "39  LanCheng Le Petit Voy      冬山鄉   2780      8.7     None      很棒 \n",
       "40   Hostel Tomato 番茄溫泉青旅      礁溪鄉   4460      9.1     None     好極了 \n",
       "41               1919背包客棧      宜蘭市   2880      8.7     None      很棒 \n",
       "42                 快樂幾迷會館      宜蘭市   3660      8.0     None     非常好 \n",
       "43               村却國際溫泉酒店      羅東鎮  17883      7.9     None       好 \n",
       "44               礁溪21溫泉旅店      礁溪鄉   4100      8.3     None     非常好 \n",
       "45                葛瑪蘭溫泉飯店      礁溪鄉   9563      8.6     None      很棒 \n",
       "46                     佇沐      行健村   7960      9.6     None      傑出 \n",
       "47                   坦克文旅      羅東鎮   3600      8.4     None     非常好 \n",
       "48                   布魯懷特      五結鄉   5760      9.0     None     好極了 \n",
       "49             宜蘭雅廬景觀渡假別墅       大同   7600      8.7     None      很棒 \n",
       "50                   行口文旅      宜蘭市   5600      8.9     None      很棒 \n",
       "51                 若水溫泉旅館      礁溪鄉   7360      8.0     None     非常好 \n",
       "52           烏石港 OA HOTEL       頭城   7600      8.4     None     非常好 \n",
       "53               幸福之鄉溫泉旅館      礁溪鄉   7593      9.1     None     好極了 \n",
       "54  快樂糖 Happy Time 宜蘭包棟民宿      三星鄉  18000      9.4     None     好極了 \n",
       "55                    睏睏的      羅東鎮   3400      8.3     None     非常好 \n",
       "56                 來dua頭城       頭城   6600      8.9     None      很棒 \n",
       "57                   明池山莊       大同   6660      7.2     None       好 \n",
       "58            Buluba - 眺望      員山鄉   6400      9.3     None     好極了 \n",
       "59               馬妞行旅 夢雲閣      礁溪鄉   3192      8.1     None     非常好 "
      ]
     },
     "execution_count": 92,
     "metadata": {},
     "output_type": "execute_result"
    }
   ],
   "source": [
    "import pandas as pd\n",
    "import requests as rq\n",
    "from bs4 import BeautifulSoup as bs\n",
    "from urllib import parse\n",
    "import re\n",
    "\n",
    "def get_hotels(location, checkin, checkout, num_results=100):\n",
    "    string = \"https://www.booking.com/searchresults.zh-tw.html?\"\n",
    "    headers = {\n",
    "        \"User-Agent\": \"Mozilla/5.0 (Macintosh; Intel Mac OS X 10_15_7) AppleWebKit/605.1.15 (KHTML, like Gecko) Version/17.0 Safari/605.1.15\"\n",
    "    }\n",
    "\n",
    "    # Initialize an empty DataFrame with columns\n",
    "    columns = [\"name\", \"location\", \"price\", \"ratings\", \"distance\", \"comments\"]\n",
    "    hotels = pd.DataFrame(columns=columns)\n",
    "\n",
    "    offset = 0\n",
    "    while len(hotels) < num_results:\n",
    "        query = {\n",
    "            \"ss\": location,\n",
    "            \"checkin\": checkin,\n",
    "            \"checkout\": checkout,\n",
    "            \"offset\": offset\n",
    "        }\n",
    "\n",
    "        \n",
    "        url = string + parse.urlencode(query)\n",
    "        #print(f\"Currently searching for {url}\")\n",
    "        \n",
    "        res = rq.get(url, headers=headers)\n",
    "        #print(f\"The status code is {res.status_code}\")\n",
    "        \n",
    "        soup = bs(res.text, 'html.parser')\n",
    "        #if offset == 0:\n",
    "        #    print(soup.select('h1.f6431b446c.d5f78961c3')[0].text.strip())\n",
    "        \n",
    "        offset += 25\n",
    "    \n",
    "            \n",
    "        ratings_data = [rating.text.strip() for rating in soup.select('div.aca0ade214.a5f1aae5b2.cd2e7d62b0')]\n",
    "        if not ratings_data: #沒資料就break\n",
    "            break\n",
    "        \n",
    "        # Initialize a new temp DataFrame for each loop iteration\n",
    "        temp_df = pd.DataFrame(columns=columns)\n",
    "\n",
    "        # Extract the data from the list and add it to the temp DataFrame\n",
    "        for item in ratings_data[1:51:2]:\n",
    "            # Use regular expression to extract ratings and comments      \n",
    "            match = re.match(r'(\\d\\.\\d)(\\D+)(\\d*,?\\d+\\s則評語).*', item)\n",
    "            if match:\n",
    "                rating, comment_text, _ = match.groups()\n",
    "            else:\n",
    "                rating = None\n",
    "                comment_text = None\n",
    "                \n",
    "            temp_df.loc[len(temp_df)] = [None, None, None, rating, None, comment_text]\n",
    "\n",
    "            \n",
    "        temp_df[\"name\"] = [name.text.strip() for name in soup.select('div[data-testid=\"title\"].f6431b446c.a15b38c233')]\n",
    "        temp_df[\"location\"] = [location.text.strip() for location in soup.select('span.aee5343fdb.def9bc142a[data-testid=\"address\"]')]\n",
    "        temp_df[\"price\"] = [price.text.strip() for price in soup.select(\"span.f6431b446c.fbfd7c1165.e84eb96b1f\")]\n",
    "        if soup.select('span[aria-expanded=\"false\"][data-testid=\"distance\"]'):\n",
    "            temp_df[\"distance\"] = [distance.text.strip() for distance in soup.select('span[aria-expanded=\"false\"][data-testid=\"distance\"]')]\n",
    "\n",
    "        # Append temp_df to the main DataFrame hotels_df\n",
    "        hotels = pd.concat([hotels, temp_df], ignore_index=True)\n",
    "        \n",
    "    hotels['price'] = hotels['price'].str.replace('TWD', '').str.replace(',', '').astype(int)\n",
    "    hotels[\"ratings\"] = hotels[\"ratings\"].astype(float)\n",
    "    hotels[\"comments\"] = hotels[\"comments\"].astype(str)\n",
    "    hotels['distance'] = hotels['distance'].apply(lambda x: None if x is None else (float(x.replace('距中心 ', '').split(' ')[0]) / 1000) if '公尺' in x else float(x.replace('距中心 ', '').split(' ')[0]))\n",
    "    return hotels[:num_results]\n",
    "\n",
    "\n",
    "hotels = get_hotels(\"宜蘭\", \"2023-12-10\", \"2023-12-12\", num_results=60)\n",
    "\n",
    "hotels\n",
    "\n",
    "\n",
    "\n"
   ]
  },
  {
   "cell_type": "code",
   "execution_count": 91,
   "id": "8f6f8a99",
   "metadata": {},
   "outputs": [
    {
     "data": {
      "application/vnd.plotly.v1+json": {
       "config": {
        "plotlyServerURL": "https://plot.ly"
       },
       "data": [
        {
         "customdata": [
          [
           9.3
          ],
          [
           9
          ],
          [
           8.5
          ],
          [
           8
          ],
          [
           8.2
          ],
          [
           8.5
          ],
          [
           8.1
          ],
          [
           7.5
          ],
          [
           8.8
          ],
          [
           9.4
          ],
          [
           8.5
          ],
          [
           8.4
          ],
          [
           8.9
          ],
          [
           7.8
          ],
          [
           8.7
          ],
          [
           8.6
          ],
          [
           8.2
          ],
          [
           8.7
          ],
          [
           9.2
          ],
          [
           8.6
          ],
          [
           8.5
          ],
          [
           8.3
          ],
          [
           7.8
          ],
          [
           8.2
          ],
          [
           9.2
          ],
          [
           8.3
          ],
          [
           null
          ],
          [
           null
          ],
          [
           null
          ],
          [
           null
          ],
          [
           null
          ],
          [
           null
          ],
          [
           null
          ],
          [
           null
          ],
          [
           null
          ],
          [
           null
          ],
          [
           null
          ],
          [
           null
          ],
          [
           null
          ],
          [
           null
          ],
          [
           null
          ],
          [
           null
          ],
          [
           null
          ],
          [
           null
          ],
          [
           null
          ],
          [
           null
          ],
          [
           null
          ],
          [
           null
          ],
          [
           null
          ],
          [
           null
          ],
          [
           8
          ],
          [
           9.4
          ],
          [
           8.9
          ],
          [
           9.1
          ],
          [
           9.4
          ],
          [
           8.3
          ],
          [
           8.9
          ],
          [
           7.2
          ],
          [
           9.3
          ],
          [
           8.1
          ]
         ],
         "hovertemplate": "<b>%{hovertext}</b><br><br>price=%{x}<br>distance=%{y}<br>ratings=%{marker.color}<extra></extra>",
         "hovertext": [
          "地熱旅居露營車",
          "布魯懷特",
          "天使星夢渡假村",
          "沐恩國際溫泉渡假飯店",
          "沐恩遠東溫泉渡假飯店",
          "宜蘭力麗威斯汀度假酒店",
          "洛卡斯",
          "蘇澳大飯店",
          "藏闊渡假會館",
          "如沐咖啡旅宿",
          "晶泉丰旅",
          "Happiness Yes Inn",
          "Toucheng Homestay",
          "宜蘭富翔大飯店",
          "松風文旅",
          "葛瑪蘭溫泉飯店",
          "波卡拉渡假會館",
          "風華渡假酒店-礁溪館",
          "山形閣",
          "煙波大飯店宜蘭館",
          "夜市橙堡渡假旅館",
          "朗居文旅",
          "山水商務飯店",
          "蘭陽烏石港海景酒店",
          "雷院子民宿",
          "捷絲旅宜蘭礁溪館",
          "安禾嚼旅",
          "伯斯飯店",
          "中天溫泉渡假飯店",
          "土圍192民宿",
          "瑞德童話藝宿商旅",
          "慕夏精品旅館",
          "都鄉旅",
          "水筠間民宿",
          "東旅湯宿溫泉飯店-風華漾館",
          "宜蘭綠之庭民宿",
          "亭閣美人湯",
          "Meizhou Hot Spring Hotel溫泉商旅",
          "58度溫泉湯苑會館",
          "Sunday Home",
          "幸福藍星民宿",
          "菈芙卡LaFika",
          "Onsense villa",
          "烏石港 OA HOTEL",
          "水月星賞人文會館",
          "蕾米斯莊園",
          "若水溫泉旅館",
          "Buluba -稻家",
          "行口文旅",
          "睏睏的",
          "若水溫泉旅館",
          "Buluba -稻家",
          "行口文旅",
          "幸福之鄉溫泉旅館",
          "快樂糖 Happy Time 宜蘭包棟民宿",
          "睏睏的",
          "來dua頭城",
          "明池山莊",
          "Buluba - 眺望",
          "馬妞行旅 夢雲閣"
         ],
         "legendgroup": "",
         "marker": {
          "color": [
           9.3,
           9,
           8.5,
           8,
           8.2,
           8.5,
           8.1,
           7.5,
           8.8,
           9.4,
           8.5,
           8.4,
           8.9,
           7.8,
           8.7,
           8.6,
           8.2,
           8.7,
           9.2,
           8.6,
           8.5,
           8.3,
           7.8,
           8.2,
           9.2,
           8.3,
           null,
           null,
           null,
           null,
           null,
           null,
           null,
           null,
           null,
           null,
           null,
           null,
           null,
           null,
           null,
           null,
           null,
           null,
           null,
           null,
           null,
           null,
           null,
           null,
           8,
           9.4,
           8.9,
           9.1,
           9.4,
           8.3,
           8.9,
           7.2,
           9.3,
           8.1
          ],
          "coloraxis": "coloraxis",
          "symbol": "circle"
         },
         "mode": "markers",
         "name": "",
         "orientation": "h",
         "showlegend": false,
         "type": "scatter",
         "x": [
          5611,
          5760,
          11111,
          10758,
          12778,
          17091,
          15162,
          3010,
          5980,
          6300,
          13775,
          2147,
          1710,
          3819,
          8400,
          9563,
          6035,
          12600,
          16740,
          7838,
          3264,
          5645,
          3960,
          9796,
          8640,
          11988,
          2860,
          5200,
          14227,
          3876,
          4811,
          2720,
          5760,
          5400,
          10260,
          3600,
          4800,
          2760,
          4699,
          8780,
          4200,
          5038,
          9360,
          7600,
          7695,
          4000,
          7360,
          5600,
          5600,
          3400,
          7360,
          5600,
          5600,
          7593,
          18000,
          3400,
          6600,
          6660,
          6400,
          3192
         ],
         "xaxis": "x",
         "y": [
          null,
          null,
          null,
          null,
          null,
          null,
          null,
          null,
          null,
          null,
          null,
          null,
          null,
          null,
          null,
          null,
          null,
          null,
          null,
          null,
          null,
          null,
          null,
          null,
          null,
          null,
          null,
          null,
          null,
          null,
          null,
          null,
          null,
          null,
          null,
          null,
          null,
          null,
          null,
          null,
          null,
          null,
          null,
          null,
          null,
          null,
          null,
          null,
          null,
          null,
          null,
          null,
          null,
          null,
          null,
          null,
          null,
          null,
          null,
          null
         ],
         "yaxis": "y"
        }
       ],
       "layout": {
        "coloraxis": {
         "colorbar": {
          "title": {
           "text": "ratings"
          }
         },
         "colorscale": [
          [
           0,
           "#0d0887"
          ],
          [
           0.1111111111111111,
           "#46039f"
          ],
          [
           0.2222222222222222,
           "#7201a8"
          ],
          [
           0.3333333333333333,
           "#9c179e"
          ],
          [
           0.4444444444444444,
           "#bd3786"
          ],
          [
           0.5555555555555556,
           "#d8576b"
          ],
          [
           0.6666666666666666,
           "#ed7953"
          ],
          [
           0.7777777777777778,
           "#fb9f3a"
          ],
          [
           0.8888888888888888,
           "#fdca26"
          ],
          [
           1,
           "#f0f921"
          ]
         ]
        },
        "legend": {
         "tracegroupgap": 0
        },
        "margin": {
         "t": 60
        },
        "template": {
         "data": {
          "bar": [
           {
            "error_x": {
             "color": "#2a3f5f"
            },
            "error_y": {
             "color": "#2a3f5f"
            },
            "marker": {
             "line": {
              "color": "#E5ECF6",
              "width": 0.5
             },
             "pattern": {
              "fillmode": "overlay",
              "size": 10,
              "solidity": 0.2
             }
            },
            "type": "bar"
           }
          ],
          "barpolar": [
           {
            "marker": {
             "line": {
              "color": "#E5ECF6",
              "width": 0.5
             },
             "pattern": {
              "fillmode": "overlay",
              "size": 10,
              "solidity": 0.2
             }
            },
            "type": "barpolar"
           }
          ],
          "carpet": [
           {
            "aaxis": {
             "endlinecolor": "#2a3f5f",
             "gridcolor": "white",
             "linecolor": "white",
             "minorgridcolor": "white",
             "startlinecolor": "#2a3f5f"
            },
            "baxis": {
             "endlinecolor": "#2a3f5f",
             "gridcolor": "white",
             "linecolor": "white",
             "minorgridcolor": "white",
             "startlinecolor": "#2a3f5f"
            },
            "type": "carpet"
           }
          ],
          "choropleth": [
           {
            "colorbar": {
             "outlinewidth": 0,
             "ticks": ""
            },
            "type": "choropleth"
           }
          ],
          "contour": [
           {
            "colorbar": {
             "outlinewidth": 0,
             "ticks": ""
            },
            "colorscale": [
             [
              0,
              "#0d0887"
             ],
             [
              0.1111111111111111,
              "#46039f"
             ],
             [
              0.2222222222222222,
              "#7201a8"
             ],
             [
              0.3333333333333333,
              "#9c179e"
             ],
             [
              0.4444444444444444,
              "#bd3786"
             ],
             [
              0.5555555555555556,
              "#d8576b"
             ],
             [
              0.6666666666666666,
              "#ed7953"
             ],
             [
              0.7777777777777778,
              "#fb9f3a"
             ],
             [
              0.8888888888888888,
              "#fdca26"
             ],
             [
              1,
              "#f0f921"
             ]
            ],
            "type": "contour"
           }
          ],
          "contourcarpet": [
           {
            "colorbar": {
             "outlinewidth": 0,
             "ticks": ""
            },
            "type": "contourcarpet"
           }
          ],
          "heatmap": [
           {
            "colorbar": {
             "outlinewidth": 0,
             "ticks": ""
            },
            "colorscale": [
             [
              0,
              "#0d0887"
             ],
             [
              0.1111111111111111,
              "#46039f"
             ],
             [
              0.2222222222222222,
              "#7201a8"
             ],
             [
              0.3333333333333333,
              "#9c179e"
             ],
             [
              0.4444444444444444,
              "#bd3786"
             ],
             [
              0.5555555555555556,
              "#d8576b"
             ],
             [
              0.6666666666666666,
              "#ed7953"
             ],
             [
              0.7777777777777778,
              "#fb9f3a"
             ],
             [
              0.8888888888888888,
              "#fdca26"
             ],
             [
              1,
              "#f0f921"
             ]
            ],
            "type": "heatmap"
           }
          ],
          "heatmapgl": [
           {
            "colorbar": {
             "outlinewidth": 0,
             "ticks": ""
            },
            "colorscale": [
             [
              0,
              "#0d0887"
             ],
             [
              0.1111111111111111,
              "#46039f"
             ],
             [
              0.2222222222222222,
              "#7201a8"
             ],
             [
              0.3333333333333333,
              "#9c179e"
             ],
             [
              0.4444444444444444,
              "#bd3786"
             ],
             [
              0.5555555555555556,
              "#d8576b"
             ],
             [
              0.6666666666666666,
              "#ed7953"
             ],
             [
              0.7777777777777778,
              "#fb9f3a"
             ],
             [
              0.8888888888888888,
              "#fdca26"
             ],
             [
              1,
              "#f0f921"
             ]
            ],
            "type": "heatmapgl"
           }
          ],
          "histogram": [
           {
            "marker": {
             "pattern": {
              "fillmode": "overlay",
              "size": 10,
              "solidity": 0.2
             }
            },
            "type": "histogram"
           }
          ],
          "histogram2d": [
           {
            "colorbar": {
             "outlinewidth": 0,
             "ticks": ""
            },
            "colorscale": [
             [
              0,
              "#0d0887"
             ],
             [
              0.1111111111111111,
              "#46039f"
             ],
             [
              0.2222222222222222,
              "#7201a8"
             ],
             [
              0.3333333333333333,
              "#9c179e"
             ],
             [
              0.4444444444444444,
              "#bd3786"
             ],
             [
              0.5555555555555556,
              "#d8576b"
             ],
             [
              0.6666666666666666,
              "#ed7953"
             ],
             [
              0.7777777777777778,
              "#fb9f3a"
             ],
             [
              0.8888888888888888,
              "#fdca26"
             ],
             [
              1,
              "#f0f921"
             ]
            ],
            "type": "histogram2d"
           }
          ],
          "histogram2dcontour": [
           {
            "colorbar": {
             "outlinewidth": 0,
             "ticks": ""
            },
            "colorscale": [
             [
              0,
              "#0d0887"
             ],
             [
              0.1111111111111111,
              "#46039f"
             ],
             [
              0.2222222222222222,
              "#7201a8"
             ],
             [
              0.3333333333333333,
              "#9c179e"
             ],
             [
              0.4444444444444444,
              "#bd3786"
             ],
             [
              0.5555555555555556,
              "#d8576b"
             ],
             [
              0.6666666666666666,
              "#ed7953"
             ],
             [
              0.7777777777777778,
              "#fb9f3a"
             ],
             [
              0.8888888888888888,
              "#fdca26"
             ],
             [
              1,
              "#f0f921"
             ]
            ],
            "type": "histogram2dcontour"
           }
          ],
          "mesh3d": [
           {
            "colorbar": {
             "outlinewidth": 0,
             "ticks": ""
            },
            "type": "mesh3d"
           }
          ],
          "parcoords": [
           {
            "line": {
             "colorbar": {
              "outlinewidth": 0,
              "ticks": ""
             }
            },
            "type": "parcoords"
           }
          ],
          "pie": [
           {
            "automargin": true,
            "type": "pie"
           }
          ],
          "scatter": [
           {
            "fillpattern": {
             "fillmode": "overlay",
             "size": 10,
             "solidity": 0.2
            },
            "type": "scatter"
           }
          ],
          "scatter3d": [
           {
            "line": {
             "colorbar": {
              "outlinewidth": 0,
              "ticks": ""
             }
            },
            "marker": {
             "colorbar": {
              "outlinewidth": 0,
              "ticks": ""
             }
            },
            "type": "scatter3d"
           }
          ],
          "scattercarpet": [
           {
            "marker": {
             "colorbar": {
              "outlinewidth": 0,
              "ticks": ""
             }
            },
            "type": "scattercarpet"
           }
          ],
          "scattergeo": [
           {
            "marker": {
             "colorbar": {
              "outlinewidth": 0,
              "ticks": ""
             }
            },
            "type": "scattergeo"
           }
          ],
          "scattergl": [
           {
            "marker": {
             "colorbar": {
              "outlinewidth": 0,
              "ticks": ""
             }
            },
            "type": "scattergl"
           }
          ],
          "scattermapbox": [
           {
            "marker": {
             "colorbar": {
              "outlinewidth": 0,
              "ticks": ""
             }
            },
            "type": "scattermapbox"
           }
          ],
          "scatterpolar": [
           {
            "marker": {
             "colorbar": {
              "outlinewidth": 0,
              "ticks": ""
             }
            },
            "type": "scatterpolar"
           }
          ],
          "scatterpolargl": [
           {
            "marker": {
             "colorbar": {
              "outlinewidth": 0,
              "ticks": ""
             }
            },
            "type": "scatterpolargl"
           }
          ],
          "scatterternary": [
           {
            "marker": {
             "colorbar": {
              "outlinewidth": 0,
              "ticks": ""
             }
            },
            "type": "scatterternary"
           }
          ],
          "surface": [
           {
            "colorbar": {
             "outlinewidth": 0,
             "ticks": ""
            },
            "colorscale": [
             [
              0,
              "#0d0887"
             ],
             [
              0.1111111111111111,
              "#46039f"
             ],
             [
              0.2222222222222222,
              "#7201a8"
             ],
             [
              0.3333333333333333,
              "#9c179e"
             ],
             [
              0.4444444444444444,
              "#bd3786"
             ],
             [
              0.5555555555555556,
              "#d8576b"
             ],
             [
              0.6666666666666666,
              "#ed7953"
             ],
             [
              0.7777777777777778,
              "#fb9f3a"
             ],
             [
              0.8888888888888888,
              "#fdca26"
             ],
             [
              1,
              "#f0f921"
             ]
            ],
            "type": "surface"
           }
          ],
          "table": [
           {
            "cells": {
             "fill": {
              "color": "#EBF0F8"
             },
             "line": {
              "color": "white"
             }
            },
            "header": {
             "fill": {
              "color": "#C8D4E3"
             },
             "line": {
              "color": "white"
             }
            },
            "type": "table"
           }
          ]
         },
         "layout": {
          "annotationdefaults": {
           "arrowcolor": "#2a3f5f",
           "arrowhead": 0,
           "arrowwidth": 1
          },
          "autotypenumbers": "strict",
          "coloraxis": {
           "colorbar": {
            "outlinewidth": 0,
            "ticks": ""
           }
          },
          "colorscale": {
           "diverging": [
            [
             0,
             "#8e0152"
            ],
            [
             0.1,
             "#c51b7d"
            ],
            [
             0.2,
             "#de77ae"
            ],
            [
             0.3,
             "#f1b6da"
            ],
            [
             0.4,
             "#fde0ef"
            ],
            [
             0.5,
             "#f7f7f7"
            ],
            [
             0.6,
             "#e6f5d0"
            ],
            [
             0.7,
             "#b8e186"
            ],
            [
             0.8,
             "#7fbc41"
            ],
            [
             0.9,
             "#4d9221"
            ],
            [
             1,
             "#276419"
            ]
           ],
           "sequential": [
            [
             0,
             "#0d0887"
            ],
            [
             0.1111111111111111,
             "#46039f"
            ],
            [
             0.2222222222222222,
             "#7201a8"
            ],
            [
             0.3333333333333333,
             "#9c179e"
            ],
            [
             0.4444444444444444,
             "#bd3786"
            ],
            [
             0.5555555555555556,
             "#d8576b"
            ],
            [
             0.6666666666666666,
             "#ed7953"
            ],
            [
             0.7777777777777778,
             "#fb9f3a"
            ],
            [
             0.8888888888888888,
             "#fdca26"
            ],
            [
             1,
             "#f0f921"
            ]
           ],
           "sequentialminus": [
            [
             0,
             "#0d0887"
            ],
            [
             0.1111111111111111,
             "#46039f"
            ],
            [
             0.2222222222222222,
             "#7201a8"
            ],
            [
             0.3333333333333333,
             "#9c179e"
            ],
            [
             0.4444444444444444,
             "#bd3786"
            ],
            [
             0.5555555555555556,
             "#d8576b"
            ],
            [
             0.6666666666666666,
             "#ed7953"
            ],
            [
             0.7777777777777778,
             "#fb9f3a"
            ],
            [
             0.8888888888888888,
             "#fdca26"
            ],
            [
             1,
             "#f0f921"
            ]
           ]
          },
          "colorway": [
           "#636efa",
           "#EF553B",
           "#00cc96",
           "#ab63fa",
           "#FFA15A",
           "#19d3f3",
           "#FF6692",
           "#B6E880",
           "#FF97FF",
           "#FECB52"
          ],
          "font": {
           "color": "#2a3f5f"
          },
          "geo": {
           "bgcolor": "white",
           "lakecolor": "white",
           "landcolor": "#E5ECF6",
           "showlakes": true,
           "showland": true,
           "subunitcolor": "white"
          },
          "hoverlabel": {
           "align": "left"
          },
          "hovermode": "closest",
          "mapbox": {
           "style": "light"
          },
          "paper_bgcolor": "white",
          "plot_bgcolor": "#E5ECF6",
          "polar": {
           "angularaxis": {
            "gridcolor": "white",
            "linecolor": "white",
            "ticks": ""
           },
           "bgcolor": "#E5ECF6",
           "radialaxis": {
            "gridcolor": "white",
            "linecolor": "white",
            "ticks": ""
           }
          },
          "scene": {
           "xaxis": {
            "backgroundcolor": "#E5ECF6",
            "gridcolor": "white",
            "gridwidth": 2,
            "linecolor": "white",
            "showbackground": true,
            "ticks": "",
            "zerolinecolor": "white"
           },
           "yaxis": {
            "backgroundcolor": "#E5ECF6",
            "gridcolor": "white",
            "gridwidth": 2,
            "linecolor": "white",
            "showbackground": true,
            "ticks": "",
            "zerolinecolor": "white"
           },
           "zaxis": {
            "backgroundcolor": "#E5ECF6",
            "gridcolor": "white",
            "gridwidth": 2,
            "linecolor": "white",
            "showbackground": true,
            "ticks": "",
            "zerolinecolor": "white"
           }
          },
          "shapedefaults": {
           "line": {
            "color": "#2a3f5f"
           }
          },
          "ternary": {
           "aaxis": {
            "gridcolor": "white",
            "linecolor": "white",
            "ticks": ""
           },
           "baxis": {
            "gridcolor": "white",
            "linecolor": "white",
            "ticks": ""
           },
           "bgcolor": "#E5ECF6",
           "caxis": {
            "gridcolor": "white",
            "linecolor": "white",
            "ticks": ""
           }
          },
          "title": {
           "x": 0.05
          },
          "xaxis": {
           "automargin": true,
           "gridcolor": "white",
           "linecolor": "white",
           "ticks": "",
           "title": {
            "standoff": 15
           },
           "zerolinecolor": "white",
           "zerolinewidth": 2
          },
          "yaxis": {
           "automargin": true,
           "gridcolor": "white",
           "linecolor": "white",
           "ticks": "",
           "title": {
            "standoff": 15
           },
           "zerolinecolor": "white",
           "zerolinewidth": 2
          }
         }
        },
        "title": {
         "text": "Hotel Prices vs. Distance from Center"
        },
        "xaxis": {
         "anchor": "y",
         "domain": [
          0,
          1
         ],
         "title": {
          "text": "Price"
         }
        },
        "yaxis": {
         "anchor": "x",
         "domain": [
          0,
          1
         ],
         "title": {
          "text": "Distance from Center (kilometers)"
         }
        }
       }
      },
      "text/html": [
       "<div>                            <div id=\"4a8b5026-76af-47db-b7fa-cf1f976bb3dd\" class=\"plotly-graph-div\" style=\"height:525px; width:100%;\"></div>            <script type=\"text/javascript\">                require([\"plotly\"], function(Plotly) {                    window.PLOTLYENV=window.PLOTLYENV || {};                                    if (document.getElementById(\"4a8b5026-76af-47db-b7fa-cf1f976bb3dd\")) {                    Plotly.newPlot(                        \"4a8b5026-76af-47db-b7fa-cf1f976bb3dd\",                        [{\"customdata\":[[9.3],[9.0],[8.5],[8.0],[8.2],[8.5],[8.1],[7.5],[8.8],[9.4],[8.5],[8.4],[8.9],[7.8],[8.7],[8.6],[8.2],[8.7],[9.2],[8.6],[8.5],[8.3],[7.8],[8.2],[9.2],[8.3],[null],[null],[null],[null],[null],[null],[null],[null],[null],[null],[null],[null],[null],[null],[null],[null],[null],[null],[null],[null],[null],[null],[null],[null],[8.0],[9.4],[8.9],[9.1],[9.4],[8.3],[8.9],[7.2],[9.3],[8.1]],\"hovertemplate\":\"\\u003cb\\u003e%{hovertext}\\u003c\\u002fb\\u003e\\u003cbr\\u003e\\u003cbr\\u003eprice=%{x}\\u003cbr\\u003edistance=%{y}\\u003cbr\\u003eratings=%{marker.color}\\u003cextra\\u003e\\u003c\\u002fextra\\u003e\",\"hovertext\":[\"地熱旅居露營車\",\"布魯懷特\",\"天使星夢渡假村\",\"沐恩國際溫泉渡假飯店\",\"沐恩遠東溫泉渡假飯店\",\"宜蘭力麗威斯汀度假酒店\",\"洛卡斯\",\"蘇澳大飯店\",\"藏闊渡假會館\",\"如沐咖啡旅宿\",\"晶泉丰旅\",\"Happiness Yes Inn\",\"Toucheng Homestay\",\"宜蘭富翔大飯店\",\"松風文旅\",\"葛瑪蘭溫泉飯店\",\"波卡拉渡假會館\",\"風華渡假酒店-礁溪館\",\"山形閣\",\"煙波大飯店宜蘭館\",\"夜市橙堡渡假旅館\",\"朗居文旅\",\"山水商務飯店\",\"蘭陽烏石港海景酒店\",\"雷院子民宿\",\"捷絲旅宜蘭礁溪館\",\"安禾嚼旅\",\"伯斯飯店\",\"中天溫泉渡假飯店\",\"土圍192民宿\",\"瑞德童話藝宿商旅\",\"慕夏精品旅館\",\"都鄉旅\",\"水筠間民宿\",\"東旅湯宿溫泉飯店-風華漾館\",\"宜蘭綠之庭民宿\",\"亭閣美人湯\",\"Meizhou Hot Spring Hotel溫泉商旅\",\"58度溫泉湯苑會館\",\"Sunday Home\",\"幸福藍星民宿\",\"菈芙卡LaFika\",\"Onsense villa\",\"烏石港 OA HOTEL\",\"水月星賞人文會館\",\"蕾米斯莊園\",\"若水溫泉旅館\",\"Buluba -稻家\",\"行口文旅\",\"睏睏的\",\"若水溫泉旅館\",\"Buluba -稻家\",\"行口文旅\",\"幸福之鄉溫泉旅館\",\"快樂糖 Happy Time 宜蘭包棟民宿\",\"睏睏的\",\"來dua頭城\",\"明池山莊\",\"Buluba - 眺望\",\"馬妞行旅 夢雲閣\"],\"legendgroup\":\"\",\"marker\":{\"color\":[9.3,9.0,8.5,8.0,8.2,8.5,8.1,7.5,8.8,9.4,8.5,8.4,8.9,7.8,8.7,8.6,8.2,8.7,9.2,8.6,8.5,8.3,7.8,8.2,9.2,8.3,null,null,null,null,null,null,null,null,null,null,null,null,null,null,null,null,null,null,null,null,null,null,null,null,8.0,9.4,8.9,9.1,9.4,8.3,8.9,7.2,9.3,8.1],\"coloraxis\":\"coloraxis\",\"symbol\":\"circle\"},\"mode\":\"markers\",\"name\":\"\",\"orientation\":\"h\",\"showlegend\":false,\"x\":[5611,5760,11111,10758,12778,17091,15162,3010,5980,6300,13775,2147,1710,3819,8400,9563,6035,12600,16740,7838,3264,5645,3960,9796,8640,11988,2860,5200,14227,3876,4811,2720,5760,5400,10260,3600,4800,2760,4699,8780,4200,5038,9360,7600,7695,4000,7360,5600,5600,3400,7360,5600,5600,7593,18000,3400,6600,6660,6400,3192],\"xaxis\":\"x\",\"y\":[null,null,null,null,null,null,null,null,null,null,null,null,null,null,null,null,null,null,null,null,null,null,null,null,null,null,null,null,null,null,null,null,null,null,null,null,null,null,null,null,null,null,null,null,null,null,null,null,null,null,null,null,null,null,null,null,null,null,null,null],\"yaxis\":\"y\",\"type\":\"scatter\"}],                        {\"template\":{\"data\":{\"histogram2dcontour\":[{\"type\":\"histogram2dcontour\",\"colorbar\":{\"outlinewidth\":0,\"ticks\":\"\"},\"colorscale\":[[0.0,\"#0d0887\"],[0.1111111111111111,\"#46039f\"],[0.2222222222222222,\"#7201a8\"],[0.3333333333333333,\"#9c179e\"],[0.4444444444444444,\"#bd3786\"],[0.5555555555555556,\"#d8576b\"],[0.6666666666666666,\"#ed7953\"],[0.7777777777777778,\"#fb9f3a\"],[0.8888888888888888,\"#fdca26\"],[1.0,\"#f0f921\"]]}],\"choropleth\":[{\"type\":\"choropleth\",\"colorbar\":{\"outlinewidth\":0,\"ticks\":\"\"}}],\"histogram2d\":[{\"type\":\"histogram2d\",\"colorbar\":{\"outlinewidth\":0,\"ticks\":\"\"},\"colorscale\":[[0.0,\"#0d0887\"],[0.1111111111111111,\"#46039f\"],[0.2222222222222222,\"#7201a8\"],[0.3333333333333333,\"#9c179e\"],[0.4444444444444444,\"#bd3786\"],[0.5555555555555556,\"#d8576b\"],[0.6666666666666666,\"#ed7953\"],[0.7777777777777778,\"#fb9f3a\"],[0.8888888888888888,\"#fdca26\"],[1.0,\"#f0f921\"]]}],\"heatmap\":[{\"type\":\"heatmap\",\"colorbar\":{\"outlinewidth\":0,\"ticks\":\"\"},\"colorscale\":[[0.0,\"#0d0887\"],[0.1111111111111111,\"#46039f\"],[0.2222222222222222,\"#7201a8\"],[0.3333333333333333,\"#9c179e\"],[0.4444444444444444,\"#bd3786\"],[0.5555555555555556,\"#d8576b\"],[0.6666666666666666,\"#ed7953\"],[0.7777777777777778,\"#fb9f3a\"],[0.8888888888888888,\"#fdca26\"],[1.0,\"#f0f921\"]]}],\"heatmapgl\":[{\"type\":\"heatmapgl\",\"colorbar\":{\"outlinewidth\":0,\"ticks\":\"\"},\"colorscale\":[[0.0,\"#0d0887\"],[0.1111111111111111,\"#46039f\"],[0.2222222222222222,\"#7201a8\"],[0.3333333333333333,\"#9c179e\"],[0.4444444444444444,\"#bd3786\"],[0.5555555555555556,\"#d8576b\"],[0.6666666666666666,\"#ed7953\"],[0.7777777777777778,\"#fb9f3a\"],[0.8888888888888888,\"#fdca26\"],[1.0,\"#f0f921\"]]}],\"contourcarpet\":[{\"type\":\"contourcarpet\",\"colorbar\":{\"outlinewidth\":0,\"ticks\":\"\"}}],\"contour\":[{\"type\":\"contour\",\"colorbar\":{\"outlinewidth\":0,\"ticks\":\"\"},\"colorscale\":[[0.0,\"#0d0887\"],[0.1111111111111111,\"#46039f\"],[0.2222222222222222,\"#7201a8\"],[0.3333333333333333,\"#9c179e\"],[0.4444444444444444,\"#bd3786\"],[0.5555555555555556,\"#d8576b\"],[0.6666666666666666,\"#ed7953\"],[0.7777777777777778,\"#fb9f3a\"],[0.8888888888888888,\"#fdca26\"],[1.0,\"#f0f921\"]]}],\"surface\":[{\"type\":\"surface\",\"colorbar\":{\"outlinewidth\":0,\"ticks\":\"\"},\"colorscale\":[[0.0,\"#0d0887\"],[0.1111111111111111,\"#46039f\"],[0.2222222222222222,\"#7201a8\"],[0.3333333333333333,\"#9c179e\"],[0.4444444444444444,\"#bd3786\"],[0.5555555555555556,\"#d8576b\"],[0.6666666666666666,\"#ed7953\"],[0.7777777777777778,\"#fb9f3a\"],[0.8888888888888888,\"#fdca26\"],[1.0,\"#f0f921\"]]}],\"mesh3d\":[{\"type\":\"mesh3d\",\"colorbar\":{\"outlinewidth\":0,\"ticks\":\"\"}}],\"scatter\":[{\"fillpattern\":{\"fillmode\":\"overlay\",\"size\":10,\"solidity\":0.2},\"type\":\"scatter\"}],\"parcoords\":[{\"type\":\"parcoords\",\"line\":{\"colorbar\":{\"outlinewidth\":0,\"ticks\":\"\"}}}],\"scatterpolargl\":[{\"type\":\"scatterpolargl\",\"marker\":{\"colorbar\":{\"outlinewidth\":0,\"ticks\":\"\"}}}],\"bar\":[{\"error_x\":{\"color\":\"#2a3f5f\"},\"error_y\":{\"color\":\"#2a3f5f\"},\"marker\":{\"line\":{\"color\":\"#E5ECF6\",\"width\":0.5},\"pattern\":{\"fillmode\":\"overlay\",\"size\":10,\"solidity\":0.2}},\"type\":\"bar\"}],\"scattergeo\":[{\"type\":\"scattergeo\",\"marker\":{\"colorbar\":{\"outlinewidth\":0,\"ticks\":\"\"}}}],\"scatterpolar\":[{\"type\":\"scatterpolar\",\"marker\":{\"colorbar\":{\"outlinewidth\":0,\"ticks\":\"\"}}}],\"histogram\":[{\"marker\":{\"pattern\":{\"fillmode\":\"overlay\",\"size\":10,\"solidity\":0.2}},\"type\":\"histogram\"}],\"scattergl\":[{\"type\":\"scattergl\",\"marker\":{\"colorbar\":{\"outlinewidth\":0,\"ticks\":\"\"}}}],\"scatter3d\":[{\"type\":\"scatter3d\",\"line\":{\"colorbar\":{\"outlinewidth\":0,\"ticks\":\"\"}},\"marker\":{\"colorbar\":{\"outlinewidth\":0,\"ticks\":\"\"}}}],\"scattermapbox\":[{\"type\":\"scattermapbox\",\"marker\":{\"colorbar\":{\"outlinewidth\":0,\"ticks\":\"\"}}}],\"scatterternary\":[{\"type\":\"scatterternary\",\"marker\":{\"colorbar\":{\"outlinewidth\":0,\"ticks\":\"\"}}}],\"scattercarpet\":[{\"type\":\"scattercarpet\",\"marker\":{\"colorbar\":{\"outlinewidth\":0,\"ticks\":\"\"}}}],\"carpet\":[{\"aaxis\":{\"endlinecolor\":\"#2a3f5f\",\"gridcolor\":\"white\",\"linecolor\":\"white\",\"minorgridcolor\":\"white\",\"startlinecolor\":\"#2a3f5f\"},\"baxis\":{\"endlinecolor\":\"#2a3f5f\",\"gridcolor\":\"white\",\"linecolor\":\"white\",\"minorgridcolor\":\"white\",\"startlinecolor\":\"#2a3f5f\"},\"type\":\"carpet\"}],\"table\":[{\"cells\":{\"fill\":{\"color\":\"#EBF0F8\"},\"line\":{\"color\":\"white\"}},\"header\":{\"fill\":{\"color\":\"#C8D4E3\"},\"line\":{\"color\":\"white\"}},\"type\":\"table\"}],\"barpolar\":[{\"marker\":{\"line\":{\"color\":\"#E5ECF6\",\"width\":0.5},\"pattern\":{\"fillmode\":\"overlay\",\"size\":10,\"solidity\":0.2}},\"type\":\"barpolar\"}],\"pie\":[{\"automargin\":true,\"type\":\"pie\"}]},\"layout\":{\"autotypenumbers\":\"strict\",\"colorway\":[\"#636efa\",\"#EF553B\",\"#00cc96\",\"#ab63fa\",\"#FFA15A\",\"#19d3f3\",\"#FF6692\",\"#B6E880\",\"#FF97FF\",\"#FECB52\"],\"font\":{\"color\":\"#2a3f5f\"},\"hovermode\":\"closest\",\"hoverlabel\":{\"align\":\"left\"},\"paper_bgcolor\":\"white\",\"plot_bgcolor\":\"#E5ECF6\",\"polar\":{\"bgcolor\":\"#E5ECF6\",\"angularaxis\":{\"gridcolor\":\"white\",\"linecolor\":\"white\",\"ticks\":\"\"},\"radialaxis\":{\"gridcolor\":\"white\",\"linecolor\":\"white\",\"ticks\":\"\"}},\"ternary\":{\"bgcolor\":\"#E5ECF6\",\"aaxis\":{\"gridcolor\":\"white\",\"linecolor\":\"white\",\"ticks\":\"\"},\"baxis\":{\"gridcolor\":\"white\",\"linecolor\":\"white\",\"ticks\":\"\"},\"caxis\":{\"gridcolor\":\"white\",\"linecolor\":\"white\",\"ticks\":\"\"}},\"coloraxis\":{\"colorbar\":{\"outlinewidth\":0,\"ticks\":\"\"}},\"colorscale\":{\"sequential\":[[0.0,\"#0d0887\"],[0.1111111111111111,\"#46039f\"],[0.2222222222222222,\"#7201a8\"],[0.3333333333333333,\"#9c179e\"],[0.4444444444444444,\"#bd3786\"],[0.5555555555555556,\"#d8576b\"],[0.6666666666666666,\"#ed7953\"],[0.7777777777777778,\"#fb9f3a\"],[0.8888888888888888,\"#fdca26\"],[1.0,\"#f0f921\"]],\"sequentialminus\":[[0.0,\"#0d0887\"],[0.1111111111111111,\"#46039f\"],[0.2222222222222222,\"#7201a8\"],[0.3333333333333333,\"#9c179e\"],[0.4444444444444444,\"#bd3786\"],[0.5555555555555556,\"#d8576b\"],[0.6666666666666666,\"#ed7953\"],[0.7777777777777778,\"#fb9f3a\"],[0.8888888888888888,\"#fdca26\"],[1.0,\"#f0f921\"]],\"diverging\":[[0,\"#8e0152\"],[0.1,\"#c51b7d\"],[0.2,\"#de77ae\"],[0.3,\"#f1b6da\"],[0.4,\"#fde0ef\"],[0.5,\"#f7f7f7\"],[0.6,\"#e6f5d0\"],[0.7,\"#b8e186\"],[0.8,\"#7fbc41\"],[0.9,\"#4d9221\"],[1,\"#276419\"]]},\"xaxis\":{\"gridcolor\":\"white\",\"linecolor\":\"white\",\"ticks\":\"\",\"title\":{\"standoff\":15},\"zerolinecolor\":\"white\",\"automargin\":true,\"zerolinewidth\":2},\"yaxis\":{\"gridcolor\":\"white\",\"linecolor\":\"white\",\"ticks\":\"\",\"title\":{\"standoff\":15},\"zerolinecolor\":\"white\",\"automargin\":true,\"zerolinewidth\":2},\"scene\":{\"xaxis\":{\"backgroundcolor\":\"#E5ECF6\",\"gridcolor\":\"white\",\"linecolor\":\"white\",\"showbackground\":true,\"ticks\":\"\",\"zerolinecolor\":\"white\",\"gridwidth\":2},\"yaxis\":{\"backgroundcolor\":\"#E5ECF6\",\"gridcolor\":\"white\",\"linecolor\":\"white\",\"showbackground\":true,\"ticks\":\"\",\"zerolinecolor\":\"white\",\"gridwidth\":2},\"zaxis\":{\"backgroundcolor\":\"#E5ECF6\",\"gridcolor\":\"white\",\"linecolor\":\"white\",\"showbackground\":true,\"ticks\":\"\",\"zerolinecolor\":\"white\",\"gridwidth\":2}},\"shapedefaults\":{\"line\":{\"color\":\"#2a3f5f\"}},\"annotationdefaults\":{\"arrowcolor\":\"#2a3f5f\",\"arrowhead\":0,\"arrowwidth\":1},\"geo\":{\"bgcolor\":\"white\",\"landcolor\":\"#E5ECF6\",\"subunitcolor\":\"white\",\"showland\":true,\"showlakes\":true,\"lakecolor\":\"white\"},\"title\":{\"x\":0.05},\"mapbox\":{\"style\":\"light\"}}},\"xaxis\":{\"anchor\":\"y\",\"domain\":[0.0,1.0],\"title\":{\"text\":\"Price\"}},\"yaxis\":{\"anchor\":\"x\",\"domain\":[0.0,1.0],\"title\":{\"text\":\"Distance from Center (kilometers)\"}},\"coloraxis\":{\"colorbar\":{\"title\":{\"text\":\"ratings\"}},\"colorscale\":[[0.0,\"#0d0887\"],[0.1111111111111111,\"#46039f\"],[0.2222222222222222,\"#7201a8\"],[0.3333333333333333,\"#9c179e\"],[0.4444444444444444,\"#bd3786\"],[0.5555555555555556,\"#d8576b\"],[0.6666666666666666,\"#ed7953\"],[0.7777777777777778,\"#fb9f3a\"],[0.8888888888888888,\"#fdca26\"],[1.0,\"#f0f921\"]]},\"legend\":{\"tracegroupgap\":0},\"margin\":{\"t\":60},\"title\":{\"text\":\"Hotel Prices vs. Distance from Center\"}},                        {\"responsive\": true}                    ).then(function(){\n",
       "                            \n",
       "var gd = document.getElementById('4a8b5026-76af-47db-b7fa-cf1f976bb3dd');\n",
       "var x = new MutationObserver(function (mutations, observer) {{\n",
       "        var display = window.getComputedStyle(gd).display;\n",
       "        if (!display || display === 'none') {{\n",
       "            console.log([gd, 'removed!']);\n",
       "            Plotly.purge(gd);\n",
       "            observer.disconnect();\n",
       "        }}\n",
       "}});\n",
       "\n",
       "// Listen for the removal of the full notebook cells\n",
       "var notebookContainer = gd.closest('#notebook-container');\n",
       "if (notebookContainer) {{\n",
       "    x.observe(notebookContainer, {childList: true});\n",
       "}}\n",
       "\n",
       "// Listen for the clearing of the current output cell\n",
       "var outputEl = gd.closest('.output');\n",
       "if (outputEl) {{\n",
       "    x.observe(outputEl, {childList: true});\n",
       "}}\n",
       "\n",
       "                        })                };                });            </script>        </div>"
      ]
     },
     "metadata": {},
     "output_type": "display_data"
    }
   ],
   "source": [
    "import plotly.express as px\n",
    "\n",
    "# Create a scatter plot\n",
    "fig = px.scatter(hotels, x='price', y='distance', color='ratings',\n",
    "                 hover_name='name',\n",
    "                 hover_data={'price': True, 'ratings': True}) # to be displayed when hovering over datapoints\n",
    "\n",
    "# Customize the plot\n",
    "fig.update_traces(marker=dict(size=12, opacity=0.7),\n",
    "                  selector=dict(mode='markers+text'))\n",
    "\n",
    "# Add titles and labels\n",
    "fig.update_layout(\n",
    "    title='Hotel Prices vs. Distance from Center',\n",
    "    xaxis_title='Price',\n",
    "    yaxis_title='Distance from Center (kilometers)'\n",
    ")\n",
    "\n",
    "# Show the plot\n",
    "fig.show()"
   ]
  }
 ],
 "metadata": {
  "@webio": {
   "lastCommId": null,
   "lastKernelId": null
  },
  "kernelspec": {
   "display_name": "Python 3 (ipykernel)",
   "language": "python",
   "name": "python3"
  },
  "language_info": {
   "codemirror_mode": {
    "name": "ipython",
    "version": 3
   },
   "file_extension": ".py",
   "mimetype": "text/x-python",
   "name": "python",
   "nbconvert_exporter": "python",
   "pygments_lexer": "ipython3",
   "version": "3.10.9"
  },
  "toc": {
   "base_numbering": 1,
   "nav_menu": {},
   "number_sections": true,
   "sideBar": true,
   "skip_h1_title": false,
   "title_cell": "Table of Contents",
   "title_sidebar": "Contents",
   "toc_cell": false,
   "toc_position": {},
   "toc_section_display": true,
   "toc_window_display": false
  }
 },
 "nbformat": 4,
 "nbformat_minor": 5
}
