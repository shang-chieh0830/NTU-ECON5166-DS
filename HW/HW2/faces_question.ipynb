{
 "cells": [
  {
   "cell_type": "code",
   "execution_count": null,
   "metadata": {},
   "outputs": [],
   "source": [
    "import os\n",
    "import warnings\n",
    "from numpy.linalg import matrix_rank\n",
    "from matplotlib import pyplot as plt\n",
    "import numpy as np\n",
    "from sklearn.decomposition import PCA"
   ]
  },
  {
   "cell_type": "code",
   "execution_count": null,
   "metadata": {},
   "outputs": [],
   "source": [
    "# This block of code help you read and show the data \n",
    "# Nothing need to be done here.\n",
    "# Set seed\n",
    "np.random.seed(5516)\n",
    "# Read the faces. The data set is a modified version from the Olivetti data set.add\n",
    "# For a description for the original data set, \n",
    "# see https://scikit-learn.org/stable/modules/generated/sklearn.datasets.fetch_olivetti_faces.html\n",
    "X = np.loadtxt('YOUR_PATH_TO_FACES_CSV', delimiter=',')\n",
    "\n",
    "# height, width, and number of images\n",
    "h, w, n = 64, 64, 401\n",
    "\n",
    "# Pick 16 random faces to show\n",
    "val = np.random.choice(n, 16, replace=False)\n",
    "fig, axs = plt.subplots(4, 4)\n",
    "fig.suptitle(\"16 Random Face Images \", fontsize=\"x-large\")\n",
    "for i in range(16):\n",
    "    r, c = int(i / 4), i % 4\n",
    "    axs[r, c].imshow(X[val[i]].reshape(h, w), cmap='gray')\n",
    "    axs[r, c].axis('off')\n",
    "\n"
   ]
  },
  {
   "cell_type": "code",
   "execution_count": null,
   "metadata": {},
   "outputs": [],
   "source": [
    "# Question (a): Plot the mean faces and the first principal components (\"principal faces\") \n",
    "# Remember to center the data and before PCA\n",
    "# PS. no need to rescale\n",
    "\n",
    "# Your task find mu, XC and A: \n",
    "    # mu = mean face. Should be 4096 x 1\n",
    "    # XC = X - mu, the centered X\n",
    "    # A = the matrix with principal components as columns. Should be 4096 x 401\n",
    "    # Recall that A has dimension p x q. \n",
    "    # Here q is at most 401 because we only have 401 faces in our data.\n",
    "# Given mu and A, the following code help you plot the result.\n",
    "fig, axs = plt.subplots(2, 2)\n",
    "fig.suptitle(\"PCA on Face Images (Principle components) \", fontsize=\"x-large\")\n",
    "for i in range(4):\n",
    "    r, c = int(i / 2), i % 2\n",
    "    if r == 0 and c == 0:\n",
    "        axs[r, c].imshow(mu.reshape(h, w), cmap='gray')\n",
    "        axs[r, c].axis('off')\n",
    "        axs[r, c].set_title('Mean')\n",
    "    else:\n",
    "        axs[r, c].imshow(A.T[i - 1].reshape(h, w), cmap='gray')\n",
    "        axs[r, c].axis('off')\n",
    "        axs[r, c].set_title('principal Basis {}'.format(i - 1))\n"
   ]
  },
  {
   "cell_type": "code",
   "execution_count": null,
   "metadata": {},
   "outputs": [],
   "source": [
    "# Compress the last face in our data set by taking inner products with the principal components\n",
    "last_face = XC[400,] \n",
    "\n",
    "# Your task: find Z, the compressed version of last_face, encoded by the principal component;\n",
    "# Z should have dimension 401 x 1, each row is the inner product with the principal components \n",
    "\n",
    "# After you find Z, the following code will help you visualize the result.\n",
    "# The variable Xrecon will give you the reconstructed faces using the compressed data along with\n",
    "# the principal faces and the mean face.\n",
    "Ks = [5, 20, 100, 200]\n",
    "fig, axs = plt.subplots(2, 2)\n",
    "fig.suptitle(\"PCA on Face Images (Reconstructed Images) \", fontsize=\"x-large\")\n",
    "count = 0\n",
    "for k in Ks:\n",
    "    Xrecon = np.dot(Z[:k], A.T[:k, :]) + mu\n",
    "    r, c = int(count / 2), count % 2\n",
    "    axs[r, c].imshow(Xrecon.reshape(64, 64), cmap='gray')\n",
    "    axs[r, c].axis('off')\n",
    "    axs[r, c].set_title('{} Components'.format(k))\n",
    "    count += 1\n"
   ]
  }
 ],
 "metadata": {
  "kernelspec": {
   "display_name": "Python 3.8.9 64-bit",
   "language": "python",
   "name": "python3"
  },
  "language_info": {
   "codemirror_mode": {
    "name": "ipython",
    "version": 3
   },
   "file_extension": ".py",
   "mimetype": "text/x-python",
   "name": "python",
   "nbconvert_exporter": "python",
   "pygments_lexer": "ipython3",
   "version": "3.8.9"
  },
  "orig_nbformat": 4,
  "vscode": {
   "interpreter": {
    "hash": "31f2aee4e71d21fbe5cf8b01ff0e069b9275f58929596ceb00d14d90e3e16cd6"
   }
  }
 },
 "nbformat": 4,
 "nbformat_minor": 2
}
