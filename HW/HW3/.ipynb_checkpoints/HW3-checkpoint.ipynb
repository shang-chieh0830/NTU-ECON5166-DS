{
 "cells": [
  {
   "cell_type": "markdown",
   "id": "debae1f0",
   "metadata": {},
   "source": [
    "# Question 1"
   ]
  },
  {
   "cell_type": "markdown",
   "id": "e8269caf",
   "metadata": {},
   "source": [
    "## (a) "
   ]
  },
  {
   "cell_type": "markdown",
   "id": "74e400e7",
   "metadata": {},
   "source": [
    "Consider 3 cases:\n",
    "\n",
    "\n",
    "If  $C_1=\\{(3, 0), (0, 4)\\}$, $C_2=\\{(0,0)\\} \\implies$ w/ SS = $(3-1.5)^2+(0-2)^2+(0-1.5)^2+(4-2)^2 = 12.5$\n",
    "\n",
    "If  $C_1=\\{(0, 0), (0, 4)\\}$, $C_2=\\{(3,0)\\} \\implies$ w/ SS = $(0-0)^2+(0-2)^2+(0-0)^2+(4-2)^2 = 8$\n",
    "\n",
    "If  $C_1=\\{(3, 0), (0, 0)\\}$, $C_2=\\{(0,4)\\} \\implies$ w/ SS = $(3-1.5)^2+(0-0)^2+(3-1.5)^2+(0-0)^2 = 4.5$\n",
    "\n",
    "Hence, the optimal clustering is $C_1=\\{(3,0), (0,0)\\}, C_2=\\{(0,4)\\}$"
   ]
  },
  {
   "cell_type": "markdown",
   "id": "221abb86",
   "metadata": {},
   "source": [
    "## (b) "
   ]
  },
  {
   "cell_type": "markdown",
   "id": "aa31f539",
   "metadata": {},
   "source": [
    "1. initial assignment: $C_1=\\{(0,4), (0,0)\\}, C_2=\\{(3,0)\\}$\n",
    "\n",
    "2. calculate cluster centroids: $\\bar x_{C_1} = (0,2), \\bar x_{C_2} = (3,0)$\n",
    "\n",
    "3. calculate distances: \n",
    "\n",
    "    $||(0,0)- (0,2)||^2= 4$\n",
    "    \n",
    "    $||(0,0)- (3,0)||^2= 9$\n",
    "    \n",
    "    $\\min \\{||(0,0)- (0,2)||^2,||(0,0)- (3,0)||^2\\}=4$\n",
    "    \n",
    "    $||(0,4)- (0,2)||^2= 4$\n",
    "    \n",
    "    $||(0,4)- (3,0)||^2= 25$\n",
    "    \n",
    "    $\\min \\{||(0,4)- (0,2)||^2,||(0,4)- (3,0)||^2\\}=4$\n",
    "    \n",
    "    $||(3,0)- (0,2)||^2= 13$\n",
    "    \n",
    "    $||(3,0)- (3,0)||^2= 0$\n",
    "    \n",
    "    $\\min \\{||(3,0)- (0,2)||^2,||(3,0)- (3,0)||^2\\}=0$\n",
    "\n",
    "4. re-assign to nearest centroids: $C_1=\\{(0,4), (0,0)\\}, C_2=\\{(3,0)\\}$\n",
    "\n",
    "Hence, it converges to $C_1=\\{(0,4), (0,0)\\}, C_2=\\{(3,0)\\}$, which is not the same as what we found in (a)"
   ]
  },
  {
   "cell_type": "markdown",
   "id": "e7726fd6",
   "metadata": {},
   "source": [
    "## (c)"
   ]
  },
  {
   "cell_type": "markdown",
   "id": "bab0abd0",
   "metadata": {},
   "source": [
    "Consider 3 cases:\n",
    "\n",
    "initial assignment: $C_1=\\{(3,0), (0,0)\\}, C_2=\\{(0,4)\\}$, this is global min found in (a), indeed, it converges to global min.\n",
    "\n",
    "initial assignment: $C_1=\\{(0,4), (0,0)\\}, C_2=\\{(3,0)\\}$, this is local min found in (a), we've shown it converges to local min in (b).\n",
    "\n",
    "initial assignment: $C_1=\\{(3,0), (0,4)\\}, C_2=\\{(0,0)\\}$, this is local min found in (a), the following shows that it converges to local min."
   ]
  },
  {
   "cell_type": "markdown",
   "id": "083b9c63",
   "metadata": {},
   "source": [
    "1. initial assignment: $C_1=\\{(3,0), (0,4)\\}, C_2=\\{(0,0)\\}$\n",
    "\n",
    "2. calculate cluster centroids: $\\bar x_{C_1} = (1.5,2), \\bar x_{C_2} = (0,0)$\n",
    "\n",
    "3. calculate distances: \n",
    "\n",
    "    \n",
    "    $\\min \\{||(0,0)- (1.5,2)||^2,||(0,0)- (0,0)||^2\\}=0$\n",
    "    \n",
    "    $||(0,4)- (1.5,2)||^2= 6.25$\n",
    "    \n",
    "    $||(0,4)- (0,0)||^2= 16$\n",
    "    \n",
    "    $\\min \\{||(0,4)- (1.5,2)||^2,||(0,4)- (0,0)||^2\\}=6.25$\n",
    "    \n",
    "    $||(3,0)- (1.5,2)||^2= 6.25$\n",
    "    \n",
    "    $||(3,0)- (0,0)||^2= 9$\n",
    "    \n",
    "    $\\min \\{||(3,0)- (1.5,2)||^2,||(3,0)- (0,0)||^2\\}=6.25$\n",
    "\n",
    "4. re-assign to nearest centroids: $C_1=\\{(3,0), (0,4)\\}, C_2=\\{(0,0)\\}$\n",
    "\n",
    "Hence, it converges to $C_1=\\{(3,0), (0,4)\\}, C_2=\\{(0,0)\\}$, which is not the same as what we found in (a)"
   ]
  },
  {
   "cell_type": "markdown",
   "id": "c79886c6",
   "metadata": {},
   "source": [
    "The probability of coverging to the global optimum is $\\frac 13$ if we run the algorithm with random initial assignment."
   ]
  },
  {
   "cell_type": "markdown",
   "id": "e7edf4b8",
   "metadata": {},
   "source": [
    "# Question 2"
   ]
  },
  {
   "cell_type": "markdown",
   "id": "0d1ebc97",
   "metadata": {},
   "source": [
    "## (a) Find $\\hat\\alpha_0, \\hat \\alpha_1$"
   ]
  },
  {
   "cell_type": "markdown",
   "id": "4f43cc9a",
   "metadata": {},
   "source": [
    "$new\\_births_{ct}=\\alpha_0+\\alpha_1year_t+\\epsilon_{ct}$"
   ]
  },
  {
   "cell_type": "markdown",
   "id": "b852fa2c",
   "metadata": {},
   "source": [
    "$\\hat\\alpha_0=\\overline{new\\_births} - \\hat \\alpha_1\\overline{year}$, $\\hat\\alpha_1=\\frac{\\sum_{t=1}^{6}(year_t-\\overline{year})(new\\_births_{t}-\\overline{new\\_births})}{\\sum_{t=1}^{6}(year_t-\\overline{year})^2}$ \n",
    "\n",
    "$\\overline{year} = 2021, \\overline{new\\_births} = 18000$\n",
    "\n",
    "$\\hat \\alpha_1=\\frac{\\sum_{t=1}^{6}(year_t-\\overline{year})(new\\_births_{t}-\\overline{new\\_births})}{\\sum_{t=1}^{6}(year_t-\\overline{year})^2}=-2000$\n",
    "\n",
    "$\\hat \\alpha_0 = 18000 - (-2000)(2021) = 4060000$"
   ]
  },
  {
   "cell_type": "markdown",
   "id": "64011f79",
   "metadata": {},
   "source": [
    "## (b) Find $\\hat\\beta_1, \\hat\\beta_2, \\hat\\beta_3$"
   ]
  },
  {
   "cell_type": "markdown",
   "id": "f4ec7fab",
   "metadata": {},
   "source": [
    "$new\\_births_{ct}=\\beta_1\\mathbb 1\\{year_t=2020\\}+\\beta_2\\mathbb 1\\{year_t=2021\\}+\\beta_3\\mathbb 1\\{year_t=2022\\}+\\epsilon_{ct}$\n",
    "\n",
    "$\\hat \\beta_1 = \\overline{new\\_births}_{t=2020}= 20000$\n",
    "\n",
    "$\\hat \\beta_2 = \\overline{new\\_births}_{t=2021}= 18000$\n",
    "\n",
    "$\\hat \\beta_3 = \\overline{new\\_births}_{t=2022}= 16000$\n"
   ]
  },
  {
   "cell_type": "markdown",
   "id": "28c3e09d",
   "metadata": {},
   "source": [
    "## (c) Find $\\hat\\gamma_0, \\hat\\gamma_1, \\hat\\gamma_2$"
   ]
  },
  {
   "cell_type": "markdown",
   "id": "45b85ead",
   "metadata": {},
   "source": [
    "$new\\_births_{ct}=\\gamma_0+\\gamma_1\\mathbb 1\\{year_t=2021\\}+\\gamma_2\\mathbb 1\\{year_t=2022\\}+\\epsilon_{ct}$\n",
    "\n",
    "$\\hat\\gamma_0 = \\overline{new\\_births}_{t=2020} = 20000$\n",
    "\n",
    "$\\hat\\gamma_0+ \\hat \\gamma_1$  = $\\overline{new\\_births}_{t=2021}  \\implies \\hat \\gamma_1  = -2000$\n",
    "\n",
    "\n",
    "$\\hat\\gamma_0+ \\hat \\gamma_2$  = $\\overline{new\\_births}_{t=2022}  \\implies \\hat \\gamma_2  = -4000$\n"
   ]
  },
  {
   "cell_type": "markdown",
   "id": "27830ad2",
   "metadata": {},
   "source": [
    "## (d)"
   ]
  },
  {
   "cell_type": "markdown",
   "id": "e839ecf4",
   "metadata": {},
   "source": [
    "$X = \\mathbb 1\\{year_t\\ge 2022\\}, Z = \\mathbb 1\\{city=Taipei\\}$"
   ]
  },
  {
   "cell_type": "markdown",
   "id": "4f6c3a09",
   "metadata": {},
   "source": [
    "$E[new\\_births|X,Z]= \\begin{cases} 21000 & X=0, Z=0\\\\ 18000 & X=1, Z=0\\\\17000 & X =0, Z=1\\\\14000& X=1, Z=1\\end{cases}$"
   ]
  },
  {
   "cell_type": "markdown",
   "id": "e5d0cb4a",
   "metadata": {},
   "source": [
    "## (e)"
   ]
  },
  {
   "cell_type": "markdown",
   "id": "d587e4f3",
   "metadata": {},
   "source": [
    "$new\\_births_{ct} = \\delta_0+\\delta_1X_{ct}+\\delta_2Z_{ct}+\\delta_3X_{ct}Z_{ct}+\\epsilon_{ct}$"
   ]
  },
  {
   "cell_type": "markdown",
   "id": "717d95ba",
   "metadata": {},
   "source": [
    "$X_{c = Taipei, t=2021}=0, Z_{c = Taipei, t=2021}=1$\n",
    "\n",
    "$\\widehat{new\\_births}_{c = Taipei, t=2021} = \\delta_0+\\delta_2$"
   ]
  },
  {
   "cell_type": "markdown",
   "id": "c42174df",
   "metadata": {},
   "source": [
    "# Question 3"
   ]
  },
  {
   "cell_type": "markdown",
   "id": "20e952bd",
   "metadata": {},
   "source": [
    "$y =\\beta_1x_1+\\beta_2x_2+\\beta_3x_3+\\beta_4x_4+\\epsilon$ "
   ]
  },
  {
   "cell_type": "markdown",
   "id": "65b7b656",
   "metadata": {},
   "source": [
    "## (f) OLS estimates"
   ]
  },
  {
   "cell_type": "markdown",
   "id": "760ef673",
   "metadata": {},
   "source": [
    "$\\hat\\beta_1^{OLS} = \\bar y_1= \\frac{1+3}{2}=2$\n",
    "\n",
    "$\\hat\\beta_2^{OLS} = \\bar y_2= \\frac{2+2+5}{3}=3$\n",
    "\n",
    "$\\hat\\beta_3^{OLS} = \\bar y_3=  \\frac{5+3}{2}=4$\n",
    "\n",
    "$\\hat\\beta_4^{OLS} = \\bar y_4= \\frac{4+6+5}{3}=5$\n",
    "\n",
    "$\\implies \\hat y^{OLS} = \\hat\\beta_1^{OLS}x_1 +\\hat\\beta_2^{OLS}x_2+\\hat\\beta_3^{OLS}x_3+\\hat\\beta_4^{OLS}x_4 = 2x_1+3x_2+4x_3+5x_4$"
   ]
  },
  {
   "cell_type": "markdown",
   "id": "36dc8ccc",
   "metadata": {},
   "source": [
    "## (g) LASSO estimates w/ $\\lambda=12$"
   ]
  },
  {
   "cell_type": "markdown",
   "id": "dd7fdcdb",
   "metadata": {},
   "source": [
    "$\\min_{\\boldsymbol\\beta} \\sum_{i=1}^{10}(y_i-\\beta_1x_{1i}-\\beta_2x_{2i}-\\beta_3x_{3i}-\\beta_4x_{4i})^2+12(|\\beta_1|+|\\beta_2|+|\\beta_3|+|\\beta_4|)\\iff \\min_{\\beta_j}\\sum_{i=1,i\\in\\{i|x_{ji}=1\\}}^{n_j}(y_i-\\beta_j)^2+12|\\beta_j|$\n",
    "\n",
    "\n",
    "$\\implies \\hat \\beta_j^{LASSO} = \\begin{cases}\\bar y_j-\\frac{12}{2n_j} & \\beta_j>0\\\\\\bar y_j+\\frac{12}{2n_j} & \\beta_j<0 \\\\ 0 & \\beta_j=0 \\end{cases}$\n",
    "\n",
    "\n",
    "$\\implies \\hat \\beta_j^{LASSO} = \\begin{cases}\\bar y_j-\\frac{6}{n_j} & \\bar y_j-\\frac{6}{n_j}>0\\\\\\bar y_j+\\frac{6}{n_j} & \\bar y_j+\\frac{6}{n_j}<0 \\\\ 0 & \\beta_j=0 \\end{cases}$\n",
    "\n",
    "\n",
    "Hence, \n",
    "\n",
    "$\\hat\\beta_1^{LASSO} = 0$\n",
    "\n",
    "$\\hat\\beta_2^{LASSO} = 1$\n",
    "\n",
    "$\\hat\\beta_3^{LASSO} = 1$\n",
    "\n",
    "$\\hat\\beta_4^{LASSO} = 3$\n",
    "\n",
    "$\\hat y^{LASSO} = x_2+x_3+3x_4$\n"
   ]
  },
  {
   "cell_type": "markdown",
   "id": "6f0cec9c",
   "metadata": {},
   "source": [
    "## (h)"
   ]
  },
  {
   "cell_type": "markdown",
   "id": "d9f45803",
   "metadata": {},
   "source": [
    "$\\hat \\beta_j^{LASSO} = \\begin{cases}\\bar y_j-\\frac{\\lambda}{2n_j}, & \\bar y_j-\\frac{\\lambda}{2n_j}>0\\\\\\bar y_j+\\frac{\\lambda}{2n_j}, & \\bar y_j+\\frac{\\lambda}{2n_j}<0 \\\\ 0, & o.w. \\end{cases}$"
   ]
  },
  {
   "cell_type": "code",
   "execution_count": 37,
   "id": "b4fccbd0",
   "metadata": {},
   "outputs": [
    {
     "data": {
      "image/png": "[encoded data removed]",
      "text/plain": [
       "<Figure size 800x600 with 1 Axes>"
      ]
     },
     "metadata": {},
     "output_type": "display_data"
    }
   ],
   "source": [
    "import matplotlib.pyplot as plt\n",
    "import numpy as np\n",
    "\n",
    "# Define the function\n",
    "def LASSO_beta(OLS_beta, lambdaa, nj):\n",
    "    if OLS_beta - lambdaa / (2 * nj) > 0:\n",
    "        return OLS_beta - lambdaa / (2 * nj)\n",
    "    elif OLS_beta + lambdaa / (2 * nj) < 0:\n",
    "        return OLS_beta + lambdaa / (2 * nj)\n",
    "    else:\n",
    "        return 0\n",
    "\n",
    "# Values of OLS_beta and corresponding nj values\n",
    "OLS_beta_values = [2, 3, 4, 5]\n",
    "nj_values = [2, 3, 2, 3]\n",
    "\n",
    "# Values of lambdaa (from 0 to 50)\n",
    "lambdaa_values = np.linspace(0, 50, 1000)\n",
    "\n",
    "# Plotting\n",
    "plt.figure(figsize=(8, 6))\n",
    "\n",
    "for idx, (OLS_beta, nj) in enumerate(zip(OLS_beta_values, nj_values)):\n",
    "    beta_values = [LASSO_beta(OLS_beta, lambdaa, nj) for lambdaa in lambdaa_values]\n",
    "    plt.plot(lambdaa_values, beta_values, label=r'$\\hat\\beta^{{LASSO}}_{{{}}}$'.format(idx+1))\n",
    "\n",
    "plt.xlabel(r'$\\lambda$')\n",
    "plt.ylabel(r'$\\hat \\beta_j^{{LASSO}}$')\n",
    "plt.title(r'$\\hat\\beta_j^{{LASSO}}$ vs. $\\lambda$')\n",
    "plt.legend()\n",
    "plt.grid(True)\n",
    "plt.show()\n"
   ]
  },
  {
   "cell_type": "markdown",
   "id": "da825ccb",
   "metadata": {},
   "source": [
    "## (i)"
   ]
  },
  {
   "cell_type": "markdown",
   "id": "dcb5ae7e",
   "metadata": {},
   "source": [
    "When $\\lambda$ is larger, the penalty for having non-zero coefficients becomes more significant. As a result, the optimization process tends to shrink more coefficients towards zero, effectively selecting a subset of features and encouraging sparsity in the model."
   ]
  }
 ],
 "metadata": {
  "kernelspec": {
   "display_name": "Python 3 (ipykernel)",
   "language": "python",
   "name": "python3"
  },
  "language_info": {
   "codemirror_mode": {
    "name": "ipython",
    "version": 3
   },
   "file_extension": ".py",
   "mimetype": "text/x-python",
   "name": "python",
   "nbconvert_exporter": "python",
   "pygments_lexer": "ipython3",
   "version": "3.10.9"
  },
  "toc": {
   "base_numbering": 1,
   "nav_menu": {},
   "number_sections": true,
   "sideBar": true,
   "skip_h1_title": false,
   "title_cell": "Table of Contents",
   "title_sidebar": "Contents",
   "toc_cell": false,
   "toc_position": {},
   "toc_section_display": true,
   "toc_window_display": false
  }
 },
 "nbformat": 4,
 "nbformat_minor": 5
}
