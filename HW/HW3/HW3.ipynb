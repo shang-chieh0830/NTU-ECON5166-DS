{
 "cells": [
  {
   "cell_type": "markdown",
   "id": "debae1f0",
   "metadata": {},
   "source": [
    "# Question 1"
   ]
  },
  {
   "cell_type": "code",
   "execution_count": null,
   "id": "408437d8",
   "metadata": {},
   "outputs": [],
   "source": []
  },
  {
   "cell_type": "markdown",
   "id": "e8269caf",
   "metadata": {},
   "source": [
    "## (a) What is the optimal clustering that minimizes the total within-cluster sum of squared Euclidean distance?"
   ]
  },
  {
   "cell_type": "code",
   "execution_count": null,
   "id": "96f7a948",
   "metadata": {},
   "outputs": [],
   "source": []
  },
  {
   "cell_type": "markdown",
   "id": "221abb86",
   "metadata": {},
   "source": [
    "## (b) "
   ]
  },
  {
   "cell_type": "code",
   "execution_count": null,
   "id": "0559ae1c",
   "metadata": {},
   "outputs": [],
   "source": []
  },
  {
   "cell_type": "markdown",
   "id": "e7726fd6",
   "metadata": {},
   "source": [
    "## (c)"
   ]
  },
  {
   "cell_type": "code",
   "execution_count": null,
   "id": "b1af7188",
   "metadata": {},
   "outputs": [],
   "source": []
  },
  {
   "cell_type": "markdown",
   "id": "e7edf4b8",
   "metadata": {},
   "source": [
    "# Question 2"
   ]
  },
  {
   "cell_type": "markdown",
   "id": "4f43cc9a",
   "metadata": {},
   "source": [
    "$new\\_births_{ct}=\\alpha_0+\\alpha_1year_t+\\epsilon_{ct}$"
   ]
  },
  {
   "cell_type": "markdown",
   "id": "0d1ebc97",
   "metadata": {},
   "source": [
    "## (a) Find $\\hat\\alpha_0, \\hat \\alpha_1$"
   ]
  },
  {
   "cell_type": "markdown",
   "id": "b852fa2c",
   "metadata": {},
   "source": [
    "Since $\\hat\\alpha_0=\\bar y - \\hat \\alpha_1\\bar x$ and $\\hat\\alpha_1=\\frac{\\sum_{i=1}^{n}(x_i-\\bar x)(y_i-\\bar y)}{\\sum_{i=1}^{n}(x_i-\\bar x)^2}$ \n",
    "\n",
    "and $\\overline{year} = 2021, \\overline{new\\_births} = 18000$\n",
    "\n",
    "$\\hat \\alpha_1=\\frac{\\sum_{t=1}^{6}(year_t-\\overline{year})(new\\_births_{ct}-\\overline{new\\_births})}{\\sum_{t=1}^{6}(year_t-\\overline{year})^2}=-2000$\n",
    "\n",
    "$\\hat \\alpha_0 = 18000 - (-2000)(2021) = 4060000$"
   ]
  },
  {
   "cell_type": "markdown",
   "id": "64011f79",
   "metadata": {},
   "source": [
    "## (b) Find $\\hat\\beta_1, \\hat\\beta_2, \\hat\\beta_3$"
   ]
  },
  {
   "cell_type": "code",
   "execution_count": null,
   "id": "a9c8b884",
   "metadata": {},
   "outputs": [],
   "source": []
  },
  {
   "cell_type": "markdown",
   "id": "28c3e09d",
   "metadata": {},
   "source": [
    "## (c) Find $\\hat\\gamma_0, \\hat\\gamma_1, \\hat\\gamma_2$"
   ]
  },
  {
   "cell_type": "code",
   "execution_count": null,
   "id": "d6f6560b",
   "metadata": {},
   "outputs": [],
   "source": []
  },
  {
   "cell_type": "code",
   "execution_count": null,
   "id": "c896a8ba",
   "metadata": {},
   "outputs": [],
   "source": [
    "## (c) Find"
   ]
  },
  {
   "cell_type": "code",
   "execution_count": null,
   "id": "a94155e0",
   "metadata": {},
   "outputs": [],
   "source": []
  },
  {
   "cell_type": "code",
   "execution_count": null,
   "id": "10074a1b",
   "metadata": {},
   "outputs": [],
   "source": []
  },
  {
   "cell_type": "code",
   "execution_count": null,
   "id": "389fe44c",
   "metadata": {},
   "outputs": [],
   "source": []
  }
 ],
 "metadata": {
  "kernelspec": {
   "display_name": "Python 3 (ipykernel)",
   "language": "python",
   "name": "python3"
  },
  "language_info": {
   "codemirror_mode": {
    "name": "ipython",
    "version": 3
   },
   "file_extension": ".py",
   "mimetype": "text/x-python",
   "name": "python",
   "nbconvert_exporter": "python",
   "pygments_lexer": "ipython3",
   "version": "3.10.9"
  },
  "toc": {
   "base_numbering": 1,
   "nav_menu": {},
   "number_sections": true,
   "sideBar": true,
   "skip_h1_title": false,
   "title_cell": "Table of Contents",
   "title_sidebar": "Contents",
   "toc_cell": false,
   "toc_position": {},
   "toc_section_display": true,
   "toc_window_display": false
  }
 },
 "nbformat": 4,
 "nbformat_minor": 5
}
