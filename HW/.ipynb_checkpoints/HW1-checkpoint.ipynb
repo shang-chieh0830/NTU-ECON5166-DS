{
 "cells": [
  {
   "cell_type": "markdown",
   "id": "2d7c09e5",
   "metadata": {},
   "source": [
    "# Question 1"
   ]
  },
  {
   "cell_type": "markdown",
   "id": "71151be2",
   "metadata": {},
   "source": [
    "The empirical distribution funtion with a sample size $n$ is defined as:\n",
    "\n",
    "$$\\hat F_n(x)=\\frac1n \\sum_{i=1}^{n}\\mathbb{1}_{(-\\infty, x]}(X_i)$$\n",
    "\n",
    "From questions (a) to (c), consider $n=10$ and \n",
    "\n",
    "$$(X_1, X_2, \\dots, X_{10})=(-2.2, 3.46, 2.8, 5.3, 4.84, -3.2, 6.32, 7.7, 1.5, -1.32)$$"
   ]
  },
  {
   "cell_type": "markdown",
   "id": "9620e9e5",
   "metadata": {},
   "source": [
    "## (a) Find $\\hat F_n(4)$  and $\\hat F_n(-3)$"
   ]
  },
  {
   "cell_type": "markdown",
   "id": "ebf62072",
   "metadata": {},
   "source": [
    "$\\hat F_n(4)=6/10=0.6$  \n",
    "\n",
    "\n",
    "$\\hat F_n(-3)=1/10=0.1$"
   ]
  },
  {
   "cell_type": "markdown",
   "id": "da50175b",
   "metadata": {},
   "source": [
    "## (b)"
   ]
  },
  {
   "cell_type": "markdown",
   "id": "8f2d6ec8",
   "metadata": {},
   "source": [
    "`enumerate()` returns an iterator that generates pairs of two values for each item in the iterable:\n",
    "\n",
    "- The first value is the index (position) of the item in the iterable.\n",
    "- The second value is the actual item from the iterable."
   ]
  },
  {
   "cell_type": "code",
   "execution_count": 12,
   "id": "f146ac88",
   "metadata": {},
   "outputs": [
    {
     "data": {
      "image/png": "[encoded data removed]",
      "text/plain": [
       "<Figure size 640x480 with 1 Axes>"
      ]
     },
     "metadata": {},
     "output_type": "display_data"
    }
   ],
   "source": [
    "import numpy as np\n",
    "import matplotlib.pyplot as plt\n",
    "\n",
    "# Given random sample\n",
    "data = [-2.2, 3.46, 2.8, 5.3, 4.84, -3.2, 6.32, 7.7, 1.5, -1.32]\n",
    "\n",
    "# Define the range of values\n",
    "x_range = np.arange(-10, 10.01, 0.01)\n",
    "\n",
    "# Initialize an array to store the cumulative probabilities\n",
    "edf = np.zeros(len(x_range))\n",
    "\n",
    "# Calculate the EDF\n",
    "for i, x in enumerate(x_range):\n",
    "    count = sum(1 for data_point in data if data_point <= x)\n",
    "    cumulative_prob = count / len(data)\n",
    "    edf[i] = cumulative_prob\n",
    "\n",
    "# Plot the EDF\n",
    "plt.plot(x_range, edf)\n",
    "plt.xlabel('X')\n",
    "plt.ylabel('Empirical Distribution Function (EDF)')\n",
    "plt.title('Empirical Distribution Function Plot')\n",
    "plt.grid(True)\n",
    "plt.show()\n"
   ]
  },
  {
   "cell_type": "markdown",
   "id": "4e4bc331",
   "metadata": {},
   "source": [
    "## (c)"
   ]
  },
  {
   "cell_type": "markdown",
   "id": "912ac769",
   "metadata": {},
   "source": [
    "Clearly, $\\hat F_n(x)$ is a non-decreasing function"
   ]
  },
  {
   "cell_type": "markdown",
   "id": "62e67f13",
   "metadata": {},
   "source": [
    "## (d)"
   ]
  },
  {
   "cell_type": "markdown",
   "id": "7b74417d",
   "metadata": {},
   "source": [
    "Hint: If $X\\sim Ber(p)$, then $E(X)=p$ and $Var(X)=p(1-p)$"
   ]
  },
  {
   "cell_type": "markdown",
   "id": "9027f56e",
   "metadata": {},
   "source": [
    "\n",
    "\n",
    "$$\n",
    "\\begin{align}\n",
    "E[\\hat F_n(x)]&=E[\\frac1n \\sum_{i=1}^{n}\\mathbb{1}_{(-\\infty, x]}(X_i)]\\\\\n",
    "&=\\frac1n \\sum_{i=1}^{n}E[\\mathbb{1}_{(-\\infty, x]}(X_i)]\\\\\n",
    "&=\\frac1n \\sum_{i=1}^{n}\\Pr(X_i\\le x)\\quad\\quad\\text{(by hint)}\\\\\n",
    "&=\\frac1n \\sum_{i=1}^{n}F_X(x)\\\\\n",
    "&=\\frac1n nF_X(x)\\\\\n",
    "&=F_X(x)\n",
    "\\end{align}\n",
    "$$\n",
    "\n",
    "Hence, $E[\\hat F_n(0)]=F_X(0)$ which is independent of n."
   ]
  },
  {
   "cell_type": "markdown",
   "id": "553f18ab",
   "metadata": {},
   "source": [
    "## (e)"
   ]
  },
  {
   "cell_type": "markdown",
   "id": "398df645",
   "metadata": {},
   "source": [
    "$$\n",
    "\\begin{align}\n",
    "Var[\\hat F_n(x)]&=Var[\\frac1n \\sum_{i=1}^{n}\\mathbb{1}_{(-\\infty, x]}(X_i)]\\\\\n",
    "&=\\frac{1}{n^2}Var[\\sum_{i=1}^{n}\\mathbb{1}_{(-\\infty, x]}(X_i)]\\\\\n",
    "&=\\frac{1}{n^2}\\sum_{i=1}^{n}Var[\\mathbb{1}_{(-\\infty, x]}(X_i)]\\quad\\quad\\text{(by mutual independence)}\\\\\n",
    "&=\\frac{1}{n^2}\\sum_{i=1}^{n}\\Pr(X_i\\le x)[1-\\Pr(X_i\\le x)]\\quad\\quad\\text{(by hint)}\\\\\n",
    "&=\\frac{1}{n^2}\\sum_{i=1}^{n}F_X(x)[1-F_X(x)]\\\\\n",
    "&=\\frac{1}{n^2}nF_X(x)[1-F_X(x)]\\\\\n",
    "&=\\frac1n F_X(x)[1-F_X(x)]\n",
    "\\end{align}\n",
    "$$\n",
    "\n",
    "Hence, $Var[\\hat F_n(0)]=\\frac1n F_X(0)[1-F_X(0)]$ which is dependent on n."
   ]
  },
  {
   "cell_type": "markdown",
   "id": "c33a96e8",
   "metadata": {},
   "source": [
    "## (f)"
   ]
  },
  {
   "cell_type": "markdown",
   "id": "3a548a5b",
   "metadata": {},
   "source": [
    "We've shown the empirical distribution function is an unbiased estimator of the true distribution function.\n",
    "\n",
    "Furthermore, as $n\\rightarrow \\infty$, we have $Var[\\hat F_n(x)]\\rightarrow 0$\n",
    "\n",
    "Hence, $\\hat F_n(0)$ is a good estimator of $F_X(0)$"
   ]
  },
  {
   "cell_type": "markdown",
   "id": "686706ea",
   "metadata": {},
   "source": [
    "## (g)"
   ]
  },
  {
   "cell_type": "markdown",
   "id": "548fd5c5",
   "metadata": {},
   "source": [
    "Given $X\\sim N(0, 1)$, $F_X(0)=\\frac12$"
   ]
  },
  {
   "cell_type": "markdown",
   "id": "642c3f2f",
   "metadata": {},
   "source": [
    "## (h)"
   ]
  },
  {
   "cell_type": "code",
   "execution_count": 13,
   "id": "1458479a",
   "metadata": {},
   "outputs": [
    {
     "data": {
      "image/png": "[encoded data removed]",
      "text/plain": [
       "<Figure size 640x480 with 1 Axes>"
      ]
     },
     "metadata": {},
     "output_type": "display_data"
    },
    {
     "name": "stdout",
     "output_type": "stream",
     "text": [
      "The Empirical distribution function at x=0 obtained from the first round of simulation is: 0.48\n"
     ]
    }
   ],
   "source": [
    "np.random.seed(5516)\n",
    "\n",
    "mu, sigma = 0, 1\n",
    "n = 100 # number of data points in each simulation\n",
    "R = 10000 # number of simulations\n",
    "\n",
    "\n",
    "# Initialize an empty array of length R to store EDF\n",
    "edf_values = np.zeros(R)\n",
    "\n",
    "# Simulate and calculate EDF for each round of simulation\n",
    "for i in range(R):\n",
    "    # Generate a random sample of size n from a standard normal distribution\n",
    "    data = np.random.normal(mu, sigma, n)\n",
    "    \n",
    "    # Calculate the EDF at x=0\n",
    "    edf_at_zero = sum(1 for value in data if value <= 0) / n\n",
    "    edf_values[i] = edf_at_zero\n",
    "    \n",
    "    \n",
    "    \n",
    "# Plot the histogram of EDF values\n",
    "plt.hist(edf_values, bins=35, density=True, alpha=0.7, color='blue')\n",
    "plt.xlabel('EDF at x=0')\n",
    "plt.ylabel('Density')\n",
    "plt.title('Empirical Distribution Function at x=0 (10,000 Simulations)')\n",
    "plt.grid(True)\n",
    "plt.show()\n",
    "\n",
    "print(\"The Empirical distribution function at x=0 obtained from the first round of simulation is:\", edf_values[0])"
   ]
  },
  {
   "cell_type": "markdown",
   "id": "a449a43e",
   "metadata": {},
   "source": [
    "Calculate the MSE:\n",
    "\n",
    "$$\\frac{1}{10000}\\sum_{b=1}^{10000}[\\hat F_{n,b}(0)-F_X(0)]^2$$\n",
    "\n",
    "which is the average squared distance between the estimator $\\hat F_{n,b}(0)$ and its true value $F_X(0)$"
   ]
  },
  {
   "cell_type": "code",
   "execution_count": 3,
   "id": "1afe7405",
   "metadata": {},
   "outputs": [
    {
     "name": "stdout",
     "output_type": "stream",
     "text": [
      "Mean Squared Error (MSE): 0.0025139000000000003\n"
     ]
    }
   ],
   "source": [
    "# True value of the EDF at x=0\n",
    "true_value = 1/2\n",
    "\n",
    "# Calculate the squared differences between simulated EDF and true value\n",
    "squared_differences = [(edf - true_value)**2 for edf in edf_values]\n",
    "\n",
    "# Calculate the mean squared error (MSE)\n",
    "mse = np.mean(squared_differences)\n",
    "\n",
    "print(\"Mean Squared Error (MSE):\", mse)"
   ]
  },
  {
   "cell_type": "markdown",
   "id": "f92ba31c",
   "metadata": {},
   "source": [
    "## (i)"
   ]
  },
  {
   "cell_type": "code",
   "execution_count": 15,
   "id": "1caf031f",
   "metadata": {},
   "outputs": [
    {
     "name": "stdout",
     "output_type": "stream",
     "text": [
      "Mean Squared Error (MSE) with n=200: 0.0012372900000000005\n"
     ]
    }
   ],
   "source": [
    "np.random.seed(5516)\n",
    "\n",
    "mu, sigma = 0, 1\n",
    "n = 200 # number of data points in each simulation\n",
    "R = 10000 # number of simulations\n",
    "\n",
    "\n",
    "# Initialize an empty array of length R to store EDF\n",
    "edf_values = np.zeros(R)\n",
    "\n",
    "# Simulate and calculate EDF for each round of simulation\n",
    "for i in range(R):\n",
    "    # Generate a random sample of size n from a standard normal distribution\n",
    "    data = np.random.normal(mu, sigma, n)\n",
    "    \n",
    "    # Calculate the EDF at x=0\n",
    "    edf_at_zero = sum(1 for value in data if value <= 0) / n\n",
    "    edf_values[i] = edf_at_zero\n",
    "    \n",
    "# True value of the EDF at x=0\n",
    "true_value = 1/2\n",
    "\n",
    "# Calculate the squared differences between simulated EDF and true value\n",
    "squared_differences = [(edf - true_value)**2 for edf in edf_values]\n",
    "\n",
    "# Calculate the mean squared error (MSE)\n",
    "mse = np.mean(squared_differences)\n",
    "\n",
    "print(\"Mean Squared Error (MSE) with n=200:\", mse)"
   ]
  },
  {
   "cell_type": "code",
   "execution_count": 16,
   "id": "e43bb95c",
   "metadata": {},
   "outputs": [
    {
     "name": "stdout",
     "output_type": "stream",
     "text": [
      "Mean Squared Error (MSE) with n=500: 0.0004995412000000004\n"
     ]
    }
   ],
   "source": [
    "np.random.seed(5516)\n",
    "\n",
    "mu, sigma = 0, 1\n",
    "n = 500 # number of data points in each simulation\n",
    "R = 10000 # number of simulations\n",
    "\n",
    "\n",
    "# Initialize an empty array of length R to store EDF\n",
    "edf_values = np.zeros(R)\n",
    "\n",
    "# Simulate and calculate EDF for each round of simulation\n",
    "for i in range(R):\n",
    "    # Generate a random sample of size n from a standard normal distribution\n",
    "    data = np.random.normal(mu, sigma, n)\n",
    "    \n",
    "    # Calculate the EDF at x=0\n",
    "    edf_at_zero = sum(1 for value in data if value <= 0) / n\n",
    "    edf_values[i] = edf_at_zero\n",
    "    \n",
    "# True value of the EDF at x=0\n",
    "true_value = 1/2\n",
    "\n",
    "# Calculate the squared differences between simulated EDF and true value\n",
    "squared_differences = [(edf - true_value)**2 for edf in edf_values]\n",
    "\n",
    "# Calculate the mean squared error (MSE)\n",
    "mse = np.mean(squared_differences)\n",
    "\n",
    "print(\"Mean Squared Error (MSE) with n=500:\", mse)"
   ]
  },
  {
   "cell_type": "markdown",
   "id": "0638876e",
   "metadata": {},
   "source": [
    "The MSE is smaller when n is larger."
   ]
  },
  {
   "cell_type": "markdown",
   "id": "fbba6cb1",
   "metadata": {},
   "source": [
    "## (j)"
   ]
  },
  {
   "cell_type": "markdown",
   "id": "d5f2b05a",
   "metadata": {},
   "source": [
    "CLT states that \n",
    "\n",
    "$$\\sqrt{n}(\\hat F_n(t)-F(t))\\xrightarrow{d} N(0, F(t)(1-F(t)))$$"
   ]
  },
  {
   "cell_type": "code",
   "execution_count": 6,
   "id": "16452578",
   "metadata": {},
   "outputs": [
    {
     "data": {
      "image/png": "[encoded data removed]",
      "text/plain": [
       "<Figure size 640x480 with 1 Axes>"
      ]
     },
     "metadata": {},
     "output_type": "display_data"
    }
   ],
   "source": [
    "from scipy.stats import norm\n",
    "\n",
    "np.random.seed(5516)\n",
    "\n",
    "mu, sigma = 0, 1\n",
    "n = 500 # number of data points in each simulation\n",
    "R = 10000 # number of simulations\n",
    "\n",
    "\n",
    "# Initialize an empty array of length R to store EDF\n",
    "edf_values = np.zeros(R)\n",
    "\n",
    "# Simulate and calculate EDF for each round of simulation\n",
    "for i in range(R):\n",
    "    # Generate a random sample of size n from a standard normal distribution\n",
    "    data = np.random.normal(mu, sigma, n)\n",
    "    \n",
    "    # Calculate the EDF at x=0\n",
    "    edf_at_zero = sum(1 for value in data if value <= 0) / n\n",
    "    edf_values[i] = edf_at_zero\n",
    "    \n",
    "# True value of the EDF at x=0\n",
    "true_value = 1/2\n",
    "\n",
    "# Calculate the squared differences between simulated EDF and true value\n",
    "differences = [(edf - true_value) for edf in edf_values] \n",
    "\n",
    "\n",
    "adjusted_differences = [diff * np.sqrt(n) for diff in differences]\n",
    "\n",
    "# Plot a histogram of the adjusted differences\n",
    "plt.hist(adjusted_differences, bins=40, density=True, alpha=0.7, color='blue')\n",
    "\n",
    "# Plot the true standard normal distribution PDF\n",
    "x_range = np.linspace(-3, 3, 1000)\n",
    "pdf_values = norm.pdf(x_range, loc=mu, scale=0.5*0.5)\n",
    "plt.plot(x_range, pdf_values, color=\"red\")\n",
    "\n",
    "\n",
    "plt.xlabel('Adjusted Differences')\n",
    "plt.ylabel('Density')\n",
    "plt.title('Histogram of Adjusted Differences')\n",
    "plt.grid(True)\n",
    "plt.show()"
   ]
  },
  {
   "cell_type": "markdown",
   "id": "f24e988b",
   "metadata": {},
   "source": [
    "The plot somewhat supports CLT."
   ]
  },
  {
   "cell_type": "markdown",
   "id": "85173f6e",
   "metadata": {},
   "source": [
    "# Question 2"
   ]
  },
  {
   "cell_type": "markdown",
   "id": "d35fa547",
   "metadata": {},
   "source": [
    "## (a)\n",
    "\n",
    "1. Convert the `price` column to numerical format (float)\n",
    "\n",
    "2. Handle missing values in the `rating` column.\n",
    "\n",
    "3. Convert the `rating` to float, as `distance` to integer\n",
    "\n",
    "4. Remove the [,] and , from `comment`\n",
    "\n",
    "5. Transform all the distances to meter\n",
    "\n",
    "6. Do you spot anything else?"
   ]
  },
  {
   "cell_type": "code",
   "execution_count": 35,
   "id": "8322d2d0",
   "metadata": {},
   "outputs": [
    {
     "data": {
      "text/html": [
       "<div>\n",
       "<style scoped>\n",
       "    .dataframe tbody tr th:only-of-type {\n",
       "        vertical-align: middle;\n",
       "    }\n",
       "\n",
       "    .dataframe tbody tr th {\n",
       "        vertical-align: top;\n",
       "    }\n",
       "\n",
       "    .dataframe thead th {\n",
       "        text-align: right;\n",
       "    }\n",
       "</style>\n",
       "<table border=\"1\" class=\"dataframe\">\n",
       "  <thead>\n",
       "    <tr style=\"text-align: right;\">\n",
       "      <th></th>\n",
       "      <th>name</th>\n",
       "      <th>location</th>\n",
       "      <th>price</th>\n",
       "      <th>rating</th>\n",
       "      <th>distance</th>\n",
       "      <th>comment</th>\n",
       "    </tr>\n",
       "  </thead>\n",
       "  <tbody>\n",
       "    <tr>\n",
       "      <th>0</th>\n",
       "      <td>路徒Plus行旅-站前館</td>\n",
       "      <td>中正區, 台北</td>\n",
       "      <td>TWD 6,494</td>\n",
       "      <td>8.5</td>\n",
       "      <td>距中心 400 公尺</td>\n",
       "      <td>非常好</td>\n",
       "    </tr>\n",
       "    <tr>\n",
       "      <th>1</th>\n",
       "      <td>西門邑居會館</td>\n",
       "      <td>萬華區, 台北</td>\n",
       "      <td>TWD 1,893</td>\n",
       "      <td>NaN</td>\n",
       "      <td>距中心 1.1 公里</td>\n",
       "      <td>NaN</td>\n",
       "    </tr>\n",
       "    <tr>\n",
       "      <th>2</th>\n",
       "      <td>小隱居Hermit_Dorm</td>\n",
       "      <td>松山區, 台北</td>\n",
       "      <td>TWD 2,643</td>\n",
       "      <td>10.0</td>\n",
       "      <td>距中心 5.3 公里</td>\n",
       "      <td>傑出</td>\n",
       "    </tr>\n",
       "    <tr>\n",
       "      <th>3</th>\n",
       "      <td>首都大飯店松山館</td>\n",
       "      <td>松山區, 台北</td>\n",
       "      <td>TWD 3,312</td>\n",
       "      <td>8.0</td>\n",
       "      <td>距中心 5.9 公里</td>\n",
       "      <td>非常好</td>\n",
       "    </tr>\n",
       "    <tr>\n",
       "      <th>4</th>\n",
       "      <td>苓旅中山館-Lininn ZhongShan</td>\n",
       "      <td>中山區, 台北</td>\n",
       "      <td>TWD 3,080</td>\n",
       "      <td>8.6</td>\n",
       "      <td>距中心 2.4 公里</td>\n",
       "      <td>很棒</td>\n",
       "    </tr>\n",
       "    <tr>\n",
       "      <th>...</th>\n",
       "      <td>...</td>\n",
       "      <td>...</td>\n",
       "      <td>...</td>\n",
       "      <td>...</td>\n",
       "      <td>...</td>\n",
       "      <td>...</td>\n",
       "    </tr>\n",
       "    <tr>\n",
       "      <th>95</th>\n",
       "      <td>雀客旅館新北蘆洲</td>\n",
       "      <td>蘆洲, 台北</td>\n",
       "      <td>TWD 3,610</td>\n",
       "      <td>8.7</td>\n",
       "      <td>距中心 5.4 公里</td>\n",
       "      <td>很棒</td>\n",
       "    </tr>\n",
       "    <tr>\n",
       "      <th>96</th>\n",
       "      <td>捷絲旅台北三重館</td>\n",
       "      <td>三重, 台北</td>\n",
       "      <td>TWD 4,634</td>\n",
       "      <td>9.1</td>\n",
       "      <td>距中心 4.6 公里</td>\n",
       "      <td>好極了</td>\n",
       "    </tr>\n",
       "    <tr>\n",
       "      <th>97</th>\n",
       "      <td>甲山林湯旅</td>\n",
       "      <td>中山區, 台北</td>\n",
       "      <td>TWD 4,837</td>\n",
       "      <td>8.4</td>\n",
       "      <td>距中心 2.5 公里</td>\n",
       "      <td>非常好</td>\n",
       "    </tr>\n",
       "    <tr>\n",
       "      <th>98</th>\n",
       "      <td>北投享溫泉</td>\n",
       "      <td>北投區, 台北</td>\n",
       "      <td>TWD 5,681</td>\n",
       "      <td>8.0</td>\n",
       "      <td>距中心 10.1 公里</td>\n",
       "      <td>非常好</td>\n",
       "    </tr>\n",
       "    <tr>\n",
       "      <th>99</th>\n",
       "      <td>美侖商旅</td>\n",
       "      <td>中山區, 台北</td>\n",
       "      <td>TWD 9,900</td>\n",
       "      <td>9.0</td>\n",
       "      <td>距中心 1.5 公里</td>\n",
       "      <td>好極了</td>\n",
       "    </tr>\n",
       "  </tbody>\n",
       "</table>\n",
       "<p>100 rows × 6 columns</p>\n",
       "</div>"
      ],
      "text/plain": [
       "                      name location      price  rating     distance comment\n",
       "0             路徒Plus行旅-站前館  中正區, 台北  TWD 6,494     8.5   距中心 400 公尺     非常好\n",
       "1                   西門邑居會館  萬華區, 台北  TWD 1,893     NaN   距中心 1.1 公里     NaN\n",
       "2           小隱居Hermit_Dorm  松山區, 台北  TWD 2,643    10.0   距中心 5.3 公里      傑出\n",
       "3                 首都大飯店松山館  松山區, 台北  TWD 3,312     8.0   距中心 5.9 公里     非常好\n",
       "4   苓旅中山館-Lininn ZhongShan  中山區, 台北  TWD 3,080     8.6   距中心 2.4 公里      很棒\n",
       "..                     ...      ...        ...     ...          ...     ...\n",
       "95                雀客旅館新北蘆洲   蘆洲, 台北  TWD 3,610     8.7   距中心 5.4 公里      很棒\n",
       "96                捷絲旅台北三重館   三重, 台北  TWD 4,634     9.1   距中心 4.6 公里     好極了\n",
       "97                   甲山林湯旅  中山區, 台北  TWD 4,837     8.4   距中心 2.5 公里     非常好\n",
       "98                   北投享溫泉  北投區, 台北  TWD 5,681     8.0  距中心 10.1 公里     非常好\n",
       "99                    美侖商旅  中山區, 台北  TWD 9,900     9.0   距中心 1.5 公里     好極了\n",
       "\n",
       "[100 rows x 6 columns]"
      ]
     },
     "execution_count": 35,
     "metadata": {},
     "output_type": "execute_result"
    }
   ],
   "source": [
    "import pandas as pd\n",
    "\n",
    "hotels = pd.read_csv(\"hotels.csv\")\n",
    "\n",
    "hotels"
   ]
  },
  {
   "cell_type": "code",
   "execution_count": 36,
   "id": "67cf1b75",
   "metadata": {},
   "outputs": [],
   "source": [
    "# 1. Remove \"TWD\" and commas from the 'price' column and convert it to float\n",
    "hotels['price'] = hotels['price'].str.replace('TWD', '').str.replace(',', '').astype(float)\n",
    "\n",
    "\n",
    "# 2. # Use dropna to remove rows with NaN values in the \"rating\" column\n",
    "hotels.dropna(subset=['rating'], inplace=True) # The inplace=True argument modifies the original DataFrame in place, so you don't need to reassign it\n",
    "\n",
    "# 3. \n",
    "\n",
    "hotels[\"rating\"] = hotels[\"rating\"].astype(float)\n",
    "\n",
    "# Use apply with a lambda function to convert and clean the \"distance\" column\n",
    "hotels['distance'] = hotels['distance'].apply(lambda x: int(float(x.replace('距中心 ', '').split(' ')[0]) * 1000) if '公里' in x else int(x.replace('距中心 ', '').split(' ')[0]))\n",
    "\n",
    "\n"
   ]
  },
  {
   "cell_type": "markdown",
   "id": "d4485905",
   "metadata": {},
   "source": [
    "Also, it appears that some locations are mismatched. For example, `板橋`, `蘆洲`, and `三重` belong to `新北市`."
   ]
  },
  {
   "cell_type": "code",
   "execution_count": 37,
   "id": "03c26c0e",
   "metadata": {},
   "outputs": [],
   "source": [
    "# Create a dictionary to define the replacements\n",
    "replacement_dict = {\n",
    "    \"蘆洲, 台北\": \"蘆洲, 新北\",\n",
    "    \"三重, 台北\": \"三重, 新北\",\n",
    "    \"板橋, 台北\": \"板橋, 新北\"\n",
    "}\n",
    "\n",
    "# Use the replace method to apply the replacements to the 'location' column\n",
    "hotels['location'] = hotels['location'].replace(replacement_dict)"
   ]
  },
  {
   "cell_type": "code",
   "execution_count": 39,
   "id": "7b5c342b",
   "metadata": {},
   "outputs": [
    {
     "data": {
      "text/html": [
       "<div>\n",
       "<style scoped>\n",
       "    .dataframe tbody tr th:only-of-type {\n",
       "        vertical-align: middle;\n",
       "    }\n",
       "\n",
       "    .dataframe tbody tr th {\n",
       "        vertical-align: top;\n",
       "    }\n",
       "\n",
       "    .dataframe thead th {\n",
       "        text-align: right;\n",
       "    }\n",
       "</style>\n",
       "<table border=\"1\" class=\"dataframe\">\n",
       "  <thead>\n",
       "    <tr style=\"text-align: right;\">\n",
       "      <th></th>\n",
       "      <th>name</th>\n",
       "      <th>location</th>\n",
       "      <th>price</th>\n",
       "      <th>rating</th>\n",
       "      <th>distance</th>\n",
       "      <th>comment</th>\n",
       "    </tr>\n",
       "  </thead>\n",
       "  <tbody>\n",
       "    <tr>\n",
       "      <th>0</th>\n",
       "      <td>路徒Plus行旅-站前館</td>\n",
       "      <td>中正區, 台北</td>\n",
       "      <td>6494.0</td>\n",
       "      <td>8.5</td>\n",
       "      <td>400</td>\n",
       "      <td>非常好</td>\n",
       "    </tr>\n",
       "    <tr>\n",
       "      <th>2</th>\n",
       "      <td>小隱居Hermit_Dorm</td>\n",
       "      <td>松山區, 台北</td>\n",
       "      <td>2643.0</td>\n",
       "      <td>10.0</td>\n",
       "      <td>5300</td>\n",
       "      <td>傑出</td>\n",
       "    </tr>\n",
       "    <tr>\n",
       "      <th>3</th>\n",
       "      <td>首都大飯店松山館</td>\n",
       "      <td>松山區, 台北</td>\n",
       "      <td>3312.0</td>\n",
       "      <td>8.0</td>\n",
       "      <td>5900</td>\n",
       "      <td>非常好</td>\n",
       "    </tr>\n",
       "    <tr>\n",
       "      <th>4</th>\n",
       "      <td>苓旅中山館-Lininn ZhongShan</td>\n",
       "      <td>中山區, 台北</td>\n",
       "      <td>3080.0</td>\n",
       "      <td>8.6</td>\n",
       "      <td>2400</td>\n",
       "      <td>很棒</td>\n",
       "    </tr>\n",
       "    <tr>\n",
       "      <th>5</th>\n",
       "      <td>怡品商旅</td>\n",
       "      <td>大安區, 台北</td>\n",
       "      <td>3116.0</td>\n",
       "      <td>8.4</td>\n",
       "      <td>3100</td>\n",
       "      <td>非常好</td>\n",
       "    </tr>\n",
       "    <tr>\n",
       "      <th>...</th>\n",
       "      <td>...</td>\n",
       "      <td>...</td>\n",
       "      <td>...</td>\n",
       "      <td>...</td>\n",
       "      <td>...</td>\n",
       "      <td>...</td>\n",
       "    </tr>\n",
       "    <tr>\n",
       "      <th>95</th>\n",
       "      <td>雀客旅館新北蘆洲</td>\n",
       "      <td>蘆洲, 新北</td>\n",
       "      <td>3610.0</td>\n",
       "      <td>8.7</td>\n",
       "      <td>5400</td>\n",
       "      <td>很棒</td>\n",
       "    </tr>\n",
       "    <tr>\n",
       "      <th>96</th>\n",
       "      <td>捷絲旅台北三重館</td>\n",
       "      <td>三重, 新北</td>\n",
       "      <td>4634.0</td>\n",
       "      <td>9.1</td>\n",
       "      <td>4600</td>\n",
       "      <td>好極了</td>\n",
       "    </tr>\n",
       "    <tr>\n",
       "      <th>97</th>\n",
       "      <td>甲山林湯旅</td>\n",
       "      <td>中山區, 台北</td>\n",
       "      <td>4837.0</td>\n",
       "      <td>8.4</td>\n",
       "      <td>2500</td>\n",
       "      <td>非常好</td>\n",
       "    </tr>\n",
       "    <tr>\n",
       "      <th>98</th>\n",
       "      <td>北投享溫泉</td>\n",
       "      <td>北投區, 台北</td>\n",
       "      <td>5681.0</td>\n",
       "      <td>8.0</td>\n",
       "      <td>10100</td>\n",
       "      <td>非常好</td>\n",
       "    </tr>\n",
       "    <tr>\n",
       "      <th>99</th>\n",
       "      <td>美侖商旅</td>\n",
       "      <td>中山區, 台北</td>\n",
       "      <td>9900.0</td>\n",
       "      <td>9.0</td>\n",
       "      <td>1500</td>\n",
       "      <td>好極了</td>\n",
       "    </tr>\n",
       "  </tbody>\n",
       "</table>\n",
       "<p>99 rows × 6 columns</p>\n",
       "</div>"
      ],
      "text/plain": [
       "                      name location   price  rating  distance comment\n",
       "0             路徒Plus行旅-站前館  中正區, 台北  6494.0     8.5       400     非常好\n",
       "2           小隱居Hermit_Dorm  松山區, 台北  2643.0    10.0      5300      傑出\n",
       "3                 首都大飯店松山館  松山區, 台北  3312.0     8.0      5900     非常好\n",
       "4   苓旅中山館-Lininn ZhongShan  中山區, 台北  3080.0     8.6      2400      很棒\n",
       "5                     怡品商旅  大安區, 台北  3116.0     8.4      3100     非常好\n",
       "..                     ...      ...     ...     ...       ...     ...\n",
       "95                雀客旅館新北蘆洲   蘆洲, 新北  3610.0     8.7      5400      很棒\n",
       "96                捷絲旅台北三重館   三重, 新北  4634.0     9.1      4600     好極了\n",
       "97                   甲山林湯旅  中山區, 台北  4837.0     8.4      2500     非常好\n",
       "98                   北投享溫泉  北投區, 台北  5681.0     8.0     10100     非常好\n",
       "99                    美侖商旅  中山區, 台北  9900.0     9.0      1500     好極了\n",
       "\n",
       "[99 rows x 6 columns]"
      ]
     },
     "execution_count": 39,
     "metadata": {},
     "output_type": "execute_result"
    }
   ],
   "source": [
    "hotels"
   ]
  },
  {
   "cell_type": "markdown",
   "id": "eb8901d1",
   "metadata": {},
   "source": [
    "## (b)"
   ]
  },
  {
   "cell_type": "code",
   "execution_count": 40,
   "id": "50893bdb",
   "metadata": {},
   "outputs": [
    {
     "data": {
      "application/vnd.plotly.v1+json": {
       "config": {
        "plotlyServerURL": "https://plot.ly"
       },
       "data": [
        {
         "customdata": [
          [
           8.5
          ],
          [
           10
          ],
          [
           8
          ],
          [
           8.6
          ],
          [
           8.4
          ],
          [
           9
          ],
          [
           8.4
          ],
          [
           8.5
          ],
          [
           8.4
          ],
          [
           8.6
          ],
          [
           8.4
          ],
          [
           8.3
          ],
          [
           9.1
          ],
          [
           8.6
          ],
          [
           9
          ],
          [
           8.5
          ],
          [
           8.3
          ],
          [
           8.1
          ],
          [
           8
          ],
          [
           8.2
          ],
          [
           8.2
          ],
          [
           7.2
          ],
          [
           9.2
          ],
          [
           8.4
          ],
          [
           9.2
          ],
          [
           7.8
          ],
          [
           8.4
          ],
          [
           8.4
          ],
          [
           8.3
          ],
          [
           8.3
          ],
          [
           8.6
          ],
          [
           8.8
          ],
          [
           8.2
          ],
          [
           8.3
          ],
          [
           8.6
          ],
          [
           8.3
          ],
          [
           8.5
          ],
          [
           9.2
          ],
          [
           7.2
          ],
          [
           8.9
          ],
          [
           8.8
          ],
          [
           8.7
          ],
          [
           8.3
          ],
          [
           8.9
          ],
          [
           8.2
          ],
          [
           8.1
          ],
          [
           8.6
          ],
          [
           7.6
          ],
          [
           7.8
          ],
          [
           7.7
          ],
          [
           9.1
          ],
          [
           8.4
          ],
          [
           8.2
          ],
          [
           7
          ],
          [
           8.9
          ],
          [
           8.5
          ],
          [
           8.5
          ],
          [
           8.1
          ],
          [
           8.4
          ],
          [
           8.7
          ],
          [
           8.1
          ],
          [
           7.5
          ],
          [
           7.5
          ],
          [
           8.4
          ],
          [
           8
          ],
          [
           7.8
          ],
          [
           7.8
          ],
          [
           9
          ],
          [
           8.3
          ],
          [
           8.1
          ],
          [
           8
          ],
          [
           8.3
          ],
          [
           8.8
          ],
          [
           8.7
          ],
          [
           7.8
          ],
          [
           8.9
          ],
          [
           7.8
          ],
          [
           9
          ],
          [
           8.3
          ],
          [
           8.1
          ],
          [
           8
          ],
          [
           8.3
          ],
          [
           8.8
          ],
          [
           8.7
          ],
          [
           7.7
          ],
          [
           7.8
          ],
          [
           8.6
          ],
          [
           9
          ],
          [
           9.4
          ],
          [
           8.5
          ],
          [
           8.7
          ],
          [
           9.1
          ],
          [
           8.4
          ],
          [
           8.9
          ],
          [
           8.7
          ],
          [
           9.1
          ],
          [
           8.4
          ],
          [
           8
          ],
          [
           9
          ]
         ],
         "hovertemplate": "<b>%{hovertext}</b><br><br>price=%{x}<br>distance=%{y}<br>rating=%{marker.color}<extra></extra>",
         "hovertext": [
          "路徒Plus行旅-站前館",
          "小隱居Hermit_Dorm",
          "首都大飯店松山館",
          "苓旅中山館-Lininn ZhongShan",
          "怡品商旅",
          "和苑三井花園飯店台北忠孝",
          "旅樂序精品旅館站前五館",
          "宜家商旅",
          "台北馥敦飯店復南館",
          "見潭璞旅",
          "福容大飯店台北一館",
          "天閣酒店台北信義",
          "台北國泰萬怡酒店",
          "台北萬豪酒店",
          "台北亞都麗緻大飯店",
          "洛碁大飯店忠孝館",
          "柯達大飯店台北敦南",
          "優美飯店-雙連MRT",
          "Artinn藝築文旅-台北站前館",
          "皇家玫瑰旅館站前館",
          "雀客旅館台北站前",
          "第一大飯店",
          "台北文華東方酒店",
          "玉璽精品飯店",
          "台北文華東方酒店",
          "美亞商旅",
          "玉璽精品飯店",
          "洛碁大飯店三貝茲",
          "洛碁大飯店南港館",
          "台北凱達大飯店",
          "洛碁大飯店南京館",
          "台北松山意舍酒店",
          "台北六福萬怡酒店",
          "艾爾行旅",
          "台北中山意舍酒店",
          "台北喜來登大飯店",
          "路境行旅-府前館",
          "台北時代寓所-希爾頓啟繽精選酒店",
          "明日大饭店",
          "兄弟大飯店",
          "盤古捷旅 - Panco Hotel",
          "寒居酒店",
          "洛碁大飯店松山館",
          "丰居旅店 - 北車館",
          "CU Hotel Taipei",
          "錦棧•旅",
          "柯達大飯店台北松江",
          "喜客商旅 Seeker Hotel - Sanchong",
          "熙門小聚 YS Inn",
          "唯樂米窩",
          "金普頓大安酒店 - 洲際酒店集團酒店",
          "松哖酒店",
          "葳皇時尚飯店",
          "謙匯-普樂室行旅",
          "慕軒飯店",
          "燦路都飯店",
          "天閣酒店台北長安",
          "洛碁大飯店中華館",
          "老爺會館台北林森 – 華山文創園區",
          "樂頤飯店-蘆洲台北",
          "趣旅館．林森館",
          "上格大飯店",
          "T.O. Hotel 承德館",
          "老爺會館台北南西-中山站",
          "首都大飯店松山館",
          "貴族商務飯店",
          "華大旅店-南西館",
          "JR東日本大飯店 台北",
          "柔美精品商旅",
          "旅居文旅-板橋車站館",
          "薇閣精品旅館 - 大直旗艦館",
          "台北中山旅居文旅-松山機場館",
          "町記憶旅店",
          "晶華酒店",
          "貴族商務飯店",
          "台北馥敦-馥寓",
          "華大旅店-南西館",
          "JR東日本大飯店 台北",
          "柔美精品商旅",
          "旅居文旅-板橋車站館",
          "薇閣精品旅館 - 大直旗艦館",
          "台北中山旅居文旅-松山機場館",
          "町記憶旅店",
          "晶華酒店",
          "窩旅舍",
          "Sunrise Hotel",
          "路徒Plus行旅-主題館",
          "格拉斯麗台北飯店",
          "旅城驛鎮",
          "路徒Plus行旅-站前館",
          "天閣酒店台北士林",
          "傑仕堡有氧酒店",
          "台北大直英迪格酒店",
          "町記憶旅店3館",
          "雀客旅館新北蘆洲",
          "捷絲旅台北三重館",
          "甲山林湯旅",
          "北投享溫泉",
          "美侖商旅"
         ],
         "legendgroup": "",
         "marker": {
          "color": [
           8.5,
           10,
           8,
           8.6,
           8.4,
           9,
           8.4,
           8.5,
           8.4,
           8.6,
           8.4,
           8.3,
           9.1,
           8.6,
           9,
           8.5,
           8.3,
           8.1,
           8,
           8.2,
           8.2,
           7.2,
           9.2,
           8.4,
           9.2,
           7.8,
           8.4,
           8.4,
           8.3,
           8.3,
           8.6,
           8.8,
           8.2,
           8.3,
           8.6,
           8.3,
           8.5,
           9.2,
           7.2,
           8.9,
           8.8,
           8.7,
           8.3,
           8.9,
           8.2,
           8.1,
           8.6,
           7.6,
           7.8,
           7.7,
           9.1,
           8.4,
           8.2,
           7,
           8.9,
           8.5,
           8.5,
           8.1,
           8.4,
           8.7,
           8.1,
           7.5,
           7.5,
           8.4,
           8,
           7.8,
           7.8,
           9,
           8.3,
           8.1,
           8,
           8.3,
           8.8,
           8.7,
           7.8,
           8.9,
           7.8,
           9,
           8.3,
           8.1,
           8,
           8.3,
           8.8,
           8.7,
           7.7,
           7.8,
           8.6,
           9,
           9.4,
           8.5,
           8.7,
           9.1,
           8.4,
           8.9,
           8.7,
           9.1,
           8.4,
           8,
           9
          ],
          "coloraxis": "coloraxis",
          "symbol": "circle"
         },
         "mode": "markers",
         "name": "",
         "orientation": "v",
         "showlegend": false,
         "type": "scatter",
         "x": [
          6494,
          2643,
          3312,
          3080,
          3116,
          7833,
          4116,
          3420,
          5993,
          4124,
          4392,
          4050,
          5460,
          7245,
          5069,
          3658,
          3483,
          3200,
          2867,
          2941,
          3610,
          1900,
          13000,
          2400,
          13000,
          3645,
          2400,
          3534,
          3813,
          5500,
          3787,
          4620,
          6376,
          3370,
          4158,
          6158,
          3680,
          9118,
          2200,
          4650,
          3060,
          6431,
          4061,
          3880,
          3298,
          2772,
          4180,
          2096,
          2375,
          2790,
          8576,
          4500,
          2099,
          2414,
          6800,
          3384,
          3780,
          5890,
          4150,
          3634,
          2821,
          2448,
          2106,
          5078,
          3312,
          2160,
          3600,
          8100,
          3966,
          2480,
          3135,
          2680,
          4281,
          7970,
          2160,
          5658,
          3600,
          8100,
          3966,
          2480,
          3135,
          2680,
          4281,
          7970,
          1262,
          3080,
          5280,
          7695,
          5022,
          6494,
          4725,
          4956,
          6757,
          5081,
          3610,
          4634,
          4837,
          5681,
          9900
         ],
         "xaxis": "x",
         "y": [
          400,
          5300,
          5900,
          2400,
          3100,
          1700,
          450,
          7900,
          3100,
          4800,
          2200,
          5600,
          2400,
          5700,
          2200,
          3500,
          4200,
          1400,
          500,
          450,
          400,
          1400,
          3300,
          8200,
          3300,
          200,
          8200,
          4100,
          9500,
          2300,
          2100,
          6300,
          9000,
          3100,
          1100,
          500,
          600,
          600,
          1200,
          2800,
          900,
          1600,
          6700,
          500,
          1200,
          1700,
          2100,
          3600,
          800,
          1400,
          2900,
          1900,
          1600,
          5700,
          3500,
          2000,
          800,
          800,
          800,
          5500,
          1900,
          3000,
          1000,
          800,
          5900,
          7100,
          1000,
          2500,
          2100,
          6900,
          5700,
          2800,
          1400,
          1100,
          7100,
          3100,
          1000,
          2500,
          2100,
          6900,
          5700,
          2800,
          1400,
          1100,
          4400,
          5000,
          400,
          1400,
          1700,
          400,
          4100,
          5700,
          5900,
          1400,
          5400,
          4600,
          2500,
          10100,
          1500
         ],
         "yaxis": "y"
        }
       ],
       "layout": {
        "coloraxis": {
         "colorbar": {
          "title": {
           "text": "rating"
          }
         },
         "colorscale": [
          [
           0,
           "#0d0887"
          ],
          [
           0.1111111111111111,
           "#46039f"
          ],
          [
           0.2222222222222222,
           "#7201a8"
          ],
          [
           0.3333333333333333,
           "#9c179e"
          ],
          [
           0.4444444444444444,
           "#bd3786"
          ],
          [
           0.5555555555555556,
           "#d8576b"
          ],
          [
           0.6666666666666666,
           "#ed7953"
          ],
          [
           0.7777777777777778,
           "#fb9f3a"
          ],
          [
           0.8888888888888888,
           "#fdca26"
          ],
          [
           1,
           "#f0f921"
          ]
         ]
        },
        "legend": {
         "tracegroupgap": 0
        },
        "margin": {
         "t": 60
        },
        "template": {
         "data": {
          "bar": [
           {
            "error_x": {
             "color": "#2a3f5f"
            },
            "error_y": {
             "color": "#2a3f5f"
            },
            "marker": {
             "line": {
              "color": "#E5ECF6",
              "width": 0.5
             },
             "pattern": {
              "fillmode": "overlay",
              "size": 10,
              "solidity": 0.2
             }
            },
            "type": "bar"
           }
          ],
          "barpolar": [
           {
            "marker": {
             "line": {
              "color": "#E5ECF6",
              "width": 0.5
             },
             "pattern": {
              "fillmode": "overlay",
              "size": 10,
              "solidity": 0.2
             }
            },
            "type": "barpolar"
           }
          ],
          "carpet": [
           {
            "aaxis": {
             "endlinecolor": "#2a3f5f",
             "gridcolor": "white",
             "linecolor": "white",
             "minorgridcolor": "white",
             "startlinecolor": "#2a3f5f"
            },
            "baxis": {
             "endlinecolor": "#2a3f5f",
             "gridcolor": "white",
             "linecolor": "white",
             "minorgridcolor": "white",
             "startlinecolor": "#2a3f5f"
            },
            "type": "carpet"
           }
          ],
          "choropleth": [
           {
            "colorbar": {
             "outlinewidth": 0,
             "ticks": ""
            },
            "type": "choropleth"
           }
          ],
          "contour": [
           {
            "colorbar": {
             "outlinewidth": 0,
             "ticks": ""
            },
            "colorscale": [
             [
              0,
              "#0d0887"
             ],
             [
              0.1111111111111111,
              "#46039f"
             ],
             [
              0.2222222222222222,
              "#7201a8"
             ],
             [
              0.3333333333333333,
              "#9c179e"
             ],
             [
              0.4444444444444444,
              "#bd3786"
             ],
             [
              0.5555555555555556,
              "#d8576b"
             ],
             [
              0.6666666666666666,
              "#ed7953"
             ],
             [
              0.7777777777777778,
              "#fb9f3a"
             ],
             [
              0.8888888888888888,
              "#fdca26"
             ],
             [
              1,
              "#f0f921"
             ]
            ],
            "type": "contour"
           }
          ],
          "contourcarpet": [
           {
            "colorbar": {
             "outlinewidth": 0,
             "ticks": ""
            },
            "type": "contourcarpet"
           }
          ],
          "heatmap": [
           {
            "colorbar": {
             "outlinewidth": 0,
             "ticks": ""
            },
            "colorscale": [
             [
              0,
              "#0d0887"
             ],
             [
              0.1111111111111111,
              "#46039f"
             ],
             [
              0.2222222222222222,
              "#7201a8"
             ],
             [
              0.3333333333333333,
              "#9c179e"
             ],
             [
              0.4444444444444444,
              "#bd3786"
             ],
             [
              0.5555555555555556,
              "#d8576b"
             ],
             [
              0.6666666666666666,
              "#ed7953"
             ],
             [
              0.7777777777777778,
              "#fb9f3a"
             ],
             [
              0.8888888888888888,
              "#fdca26"
             ],
             [
              1,
              "#f0f921"
             ]
            ],
            "type": "heatmap"
           }
          ],
          "heatmapgl": [
           {
            "colorbar": {
             "outlinewidth": 0,
             "ticks": ""
            },
            "colorscale": [
             [
              0,
              "#0d0887"
             ],
             [
              0.1111111111111111,
              "#46039f"
             ],
             [
              0.2222222222222222,
              "#7201a8"
             ],
             [
              0.3333333333333333,
              "#9c179e"
             ],
             [
              0.4444444444444444,
              "#bd3786"
             ],
             [
              0.5555555555555556,
              "#d8576b"
             ],
             [
              0.6666666666666666,
              "#ed7953"
             ],
             [
              0.7777777777777778,
              "#fb9f3a"
             ],
             [
              0.8888888888888888,
              "#fdca26"
             ],
             [
              1,
              "#f0f921"
             ]
            ],
            "type": "heatmapgl"
           }
          ],
          "histogram": [
           {
            "marker": {
             "pattern": {
              "fillmode": "overlay",
              "size": 10,
              "solidity": 0.2
             }
            },
            "type": "histogram"
           }
          ],
          "histogram2d": [
           {
            "colorbar": {
             "outlinewidth": 0,
             "ticks": ""
            },
            "colorscale": [
             [
              0,
              "#0d0887"
             ],
             [
              0.1111111111111111,
              "#46039f"
             ],
             [
              0.2222222222222222,
              "#7201a8"
             ],
             [
              0.3333333333333333,
              "#9c179e"
             ],
             [
              0.4444444444444444,
              "#bd3786"
             ],
             [
              0.5555555555555556,
              "#d8576b"
             ],
             [
              0.6666666666666666,
              "#ed7953"
             ],
             [
              0.7777777777777778,
              "#fb9f3a"
             ],
             [
              0.8888888888888888,
              "#fdca26"
             ],
             [
              1,
              "#f0f921"
             ]
            ],
            "type": "histogram2d"
           }
          ],
          "histogram2dcontour": [
           {
            "colorbar": {
             "outlinewidth": 0,
             "ticks": ""
            },
            "colorscale": [
             [
              0,
              "#0d0887"
             ],
             [
              0.1111111111111111,
              "#46039f"
             ],
             [
              0.2222222222222222,
              "#7201a8"
             ],
             [
              0.3333333333333333,
              "#9c179e"
             ],
             [
              0.4444444444444444,
              "#bd3786"
             ],
             [
              0.5555555555555556,
              "#d8576b"
             ],
             [
              0.6666666666666666,
              "#ed7953"
             ],
             [
              0.7777777777777778,
              "#fb9f3a"
             ],
             [
              0.8888888888888888,
              "#fdca26"
             ],
             [
              1,
              "#f0f921"
             ]
            ],
            "type": "histogram2dcontour"
           }
          ],
          "mesh3d": [
           {
            "colorbar": {
             "outlinewidth": 0,
             "ticks": ""
            },
            "type": "mesh3d"
           }
          ],
          "parcoords": [
           {
            "line": {
             "colorbar": {
              "outlinewidth": 0,
              "ticks": ""
             }
            },
            "type": "parcoords"
           }
          ],
          "pie": [
           {
            "automargin": true,
            "type": "pie"
           }
          ],
          "scatter": [
           {
            "fillpattern": {
             "fillmode": "overlay",
             "size": 10,
             "solidity": 0.2
            },
            "type": "scatter"
           }
          ],
          "scatter3d": [
           {
            "line": {
             "colorbar": {
              "outlinewidth": 0,
              "ticks": ""
             }
            },
            "marker": {
             "colorbar": {
              "outlinewidth": 0,
              "ticks": ""
             }
            },
            "type": "scatter3d"
           }
          ],
          "scattercarpet": [
           {
            "marker": {
             "colorbar": {
              "outlinewidth": 0,
              "ticks": ""
             }
            },
            "type": "scattercarpet"
           }
          ],
          "scattergeo": [
           {
            "marker": {
             "colorbar": {
              "outlinewidth": 0,
              "ticks": ""
             }
            },
            "type": "scattergeo"
           }
          ],
          "scattergl": [
           {
            "marker": {
             "colorbar": {
              "outlinewidth": 0,
              "ticks": ""
             }
            },
            "type": "scattergl"
           }
          ],
          "scattermapbox": [
           {
            "marker": {
             "colorbar": {
              "outlinewidth": 0,
              "ticks": ""
             }
            },
            "type": "scattermapbox"
           }
          ],
          "scatterpolar": [
           {
            "marker": {
             "colorbar": {
              "outlinewidth": 0,
              "ticks": ""
             }
            },
            "type": "scatterpolar"
           }
          ],
          "scatterpolargl": [
           {
            "marker": {
             "colorbar": {
              "outlinewidth": 0,
              "ticks": ""
             }
            },
            "type": "scatterpolargl"
           }
          ],
          "scatterternary": [
           {
            "marker": {
             "colorbar": {
              "outlinewidth": 0,
              "ticks": ""
             }
            },
            "type": "scatterternary"
           }
          ],
          "surface": [
           {
            "colorbar": {
             "outlinewidth": 0,
             "ticks": ""
            },
            "colorscale": [
             [
              0,
              "#0d0887"
             ],
             [
              0.1111111111111111,
              "#46039f"
             ],
             [
              0.2222222222222222,
              "#7201a8"
             ],
             [
              0.3333333333333333,
              "#9c179e"
             ],
             [
              0.4444444444444444,
              "#bd3786"
             ],
             [
              0.5555555555555556,
              "#d8576b"
             ],
             [
              0.6666666666666666,
              "#ed7953"
             ],
             [
              0.7777777777777778,
              "#fb9f3a"
             ],
             [
              0.8888888888888888,
              "#fdca26"
             ],
             [
              1,
              "#f0f921"
             ]
            ],
            "type": "surface"
           }
          ],
          "table": [
           {
            "cells": {
             "fill": {
              "color": "#EBF0F8"
             },
             "line": {
              "color": "white"
             }
            },
            "header": {
             "fill": {
              "color": "#C8D4E3"
             },
             "line": {
              "color": "white"
             }
            },
            "type": "table"
           }
          ]
         },
         "layout": {
          "annotationdefaults": {
           "arrowcolor": "#2a3f5f",
           "arrowhead": 0,
           "arrowwidth": 1
          },
          "autotypenumbers": "strict",
          "coloraxis": {
           "colorbar": {
            "outlinewidth": 0,
            "ticks": ""
           }
          },
          "colorscale": {
           "diverging": [
            [
             0,
             "#8e0152"
            ],
            [
             0.1,
             "#c51b7d"
            ],
            [
             0.2,
             "#de77ae"
            ],
            [
             0.3,
             "#f1b6da"
            ],
            [
             0.4,
             "#fde0ef"
            ],
            [
             0.5,
             "#f7f7f7"
            ],
            [
             0.6,
             "#e6f5d0"
            ],
            [
             0.7,
             "#b8e186"
            ],
            [
             0.8,
             "#7fbc41"
            ],
            [
             0.9,
             "#4d9221"
            ],
            [
             1,
             "#276419"
            ]
           ],
           "sequential": [
            [
             0,
             "#0d0887"
            ],
            [
             0.1111111111111111,
             "#46039f"
            ],
            [
             0.2222222222222222,
             "#7201a8"
            ],
            [
             0.3333333333333333,
             "#9c179e"
            ],
            [
             0.4444444444444444,
             "#bd3786"
            ],
            [
             0.5555555555555556,
             "#d8576b"
            ],
            [
             0.6666666666666666,
             "#ed7953"
            ],
            [
             0.7777777777777778,
             "#fb9f3a"
            ],
            [
             0.8888888888888888,
             "#fdca26"
            ],
            [
             1,
             "#f0f921"
            ]
           ],
           "sequentialminus": [
            [
             0,
             "#0d0887"
            ],
            [
             0.1111111111111111,
             "#46039f"
            ],
            [
             0.2222222222222222,
             "#7201a8"
            ],
            [
             0.3333333333333333,
             "#9c179e"
            ],
            [
             0.4444444444444444,
             "#bd3786"
            ],
            [
             0.5555555555555556,
             "#d8576b"
            ],
            [
             0.6666666666666666,
             "#ed7953"
            ],
            [
             0.7777777777777778,
             "#fb9f3a"
            ],
            [
             0.8888888888888888,
             "#fdca26"
            ],
            [
             1,
             "#f0f921"
            ]
           ]
          },
          "colorway": [
           "#636efa",
           "#EF553B",
           "#00cc96",
           "#ab63fa",
           "#FFA15A",
           "#19d3f3",
           "#FF6692",
           "#B6E880",
           "#FF97FF",
           "#FECB52"
          ],
          "font": {
           "color": "#2a3f5f"
          },
          "geo": {
           "bgcolor": "white",
           "lakecolor": "white",
           "landcolor": "#E5ECF6",
           "showlakes": true,
           "showland": true,
           "subunitcolor": "white"
          },
          "hoverlabel": {
           "align": "left"
          },
          "hovermode": "closest",
          "mapbox": {
           "style": "light"
          },
          "paper_bgcolor": "white",
          "plot_bgcolor": "#E5ECF6",
          "polar": {
           "angularaxis": {
            "gridcolor": "white",
            "linecolor": "white",
            "ticks": ""
           },
           "bgcolor": "#E5ECF6",
           "radialaxis": {
            "gridcolor": "white",
            "linecolor": "white",
            "ticks": ""
           }
          },
          "scene": {
           "xaxis": {
            "backgroundcolor": "#E5ECF6",
            "gridcolor": "white",
            "gridwidth": 2,
            "linecolor": "white",
            "showbackground": true,
            "ticks": "",
            "zerolinecolor": "white"
           },
           "yaxis": {
            "backgroundcolor": "#E5ECF6",
            "gridcolor": "white",
            "gridwidth": 2,
            "linecolor": "white",
            "showbackground": true,
            "ticks": "",
            "zerolinecolor": "white"
           },
           "zaxis": {
            "backgroundcolor": "#E5ECF6",
            "gridcolor": "white",
            "gridwidth": 2,
            "linecolor": "white",
            "showbackground": true,
            "ticks": "",
            "zerolinecolor": "white"
           }
          },
          "shapedefaults": {
           "line": {
            "color": "#2a3f5f"
           }
          },
          "ternary": {
           "aaxis": {
            "gridcolor": "white",
            "linecolor": "white",
            "ticks": ""
           },
           "baxis": {
            "gridcolor": "white",
            "linecolor": "white",
            "ticks": ""
           },
           "bgcolor": "#E5ECF6",
           "caxis": {
            "gridcolor": "white",
            "linecolor": "white",
            "ticks": ""
           }
          },
          "title": {
           "x": 0.05
          },
          "xaxis": {
           "automargin": true,
           "gridcolor": "white",
           "linecolor": "white",
           "ticks": "",
           "title": {
            "standoff": 15
           },
           "zerolinecolor": "white",
           "zerolinewidth": 2
          },
          "yaxis": {
           "automargin": true,
           "gridcolor": "white",
           "linecolor": "white",
           "ticks": "",
           "title": {
            "standoff": 15
           },
           "zerolinecolor": "white",
           "zerolinewidth": 2
          }
         }
        },
        "title": {
         "text": "Hotel Prices vs. Distance from Center"
        },
        "xaxis": {
         "anchor": "y",
         "domain": [
          0,
          1
         ],
         "title": {
          "text": "Price"
         }
        },
        "yaxis": {
         "anchor": "x",
         "domain": [
          0,
          1
         ],
         "title": {
          "text": "Distance from Center (meters)"
         }
        }
       }
      },
      "text/html": [
       "<div>                            <div id=\"51c2fba5-a336-4d77-9e8d-73c7d886b5e9\" class=\"plotly-graph-div\" style=\"height:525px; width:100%;\"></div>            <script type=\"text/javascript\">                require([\"plotly\"], function(Plotly) {                    window.PLOTLYENV=window.PLOTLYENV || {};                                    if (document.getElementById(\"51c2fba5-a336-4d77-9e8d-73c7d886b5e9\")) {                    Plotly.newPlot(                        \"51c2fba5-a336-4d77-9e8d-73c7d886b5e9\",                        [{\"customdata\":[[8.5],[10.0],[8.0],[8.6],[8.4],[9.0],[8.4],[8.5],[8.4],[8.6],[8.4],[8.3],[9.1],[8.6],[9.0],[8.5],[8.3],[8.1],[8.0],[8.2],[8.2],[7.2],[9.2],[8.4],[9.2],[7.8],[8.4],[8.4],[8.3],[8.3],[8.6],[8.8],[8.2],[8.3],[8.6],[8.3],[8.5],[9.2],[7.2],[8.9],[8.8],[8.7],[8.3],[8.9],[8.2],[8.1],[8.6],[7.6],[7.8],[7.7],[9.1],[8.4],[8.2],[7.0],[8.9],[8.5],[8.5],[8.1],[8.4],[8.7],[8.1],[7.5],[7.5],[8.4],[8.0],[7.8],[7.8],[9.0],[8.3],[8.1],[8.0],[8.3],[8.8],[8.7],[7.8],[8.9],[7.8],[9.0],[8.3],[8.1],[8.0],[8.3],[8.8],[8.7],[7.7],[7.8],[8.6],[9.0],[9.4],[8.5],[8.7],[9.1],[8.4],[8.9],[8.7],[9.1],[8.4],[8.0],[9.0]],\"hovertemplate\":\"\\u003cb\\u003e%{hovertext}\\u003c\\u002fb\\u003e\\u003cbr\\u003e\\u003cbr\\u003eprice=%{x}\\u003cbr\\u003edistance=%{y}\\u003cbr\\u003erating=%{marker.color}\\u003cextra\\u003e\\u003c\\u002fextra\\u003e\",\"hovertext\":[\"\\u8def\\u5f92Plus\\u884c\\u65c5-\\u7ad9\\u524d\\u9928\",\"\\u5c0f\\u96b1\\u5c45Hermit_Dorm\",\"\\u9996\\u90fd\\u5927\\u98ef\\u5e97\\u677e\\u5c71\\u9928\",\"\\u82d3\\u65c5\\u4e2d\\u5c71\\u9928-Lininn ZhongShan\",\"\\u6021\\u54c1\\u5546\\u65c5\",\"\\u548c\\u82d1\\u4e09\\u4e95\\u82b1\\u5712\\u98ef\\u5e97\\u53f0\\u5317\\u5fe0\\u5b5d\",\"\\u65c5\\u6a02\\u5e8f\\u7cbe\\u54c1\\u65c5\\u9928\\u7ad9\\u524d\\u4e94\\u9928\",\"\\u5b9c\\u5bb6\\u5546\\u65c5\",\"\\u53f0\\u5317\\u99a5\\u6566\\u98ef\\u5e97\\u5fa9\\u5357\\u9928\",\"\\u898b\\u6f6d\\u749e\\u65c5\",\"\\u798f\\u5bb9\\u5927\\u98ef\\u5e97\\u53f0\\u5317\\u4e00\\u9928\",\"\\u5929\\u95a3\\u9152\\u5e97\\u53f0\\u5317\\u4fe1\\u7fa9\",\"\\u53f0\\u5317\\u570b\\u6cf0\\u842c\\u6021\\u9152\\u5e97\",\"\\u53f0\\u5317\\u842c\\u8c6a\\u9152\\u5e97\",\"\\u53f0\\u5317\\u4e9e\\u90fd\\u9e97\\u7dfb\\u5927\\u98ef\\u5e97\",\"\\u6d1b\\u7881\\u5927\\u98ef\\u5e97\\u5fe0\\u5b5d\\u9928\",\"\\u67ef\\u9054\\u5927\\u98ef\\u5e97\\u53f0\\u5317\\u6566\\u5357\",\"\\u512a\\u7f8e\\u98ef\\u5e97-\\u96d9\\u9023MRT\",\"Artinn\\u85dd\\u7bc9\\u6587\\u65c5-\\u53f0\\u5317\\u7ad9\\u524d\\u9928\",\"\\u7687\\u5bb6\\u73ab\\u7470\\u65c5\\u9928\\u7ad9\\u524d\\u9928\",\"\\u96c0\\u5ba2\\u65c5\\u9928\\u53f0\\u5317\\u7ad9\\u524d\",\"\\u7b2c\\u4e00\\u5927\\u98ef\\u5e97\",\"\\u53f0\\u5317\\u6587\\u83ef\\u6771\\u65b9\\u9152\\u5e97\",\"\\u7389\\u74bd\\u7cbe\\u54c1\\u98ef\\u5e97\",\"\\u53f0\\u5317\\u6587\\u83ef\\u6771\\u65b9\\u9152\\u5e97\",\"\\u7f8e\\u4e9e\\u5546\\u65c5\",\"\\u7389\\u74bd\\u7cbe\\u54c1\\u98ef\\u5e97\",\"\\u6d1b\\u7881\\u5927\\u98ef\\u5e97\\u4e09\\u8c9d\\u8332\",\"\\u6d1b\\u7881\\u5927\\u98ef\\u5e97\\u5357\\u6e2f\\u9928\",\"\\u53f0\\u5317\\u51f1\\u9054\\u5927\\u98ef\\u5e97\",\"\\u6d1b\\u7881\\u5927\\u98ef\\u5e97\\u5357\\u4eac\\u9928\",\"\\u53f0\\u5317\\u677e\\u5c71\\u610f\\u820d\\u9152\\u5e97\",\"\\u53f0\\u5317\\u516d\\u798f\\u842c\\u6021\\u9152\\u5e97\",\"\\u827e\\u723e\\u884c\\u65c5\",\"\\u53f0\\u5317\\u4e2d\\u5c71\\u610f\\u820d\\u9152\\u5e97\",\"\\u53f0\\u5317\\u559c\\u4f86\\u767b\\u5927\\u98ef\\u5e97\",\"\\u8def\\u5883\\u884c\\u65c5-\\u5e9c\\u524d\\u9928\",\"\\u53f0\\u5317\\u6642\\u4ee3\\u5bd3\\u6240-\\u5e0c\\u723e\\u9813\\u555f\\u7e7d\\u7cbe\\u9078\\u9152\\u5e97\",\"\\u660e\\u65e5\\u5927\\u996d\\u5e97\",\"\\u5144\\u5f1f\\u5927\\u98ef\\u5e97\",\"\\u76e4\\u53e4\\u6377\\u65c5 - Panco Hotel\",\"\\u5bd2\\u5c45\\u9152\\u5e97\",\"\\u6d1b\\u7881\\u5927\\u98ef\\u5e97\\u677e\\u5c71\\u9928\",\"\\u4e30\\u5c45\\u65c5\\u5e97 - \\u5317\\u8eca\\u9928\",\"CU Hotel Taipei\",\"\\u9326\\u68e7\\u2022\\u65c5\",\"\\u67ef\\u9054\\u5927\\u98ef\\u5e97\\u53f0\\u5317\\u677e\\u6c5f\",\"\\u559c\\u5ba2\\u5546\\u65c5 Seeker Hotel - Sanchong\",\"\\u7199\\u9580\\u5c0f\\u805a YS Inn\",\"\\u552f\\u6a02\\u7c73\\u7aa9\",\"\\u91d1\\u666e\\u9813\\u5927\\u5b89\\u9152\\u5e97 - \\u6d32\\u969b\\u9152\\u5e97\\u96c6\\u5718\\u9152\\u5e97\",\"\\u677e\\u54d6\\u9152\\u5e97\",\"\\u8473\\u7687\\u6642\\u5c1a\\u98ef\\u5e97\",\"\\u8b19\\u532f-\\u666e\\u6a02\\u5ba4\\u884c\\u65c5\",\"\\u6155\\u8ed2\\u98ef\\u5e97\",\"\\u71e6\\u8def\\u90fd\\u98ef\\u5e97\",\"\\u5929\\u95a3\\u9152\\u5e97\\u53f0\\u5317\\u9577\\u5b89\",\"\\u6d1b\\u7881\\u5927\\u98ef\\u5e97\\u4e2d\\u83ef\\u9928\",\"\\u8001\\u723a\\u6703\\u9928\\u53f0\\u5317\\u6797\\u68ee \\u2013 \\u83ef\\u5c71\\u6587\\u5275\\u5712\\u5340\",\"\\u6a02\\u9824\\u98ef\\u5e97-\\u8606\\u6d32\\u53f0\\u5317\",\"\\u8da3\\u65c5\\u9928\\uff0e\\u6797\\u68ee\\u9928\",\"\\u4e0a\\u683c\\u5927\\u98ef\\u5e97\",\"T.O. Hotel \\u627f\\u5fb7\\u9928\",\"\\u8001\\u723a\\u6703\\u9928\\u53f0\\u5317\\u5357\\u897f-\\u4e2d\\u5c71\\u7ad9\",\"\\u9996\\u90fd\\u5927\\u98ef\\u5e97\\u677e\\u5c71\\u9928\",\"\\u8cb4\\u65cf\\u5546\\u52d9\\u98ef\\u5e97\",\"\\u83ef\\u5927\\u65c5\\u5e97-\\u5357\\u897f\\u9928\",\"JR\\u6771\\u65e5\\u672c\\u5927\\u98ef\\u5e97 \\u53f0\\u5317\",\"\\u67d4\\u7f8e\\u7cbe\\u54c1\\u5546\\u65c5\",\"\\u65c5\\u5c45\\u6587\\u65c5-\\u677f\\u6a4b\\u8eca\\u7ad9\\u9928\",\"\\u8587\\u95a3\\u7cbe\\u54c1\\u65c5\\u9928 - \\u5927\\u76f4\\u65d7\\u8266\\u9928\",\"\\u53f0\\u5317\\u4e2d\\u5c71\\u65c5\\u5c45\\u6587\\u65c5-\\u677e\\u5c71\\u6a5f\\u5834\\u9928\",\"\\u753a\\u8a18\\u61b6\\u65c5\\u5e97\",\"\\u6676\\u83ef\\u9152\\u5e97\",\"\\u8cb4\\u65cf\\u5546\\u52d9\\u98ef\\u5e97\",\"\\u53f0\\u5317\\u99a5\\u6566-\\u99a5\\u5bd3\",\"\\u83ef\\u5927\\u65c5\\u5e97-\\u5357\\u897f\\u9928\",\"JR\\u6771\\u65e5\\u672c\\u5927\\u98ef\\u5e97 \\u53f0\\u5317\",\"\\u67d4\\u7f8e\\u7cbe\\u54c1\\u5546\\u65c5\",\"\\u65c5\\u5c45\\u6587\\u65c5-\\u677f\\u6a4b\\u8eca\\u7ad9\\u9928\",\"\\u8587\\u95a3\\u7cbe\\u54c1\\u65c5\\u9928 - \\u5927\\u76f4\\u65d7\\u8266\\u9928\",\"\\u53f0\\u5317\\u4e2d\\u5c71\\u65c5\\u5c45\\u6587\\u65c5-\\u677e\\u5c71\\u6a5f\\u5834\\u9928\",\"\\u753a\\u8a18\\u61b6\\u65c5\\u5e97\",\"\\u6676\\u83ef\\u9152\\u5e97\",\"\\u7aa9\\u65c5\\u820d\",\"Sunrise Hotel\",\"\\u8def\\u5f92Plus\\u884c\\u65c5-\\u4e3b\\u984c\\u9928\",\"\\u683c\\u62c9\\u65af\\u9e97\\u53f0\\u5317\\u98ef\\u5e97\",\"\\u65c5\\u57ce\\u9a5b\\u93ae\",\"\\u8def\\u5f92Plus\\u884c\\u65c5-\\u7ad9\\u524d\\u9928\",\"\\u5929\\u95a3\\u9152\\u5e97\\u53f0\\u5317\\u58eb\\u6797\",\"\\u5091\\u4ed5\\u5821\\u6709\\u6c27\\u9152\\u5e97\",\"\\u53f0\\u5317\\u5927\\u76f4\\u82f1\\u8fea\\u683c\\u9152\\u5e97\",\"\\u753a\\u8a18\\u61b6\\u65c5\\u5e973\\u9928\",\"\\u96c0\\u5ba2\\u65c5\\u9928\\u65b0\\u5317\\u8606\\u6d32\",\"\\u6377\\u7d72\\u65c5\\u53f0\\u5317\\u4e09\\u91cd\\u9928\",\"\\u7532\\u5c71\\u6797\\u6e6f\\u65c5\",\"\\u5317\\u6295\\u4eab\\u6eab\\u6cc9\",\"\\u7f8e\\u4f96\\u5546\\u65c5\"],\"legendgroup\":\"\",\"marker\":{\"color\":[8.5,10.0,8.0,8.6,8.4,9.0,8.4,8.5,8.4,8.6,8.4,8.3,9.1,8.6,9.0,8.5,8.3,8.1,8.0,8.2,8.2,7.2,9.2,8.4,9.2,7.8,8.4,8.4,8.3,8.3,8.6,8.8,8.2,8.3,8.6,8.3,8.5,9.2,7.2,8.9,8.8,8.7,8.3,8.9,8.2,8.1,8.6,7.6,7.8,7.7,9.1,8.4,8.2,7.0,8.9,8.5,8.5,8.1,8.4,8.7,8.1,7.5,7.5,8.4,8.0,7.8,7.8,9.0,8.3,8.1,8.0,8.3,8.8,8.7,7.8,8.9,7.8,9.0,8.3,8.1,8.0,8.3,8.8,8.7,7.7,7.8,8.6,9.0,9.4,8.5,8.7,9.1,8.4,8.9,8.7,9.1,8.4,8.0,9.0],\"coloraxis\":\"coloraxis\",\"symbol\":\"circle\"},\"mode\":\"markers\",\"name\":\"\",\"orientation\":\"v\",\"showlegend\":false,\"x\":[6494.0,2643.0,3312.0,3080.0,3116.0,7833.0,4116.0,3420.0,5993.0,4124.0,4392.0,4050.0,5460.0,7245.0,5069.0,3658.0,3483.0,3200.0,2867.0,2941.0,3610.0,1900.0,13000.0,2400.0,13000.0,3645.0,2400.0,3534.0,3813.0,5500.0,3787.0,4620.0,6376.0,3370.0,4158.0,6158.0,3680.0,9118.0,2200.0,4650.0,3060.0,6431.0,4061.0,3880.0,3298.0,2772.0,4180.0,2096.0,2375.0,2790.0,8576.0,4500.0,2099.0,2414.0,6800.0,3384.0,3780.0,5890.0,4150.0,3634.0,2821.0,2448.0,2106.0,5078.0,3312.0,2160.0,3600.0,8100.0,3966.0,2480.0,3135.0,2680.0,4281.0,7970.0,2160.0,5658.0,3600.0,8100.0,3966.0,2480.0,3135.0,2680.0,4281.0,7970.0,1262.0,3080.0,5280.0,7695.0,5022.0,6494.0,4725.0,4956.0,6757.0,5081.0,3610.0,4634.0,4837.0,5681.0,9900.0],\"xaxis\":\"x\",\"y\":[400,5300,5900,2400,3100,1700,450,7900,3100,4800,2200,5600,2400,5700,2200,3500,4200,1400,500,450,400,1400,3300,8200,3300,200,8200,4100,9500,2300,2100,6300,9000,3100,1100,500,600,600,1200,2800,900,1600,6700,500,1200,1700,2100,3600,800,1400,2900,1900,1600,5700,3500,2000,800,800,800,5500,1900,3000,1000,800,5900,7100,1000,2500,2100,6900,5700,2800,1400,1100,7100,3100,1000,2500,2100,6900,5700,2800,1400,1100,4400,5000,400,1400,1700,400,4100,5700,5900,1400,5400,4600,2500,10100,1500],\"yaxis\":\"y\",\"type\":\"scatter\"}],                        {\"template\":{\"data\":{\"histogram2dcontour\":[{\"type\":\"histogram2dcontour\",\"colorbar\":{\"outlinewidth\":0,\"ticks\":\"\"},\"colorscale\":[[0.0,\"#0d0887\"],[0.1111111111111111,\"#46039f\"],[0.2222222222222222,\"#7201a8\"],[0.3333333333333333,\"#9c179e\"],[0.4444444444444444,\"#bd3786\"],[0.5555555555555556,\"#d8576b\"],[0.6666666666666666,\"#ed7953\"],[0.7777777777777778,\"#fb9f3a\"],[0.8888888888888888,\"#fdca26\"],[1.0,\"#f0f921\"]]}],\"choropleth\":[{\"type\":\"choropleth\",\"colorbar\":{\"outlinewidth\":0,\"ticks\":\"\"}}],\"histogram2d\":[{\"type\":\"histogram2d\",\"colorbar\":{\"outlinewidth\":0,\"ticks\":\"\"},\"colorscale\":[[0.0,\"#0d0887\"],[0.1111111111111111,\"#46039f\"],[0.2222222222222222,\"#7201a8\"],[0.3333333333333333,\"#9c179e\"],[0.4444444444444444,\"#bd3786\"],[0.5555555555555556,\"#d8576b\"],[0.6666666666666666,\"#ed7953\"],[0.7777777777777778,\"#fb9f3a\"],[0.8888888888888888,\"#fdca26\"],[1.0,\"#f0f921\"]]}],\"heatmap\":[{\"type\":\"heatmap\",\"colorbar\":{\"outlinewidth\":0,\"ticks\":\"\"},\"colorscale\":[[0.0,\"#0d0887\"],[0.1111111111111111,\"#46039f\"],[0.2222222222222222,\"#7201a8\"],[0.3333333333333333,\"#9c179e\"],[0.4444444444444444,\"#bd3786\"],[0.5555555555555556,\"#d8576b\"],[0.6666666666666666,\"#ed7953\"],[0.7777777777777778,\"#fb9f3a\"],[0.8888888888888888,\"#fdca26\"],[1.0,\"#f0f921\"]]}],\"heatmapgl\":[{\"type\":\"heatmapgl\",\"colorbar\":{\"outlinewidth\":0,\"ticks\":\"\"},\"colorscale\":[[0.0,\"#0d0887\"],[0.1111111111111111,\"#46039f\"],[0.2222222222222222,\"#7201a8\"],[0.3333333333333333,\"#9c179e\"],[0.4444444444444444,\"#bd3786\"],[0.5555555555555556,\"#d8576b\"],[0.6666666666666666,\"#ed7953\"],[0.7777777777777778,\"#fb9f3a\"],[0.8888888888888888,\"#fdca26\"],[1.0,\"#f0f921\"]]}],\"contourcarpet\":[{\"type\":\"contourcarpet\",\"colorbar\":{\"outlinewidth\":0,\"ticks\":\"\"}}],\"contour\":[{\"type\":\"contour\",\"colorbar\":{\"outlinewidth\":0,\"ticks\":\"\"},\"colorscale\":[[0.0,\"#0d0887\"],[0.1111111111111111,\"#46039f\"],[0.2222222222222222,\"#7201a8\"],[0.3333333333333333,\"#9c179e\"],[0.4444444444444444,\"#bd3786\"],[0.5555555555555556,\"#d8576b\"],[0.6666666666666666,\"#ed7953\"],[0.7777777777777778,\"#fb9f3a\"],[0.8888888888888888,\"#fdca26\"],[1.0,\"#f0f921\"]]}],\"surface\":[{\"type\":\"surface\",\"colorbar\":{\"outlinewidth\":0,\"ticks\":\"\"},\"colorscale\":[[0.0,\"#0d0887\"],[0.1111111111111111,\"#46039f\"],[0.2222222222222222,\"#7201a8\"],[0.3333333333333333,\"#9c179e\"],[0.4444444444444444,\"#bd3786\"],[0.5555555555555556,\"#d8576b\"],[0.6666666666666666,\"#ed7953\"],[0.7777777777777778,\"#fb9f3a\"],[0.8888888888888888,\"#fdca26\"],[1.0,\"#f0f921\"]]}],\"mesh3d\":[{\"type\":\"mesh3d\",\"colorbar\":{\"outlinewidth\":0,\"ticks\":\"\"}}],\"scatter\":[{\"fillpattern\":{\"fillmode\":\"overlay\",\"size\":10,\"solidity\":0.2},\"type\":\"scatter\"}],\"parcoords\":[{\"type\":\"parcoords\",\"line\":{\"colorbar\":{\"outlinewidth\":0,\"ticks\":\"\"}}}],\"scatterpolargl\":[{\"type\":\"scatterpolargl\",\"marker\":{\"colorbar\":{\"outlinewidth\":0,\"ticks\":\"\"}}}],\"bar\":[{\"error_x\":{\"color\":\"#2a3f5f\"},\"error_y\":{\"color\":\"#2a3f5f\"},\"marker\":{\"line\":{\"color\":\"#E5ECF6\",\"width\":0.5},\"pattern\":{\"fillmode\":\"overlay\",\"size\":10,\"solidity\":0.2}},\"type\":\"bar\"}],\"scattergeo\":[{\"type\":\"scattergeo\",\"marker\":{\"colorbar\":{\"outlinewidth\":0,\"ticks\":\"\"}}}],\"scatterpolar\":[{\"type\":\"scatterpolar\",\"marker\":{\"colorbar\":{\"outlinewidth\":0,\"ticks\":\"\"}}}],\"histogram\":[{\"marker\":{\"pattern\":{\"fillmode\":\"overlay\",\"size\":10,\"solidity\":0.2}},\"type\":\"histogram\"}],\"scattergl\":[{\"type\":\"scattergl\",\"marker\":{\"colorbar\":{\"outlinewidth\":0,\"ticks\":\"\"}}}],\"scatter3d\":[{\"type\":\"scatter3d\",\"line\":{\"colorbar\":{\"outlinewidth\":0,\"ticks\":\"\"}},\"marker\":{\"colorbar\":{\"outlinewidth\":0,\"ticks\":\"\"}}}],\"scattermapbox\":[{\"type\":\"scattermapbox\",\"marker\":{\"colorbar\":{\"outlinewidth\":0,\"ticks\":\"\"}}}],\"scatterternary\":[{\"type\":\"scatterternary\",\"marker\":{\"colorbar\":{\"outlinewidth\":0,\"ticks\":\"\"}}}],\"scattercarpet\":[{\"type\":\"scattercarpet\",\"marker\":{\"colorbar\":{\"outlinewidth\":0,\"ticks\":\"\"}}}],\"carpet\":[{\"aaxis\":{\"endlinecolor\":\"#2a3f5f\",\"gridcolor\":\"white\",\"linecolor\":\"white\",\"minorgridcolor\":\"white\",\"startlinecolor\":\"#2a3f5f\"},\"baxis\":{\"endlinecolor\":\"#2a3f5f\",\"gridcolor\":\"white\",\"linecolor\":\"white\",\"minorgridcolor\":\"white\",\"startlinecolor\":\"#2a3f5f\"},\"type\":\"carpet\"}],\"table\":[{\"cells\":{\"fill\":{\"color\":\"#EBF0F8\"},\"line\":{\"color\":\"white\"}},\"header\":{\"fill\":{\"color\":\"#C8D4E3\"},\"line\":{\"color\":\"white\"}},\"type\":\"table\"}],\"barpolar\":[{\"marker\":{\"line\":{\"color\":\"#E5ECF6\",\"width\":0.5},\"pattern\":{\"fillmode\":\"overlay\",\"size\":10,\"solidity\":0.2}},\"type\":\"barpolar\"}],\"pie\":[{\"automargin\":true,\"type\":\"pie\"}]},\"layout\":{\"autotypenumbers\":\"strict\",\"colorway\":[\"#636efa\",\"#EF553B\",\"#00cc96\",\"#ab63fa\",\"#FFA15A\",\"#19d3f3\",\"#FF6692\",\"#B6E880\",\"#FF97FF\",\"#FECB52\"],\"font\":{\"color\":\"#2a3f5f\"},\"hovermode\":\"closest\",\"hoverlabel\":{\"align\":\"left\"},\"paper_bgcolor\":\"white\",\"plot_bgcolor\":\"#E5ECF6\",\"polar\":{\"bgcolor\":\"#E5ECF6\",\"angularaxis\":{\"gridcolor\":\"white\",\"linecolor\":\"white\",\"ticks\":\"\"},\"radialaxis\":{\"gridcolor\":\"white\",\"linecolor\":\"white\",\"ticks\":\"\"}},\"ternary\":{\"bgcolor\":\"#E5ECF6\",\"aaxis\":{\"gridcolor\":\"white\",\"linecolor\":\"white\",\"ticks\":\"\"},\"baxis\":{\"gridcolor\":\"white\",\"linecolor\":\"white\",\"ticks\":\"\"},\"caxis\":{\"gridcolor\":\"white\",\"linecolor\":\"white\",\"ticks\":\"\"}},\"coloraxis\":{\"colorbar\":{\"outlinewidth\":0,\"ticks\":\"\"}},\"colorscale\":{\"sequential\":[[0.0,\"#0d0887\"],[0.1111111111111111,\"#46039f\"],[0.2222222222222222,\"#7201a8\"],[0.3333333333333333,\"#9c179e\"],[0.4444444444444444,\"#bd3786\"],[0.5555555555555556,\"#d8576b\"],[0.6666666666666666,\"#ed7953\"],[0.7777777777777778,\"#fb9f3a\"],[0.8888888888888888,\"#fdca26\"],[1.0,\"#f0f921\"]],\"sequentialminus\":[[0.0,\"#0d0887\"],[0.1111111111111111,\"#46039f\"],[0.2222222222222222,\"#7201a8\"],[0.3333333333333333,\"#9c179e\"],[0.4444444444444444,\"#bd3786\"],[0.5555555555555556,\"#d8576b\"],[0.6666666666666666,\"#ed7953\"],[0.7777777777777778,\"#fb9f3a\"],[0.8888888888888888,\"#fdca26\"],[1.0,\"#f0f921\"]],\"diverging\":[[0,\"#8e0152\"],[0.1,\"#c51b7d\"],[0.2,\"#de77ae\"],[0.3,\"#f1b6da\"],[0.4,\"#fde0ef\"],[0.5,\"#f7f7f7\"],[0.6,\"#e6f5d0\"],[0.7,\"#b8e186\"],[0.8,\"#7fbc41\"],[0.9,\"#4d9221\"],[1,\"#276419\"]]},\"xaxis\":{\"gridcolor\":\"white\",\"linecolor\":\"white\",\"ticks\":\"\",\"title\":{\"standoff\":15},\"zerolinecolor\":\"white\",\"automargin\":true,\"zerolinewidth\":2},\"yaxis\":{\"gridcolor\":\"white\",\"linecolor\":\"white\",\"ticks\":\"\",\"title\":{\"standoff\":15},\"zerolinecolor\":\"white\",\"automargin\":true,\"zerolinewidth\":2},\"scene\":{\"xaxis\":{\"backgroundcolor\":\"#E5ECF6\",\"gridcolor\":\"white\",\"linecolor\":\"white\",\"showbackground\":true,\"ticks\":\"\",\"zerolinecolor\":\"white\",\"gridwidth\":2},\"yaxis\":{\"backgroundcolor\":\"#E5ECF6\",\"gridcolor\":\"white\",\"linecolor\":\"white\",\"showbackground\":true,\"ticks\":\"\",\"zerolinecolor\":\"white\",\"gridwidth\":2},\"zaxis\":{\"backgroundcolor\":\"#E5ECF6\",\"gridcolor\":\"white\",\"linecolor\":\"white\",\"showbackground\":true,\"ticks\":\"\",\"zerolinecolor\":\"white\",\"gridwidth\":2}},\"shapedefaults\":{\"line\":{\"color\":\"#2a3f5f\"}},\"annotationdefaults\":{\"arrowcolor\":\"#2a3f5f\",\"arrowhead\":0,\"arrowwidth\":1},\"geo\":{\"bgcolor\":\"white\",\"landcolor\":\"#E5ECF6\",\"subunitcolor\":\"white\",\"showland\":true,\"showlakes\":true,\"lakecolor\":\"white\"},\"title\":{\"x\":0.05},\"mapbox\":{\"style\":\"light\"}}},\"xaxis\":{\"anchor\":\"y\",\"domain\":[0.0,1.0],\"title\":{\"text\":\"Price\"}},\"yaxis\":{\"anchor\":\"x\",\"domain\":[0.0,1.0],\"title\":{\"text\":\"Distance from Center (meters)\"}},\"coloraxis\":{\"colorbar\":{\"title\":{\"text\":\"rating\"}},\"colorscale\":[[0.0,\"#0d0887\"],[0.1111111111111111,\"#46039f\"],[0.2222222222222222,\"#7201a8\"],[0.3333333333333333,\"#9c179e\"],[0.4444444444444444,\"#bd3786\"],[0.5555555555555556,\"#d8576b\"],[0.6666666666666666,\"#ed7953\"],[0.7777777777777778,\"#fb9f3a\"],[0.8888888888888888,\"#fdca26\"],[1.0,\"#f0f921\"]]},\"legend\":{\"tracegroupgap\":0},\"margin\":{\"t\":60},\"title\":{\"text\":\"Hotel Prices vs. Distance from Center\"}},                        {\"responsive\": true}                    ).then(function(){\n",
       "                            \n",
       "var gd = document.getElementById('51c2fba5-a336-4d77-9e8d-73c7d886b5e9');\n",
       "var x = new MutationObserver(function (mutations, observer) {{\n",
       "        var display = window.getComputedStyle(gd).display;\n",
       "        if (!display || display === 'none') {{\n",
       "            console.log([gd, 'removed!']);\n",
       "            Plotly.purge(gd);\n",
       "            observer.disconnect();\n",
       "        }}\n",
       "}});\n",
       "\n",
       "// Listen for the removal of the full notebook cells\n",
       "var notebookContainer = gd.closest('#notebook-container');\n",
       "if (notebookContainer) {{\n",
       "    x.observe(notebookContainer, {childList: true});\n",
       "}}\n",
       "\n",
       "// Listen for the clearing of the current output cell\n",
       "var outputEl = gd.closest('.output');\n",
       "if (outputEl) {{\n",
       "    x.observe(outputEl, {childList: true});\n",
       "}}\n",
       "\n",
       "                        })                };                });            </script>        </div>"
      ]
     },
     "metadata": {},
     "output_type": "display_data"
    }
   ],
   "source": [
    "import plotly.express as px\n",
    "\n",
    "# Create a scatter plot\n",
    "fig = px.scatter(hotels, x='price', y='distance', color='rating',\n",
    "                 hover_name='name',\n",
    "                 hover_data={'price': True, 'rating': True}) # to be displayed when hovering over datapoints\n",
    "\n",
    "# Customize the plot\n",
    "fig.update_traces(marker=dict(size=12, opacity=0.7),\n",
    "                  selector=dict(mode='markers+text'))\n",
    "\n",
    "# Add titles and labels\n",
    "fig.update_layout(\n",
    "    title='Hotel Prices vs. Distance from Center',\n",
    "    xaxis_title='Price',\n",
    "    yaxis_title='Distance from Center (meters)'\n",
    ")\n",
    "\n",
    "# Show the plot\n",
    "fig.show()"
   ]
  },
  {
   "cell_type": "markdown",
   "id": "7510e34d",
   "metadata": {},
   "source": [
    "It appears that `台北文華東方酒店` is an outlier, we remove it and plot again."
   ]
  },
  {
   "cell_type": "code",
   "execution_count": 48,
   "id": "1a20e4bd",
   "metadata": {},
   "outputs": [
    {
     "data": {
      "application/vnd.plotly.v1+json": {
       "config": {
        "plotlyServerURL": "https://plot.ly"
       },
       "data": [
        {
         "customdata": [
          [
           8.5
          ],
          [
           10
          ],
          [
           8
          ],
          [
           8.6
          ],
          [
           8.4
          ],
          [
           9
          ],
          [
           8.4
          ],
          [
           8.5
          ],
          [
           8.4
          ],
          [
           8.6
          ],
          [
           8.4
          ],
          [
           8.3
          ],
          [
           9.1
          ],
          [
           8.6
          ],
          [
           9
          ],
          [
           8.5
          ],
          [
           8.3
          ],
          [
           8.1
          ],
          [
           8
          ],
          [
           8.2
          ],
          [
           8.2
          ],
          [
           7.2
          ],
          [
           8.4
          ],
          [
           7.8
          ],
          [
           8.4
          ],
          [
           8.4
          ],
          [
           8.3
          ],
          [
           8.3
          ],
          [
           8.6
          ],
          [
           8.8
          ],
          [
           8.2
          ],
          [
           8.3
          ],
          [
           8.6
          ],
          [
           8.3
          ],
          [
           8.5
          ],
          [
           9.2
          ],
          [
           7.2
          ],
          [
           8.9
          ],
          [
           8.8
          ],
          [
           8.7
          ],
          [
           8.3
          ],
          [
           8.9
          ],
          [
           8.2
          ],
          [
           8.1
          ],
          [
           8.6
          ],
          [
           7.6
          ],
          [
           7.8
          ],
          [
           7.7
          ],
          [
           9.1
          ],
          [
           8.4
          ],
          [
           8.2
          ],
          [
           7
          ],
          [
           8.9
          ],
          [
           8.5
          ],
          [
           8.5
          ],
          [
           8.1
          ],
          [
           8.4
          ],
          [
           8.7
          ],
          [
           8.1
          ],
          [
           7.5
          ],
          [
           7.5
          ],
          [
           8.4
          ],
          [
           8
          ],
          [
           7.8
          ],
          [
           7.8
          ],
          [
           9
          ],
          [
           8.3
          ],
          [
           8.1
          ],
          [
           8
          ],
          [
           8.3
          ],
          [
           8.8
          ],
          [
           8.7
          ],
          [
           7.8
          ],
          [
           8.9
          ],
          [
           7.8
          ],
          [
           9
          ],
          [
           8.3
          ],
          [
           8.1
          ],
          [
           8
          ],
          [
           8.3
          ],
          [
           8.8
          ],
          [
           8.7
          ],
          [
           7.7
          ],
          [
           7.8
          ],
          [
           8.6
          ],
          [
           9
          ],
          [
           9.4
          ],
          [
           8.5
          ],
          [
           8.7
          ],
          [
           9.1
          ],
          [
           8.4
          ],
          [
           8.9
          ],
          [
           8.7
          ],
          [
           9.1
          ],
          [
           8.4
          ],
          [
           8
          ],
          [
           9
          ]
         ],
         "hovertemplate": "<b>%{hovertext}</b><br><br>price=%{x}<br>distance=%{y}<br>rating=%{marker.color}<extra></extra>",
         "hovertext": [
          "路徒Plus行旅-站前館",
          "小隱居Hermit_Dorm",
          "首都大飯店松山館",
          "苓旅中山館-Lininn ZhongShan",
          "怡品商旅",
          "和苑三井花園飯店台北忠孝",
          "旅樂序精品旅館站前五館",
          "宜家商旅",
          "台北馥敦飯店復南館",
          "見潭璞旅",
          "福容大飯店台北一館",
          "天閣酒店台北信義",
          "台北國泰萬怡酒店",
          "台北萬豪酒店",
          "台北亞都麗緻大飯店",
          "洛碁大飯店忠孝館",
          "柯達大飯店台北敦南",
          "優美飯店-雙連MRT",
          "Artinn藝築文旅-台北站前館",
          "皇家玫瑰旅館站前館",
          "雀客旅館台北站前",
          "第一大飯店",
          "玉璽精品飯店",
          "美亞商旅",
          "玉璽精品飯店",
          "洛碁大飯店三貝茲",
          "洛碁大飯店南港館",
          "台北凱達大飯店",
          "洛碁大飯店南京館",
          "台北松山意舍酒店",
          "台北六福萬怡酒店",
          "艾爾行旅",
          "台北中山意舍酒店",
          "台北喜來登大飯店",
          "路境行旅-府前館",
          "台北時代寓所-希爾頓啟繽精選酒店",
          "明日大饭店",
          "兄弟大飯店",
          "盤古捷旅 - Panco Hotel",
          "寒居酒店",
          "洛碁大飯店松山館",
          "丰居旅店 - 北車館",
          "CU Hotel Taipei",
          "錦棧•旅",
          "柯達大飯店台北松江",
          "喜客商旅 Seeker Hotel - Sanchong",
          "熙門小聚 YS Inn",
          "唯樂米窩",
          "金普頓大安酒店 - 洲際酒店集團酒店",
          "松哖酒店",
          "葳皇時尚飯店",
          "謙匯-普樂室行旅",
          "慕軒飯店",
          "燦路都飯店",
          "天閣酒店台北長安",
          "洛碁大飯店中華館",
          "老爺會館台北林森 – 華山文創園區",
          "樂頤飯店-蘆洲台北",
          "趣旅館．林森館",
          "上格大飯店",
          "T.O. Hotel 承德館",
          "老爺會館台北南西-中山站",
          "首都大飯店松山館",
          "貴族商務飯店",
          "華大旅店-南西館",
          "JR東日本大飯店 台北",
          "柔美精品商旅",
          "旅居文旅-板橋車站館",
          "薇閣精品旅館 - 大直旗艦館",
          "台北中山旅居文旅-松山機場館",
          "町記憶旅店",
          "晶華酒店",
          "貴族商務飯店",
          "台北馥敦-馥寓",
          "華大旅店-南西館",
          "JR東日本大飯店 台北",
          "柔美精品商旅",
          "旅居文旅-板橋車站館",
          "薇閣精品旅館 - 大直旗艦館",
          "台北中山旅居文旅-松山機場館",
          "町記憶旅店",
          "晶華酒店",
          "窩旅舍",
          "Sunrise Hotel",
          "路徒Plus行旅-主題館",
          "格拉斯麗台北飯店",
          "旅城驛鎮",
          "路徒Plus行旅-站前館",
          "天閣酒店台北士林",
          "傑仕堡有氧酒店",
          "台北大直英迪格酒店",
          "町記憶旅店3館",
          "雀客旅館新北蘆洲",
          "捷絲旅台北三重館",
          "甲山林湯旅",
          "北投享溫泉",
          "美侖商旅"
         ],
         "legendgroup": "",
         "marker": {
          "color": [
           8.5,
           10,
           8,
           8.6,
           8.4,
           9,
           8.4,
           8.5,
           8.4,
           8.6,
           8.4,
           8.3,
           9.1,
           8.6,
           9,
           8.5,
           8.3,
           8.1,
           8,
           8.2,
           8.2,
           7.2,
           8.4,
           7.8,
           8.4,
           8.4,
           8.3,
           8.3,
           8.6,
           8.8,
           8.2,
           8.3,
           8.6,
           8.3,
           8.5,
           9.2,
           7.2,
           8.9,
           8.8,
           8.7,
           8.3,
           8.9,
           8.2,
           8.1,
           8.6,
           7.6,
           7.8,
           7.7,
           9.1,
           8.4,
           8.2,
           7,
           8.9,
           8.5,
           8.5,
           8.1,
           8.4,
           8.7,
           8.1,
           7.5,
           7.5,
           8.4,
           8,
           7.8,
           7.8,
           9,
           8.3,
           8.1,
           8,
           8.3,
           8.8,
           8.7,
           7.8,
           8.9,
           7.8,
           9,
           8.3,
           8.1,
           8,
           8.3,
           8.8,
           8.7,
           7.7,
           7.8,
           8.6,
           9,
           9.4,
           8.5,
           8.7,
           9.1,
           8.4,
           8.9,
           8.7,
           9.1,
           8.4,
           8,
           9
          ],
          "coloraxis": "coloraxis",
          "symbol": "circle"
         },
         "mode": "markers",
         "name": "",
         "orientation": "v",
         "showlegend": false,
         "type": "scatter",
         "x": [
          6494,
          2643,
          3312,
          3080,
          3116,
          7833,
          4116,
          3420,
          5993,
          4124,
          4392,
          4050,
          5460,
          7245,
          5069,
          3658,
          3483,
          3200,
          2867,
          2941,
          3610,
          1900,
          2400,
          3645,
          2400,
          3534,
          3813,
          5500,
          3787,
          4620,
          6376,
          3370,
          4158,
          6158,
          3680,
          9118,
          2200,
          4650,
          3060,
          6431,
          4061,
          3880,
          3298,
          2772,
          4180,
          2096,
          2375,
          2790,
          8576,
          4500,
          2099,
          2414,
          6800,
          3384,
          3780,
          5890,
          4150,
          3634,
          2821,
          2448,
          2106,
          5078,
          3312,
          2160,
          3600,
          8100,
          3966,
          2480,
          3135,
          2680,
          4281,
          7970,
          2160,
          5658,
          3600,
          8100,
          3966,
          2480,
          3135,
          2680,
          4281,
          7970,
          1262,
          3080,
          5280,
          7695,
          5022,
          6494,
          4725,
          4956,
          6757,
          5081,
          3610,
          4634,
          4837,
          5681,
          9900
         ],
         "xaxis": "x",
         "y": [
          400,
          5300,
          5900,
          2400,
          3100,
          1700,
          450,
          7900,
          3100,
          4800,
          2200,
          5600,
          2400,
          5700,
          2200,
          3500,
          4200,
          1400,
          500,
          450,
          400,
          1400,
          8200,
          200,
          8200,
          4100,
          9500,
          2300,
          2100,
          6300,
          9000,
          3100,
          1100,
          500,
          600,
          600,
          1200,
          2800,
          900,
          1600,
          6700,
          500,
          1200,
          1700,
          2100,
          3600,
          800,
          1400,
          2900,
          1900,
          1600,
          5700,
          3500,
          2000,
          800,
          800,
          800,
          5500,
          1900,
          3000,
          1000,
          800,
          5900,
          7100,
          1000,
          2500,
          2100,
          6900,
          5700,
          2800,
          1400,
          1100,
          7100,
          3100,
          1000,
          2500,
          2100,
          6900,
          5700,
          2800,
          1400,
          1100,
          4400,
          5000,
          400,
          1400,
          1700,
          400,
          4100,
          5700,
          5900,
          1400,
          5400,
          4600,
          2500,
          10100,
          1500
         ],
         "yaxis": "y"
        }
       ],
       "layout": {
        "coloraxis": {
         "colorbar": {
          "title": {
           "text": "rating"
          }
         },
         "colorscale": [
          [
           0,
           "#0d0887"
          ],
          [
           0.1111111111111111,
           "#46039f"
          ],
          [
           0.2222222222222222,
           "#7201a8"
          ],
          [
           0.3333333333333333,
           "#9c179e"
          ],
          [
           0.4444444444444444,
           "#bd3786"
          ],
          [
           0.5555555555555556,
           "#d8576b"
          ],
          [
           0.6666666666666666,
           "#ed7953"
          ],
          [
           0.7777777777777778,
           "#fb9f3a"
          ],
          [
           0.8888888888888888,
           "#fdca26"
          ],
          [
           1,
           "#f0f921"
          ]
         ]
        },
        "legend": {
         "tracegroupgap": 0
        },
        "margin": {
         "t": 60
        },
        "template": {
         "data": {
          "bar": [
           {
            "error_x": {
             "color": "#2a3f5f"
            },
            "error_y": {
             "color": "#2a3f5f"
            },
            "marker": {
             "line": {
              "color": "#E5ECF6",
              "width": 0.5
             },
             "pattern": {
              "fillmode": "overlay",
              "size": 10,
              "solidity": 0.2
             }
            },
            "type": "bar"
           }
          ],
          "barpolar": [
           {
            "marker": {
             "line": {
              "color": "#E5ECF6",
              "width": 0.5
             },
             "pattern": {
              "fillmode": "overlay",
              "size": 10,
              "solidity": 0.2
             }
            },
            "type": "barpolar"
           }
          ],
          "carpet": [
           {
            "aaxis": {
             "endlinecolor": "#2a3f5f",
             "gridcolor": "white",
             "linecolor": "white",
             "minorgridcolor": "white",
             "startlinecolor": "#2a3f5f"
            },
            "baxis": {
             "endlinecolor": "#2a3f5f",
             "gridcolor": "white",
             "linecolor": "white",
             "minorgridcolor": "white",
             "startlinecolor": "#2a3f5f"
            },
            "type": "carpet"
           }
          ],
          "choropleth": [
           {
            "colorbar": {
             "outlinewidth": 0,
             "ticks": ""
            },
            "type": "choropleth"
           }
          ],
          "contour": [
           {
            "colorbar": {
             "outlinewidth": 0,
             "ticks": ""
            },
            "colorscale": [
             [
              0,
              "#0d0887"
             ],
             [
              0.1111111111111111,
              "#46039f"
             ],
             [
              0.2222222222222222,
              "#7201a8"
             ],
             [
              0.3333333333333333,
              "#9c179e"
             ],
             [
              0.4444444444444444,
              "#bd3786"
             ],
             [
              0.5555555555555556,
              "#d8576b"
             ],
             [
              0.6666666666666666,
              "#ed7953"
             ],
             [
              0.7777777777777778,
              "#fb9f3a"
             ],
             [
              0.8888888888888888,
              "#fdca26"
             ],
             [
              1,
              "#f0f921"
             ]
            ],
            "type": "contour"
           }
          ],
          "contourcarpet": [
           {
            "colorbar": {
             "outlinewidth": 0,
             "ticks": ""
            },
            "type": "contourcarpet"
           }
          ],
          "heatmap": [
           {
            "colorbar": {
             "outlinewidth": 0,
             "ticks": ""
            },
            "colorscale": [
             [
              0,
              "#0d0887"
             ],
             [
              0.1111111111111111,
              "#46039f"
             ],
             [
              0.2222222222222222,
              "#7201a8"
             ],
             [
              0.3333333333333333,
              "#9c179e"
             ],
             [
              0.4444444444444444,
              "#bd3786"
             ],
             [
              0.5555555555555556,
              "#d8576b"
             ],
             [
              0.6666666666666666,
              "#ed7953"
             ],
             [
              0.7777777777777778,
              "#fb9f3a"
             ],
             [
              0.8888888888888888,
              "#fdca26"
             ],
             [
              1,
              "#f0f921"
             ]
            ],
            "type": "heatmap"
           }
          ],
          "heatmapgl": [
           {
            "colorbar": {
             "outlinewidth": 0,
             "ticks": ""
            },
            "colorscale": [
             [
              0,
              "#0d0887"
             ],
             [
              0.1111111111111111,
              "#46039f"
             ],
             [
              0.2222222222222222,
              "#7201a8"
             ],
             [
              0.3333333333333333,
              "#9c179e"
             ],
             [
              0.4444444444444444,
              "#bd3786"
             ],
             [
              0.5555555555555556,
              "#d8576b"
             ],
             [
              0.6666666666666666,
              "#ed7953"
             ],
             [
              0.7777777777777778,
              "#fb9f3a"
             ],
             [
              0.8888888888888888,
              "#fdca26"
             ],
             [
              1,
              "#f0f921"
             ]
            ],
            "type": "heatmapgl"
           }
          ],
          "histogram": [
           {
            "marker": {
             "pattern": {
              "fillmode": "overlay",
              "size": 10,
              "solidity": 0.2
             }
            },
            "type": "histogram"
           }
          ],
          "histogram2d": [
           {
            "colorbar": {
             "outlinewidth": 0,
             "ticks": ""
            },
            "colorscale": [
             [
              0,
              "#0d0887"
             ],
             [
              0.1111111111111111,
              "#46039f"
             ],
             [
              0.2222222222222222,
              "#7201a8"
             ],
             [
              0.3333333333333333,
              "#9c179e"
             ],
             [
              0.4444444444444444,
              "#bd3786"
             ],
             [
              0.5555555555555556,
              "#d8576b"
             ],
             [
              0.6666666666666666,
              "#ed7953"
             ],
             [
              0.7777777777777778,
              "#fb9f3a"
             ],
             [
              0.8888888888888888,
              "#fdca26"
             ],
             [
              1,
              "#f0f921"
             ]
            ],
            "type": "histogram2d"
           }
          ],
          "histogram2dcontour": [
           {
            "colorbar": {
             "outlinewidth": 0,
             "ticks": ""
            },
            "colorscale": [
             [
              0,
              "#0d0887"
             ],
             [
              0.1111111111111111,
              "#46039f"
             ],
             [
              0.2222222222222222,
              "#7201a8"
             ],
             [
              0.3333333333333333,
              "#9c179e"
             ],
             [
              0.4444444444444444,
              "#bd3786"
             ],
             [
              0.5555555555555556,
              "#d8576b"
             ],
             [
              0.6666666666666666,
              "#ed7953"
             ],
             [
              0.7777777777777778,
              "#fb9f3a"
             ],
             [
              0.8888888888888888,
              "#fdca26"
             ],
             [
              1,
              "#f0f921"
             ]
            ],
            "type": "histogram2dcontour"
           }
          ],
          "mesh3d": [
           {
            "colorbar": {
             "outlinewidth": 0,
             "ticks": ""
            },
            "type": "mesh3d"
           }
          ],
          "parcoords": [
           {
            "line": {
             "colorbar": {
              "outlinewidth": 0,
              "ticks": ""
             }
            },
            "type": "parcoords"
           }
          ],
          "pie": [
           {
            "automargin": true,
            "type": "pie"
           }
          ],
          "scatter": [
           {
            "fillpattern": {
             "fillmode": "overlay",
             "size": 10,
             "solidity": 0.2
            },
            "type": "scatter"
           }
          ],
          "scatter3d": [
           {
            "line": {
             "colorbar": {
              "outlinewidth": 0,
              "ticks": ""
             }
            },
            "marker": {
             "colorbar": {
              "outlinewidth": 0,
              "ticks": ""
             }
            },
            "type": "scatter3d"
           }
          ],
          "scattercarpet": [
           {
            "marker": {
             "colorbar": {
              "outlinewidth": 0,
              "ticks": ""
             }
            },
            "type": "scattercarpet"
           }
          ],
          "scattergeo": [
           {
            "marker": {
             "colorbar": {
              "outlinewidth": 0,
              "ticks": ""
             }
            },
            "type": "scattergeo"
           }
          ],
          "scattergl": [
           {
            "marker": {
             "colorbar": {
              "outlinewidth": 0,
              "ticks": ""
             }
            },
            "type": "scattergl"
           }
          ],
          "scattermapbox": [
           {
            "marker": {
             "colorbar": {
              "outlinewidth": 0,
              "ticks": ""
             }
            },
            "type": "scattermapbox"
           }
          ],
          "scatterpolar": [
           {
            "marker": {
             "colorbar": {
              "outlinewidth": 0,
              "ticks": ""
             }
            },
            "type": "scatterpolar"
           }
          ],
          "scatterpolargl": [
           {
            "marker": {
             "colorbar": {
              "outlinewidth": 0,
              "ticks": ""
             }
            },
            "type": "scatterpolargl"
           }
          ],
          "scatterternary": [
           {
            "marker": {
             "colorbar": {
              "outlinewidth": 0,
              "ticks": ""
             }
            },
            "type": "scatterternary"
           }
          ],
          "surface": [
           {
            "colorbar": {
             "outlinewidth": 0,
             "ticks": ""
            },
            "colorscale": [
             [
              0,
              "#0d0887"
             ],
             [
              0.1111111111111111,
              "#46039f"
             ],
             [
              0.2222222222222222,
              "#7201a8"
             ],
             [
              0.3333333333333333,
              "#9c179e"
             ],
             [
              0.4444444444444444,
              "#bd3786"
             ],
             [
              0.5555555555555556,
              "#d8576b"
             ],
             [
              0.6666666666666666,
              "#ed7953"
             ],
             [
              0.7777777777777778,
              "#fb9f3a"
             ],
             [
              0.8888888888888888,
              "#fdca26"
             ],
             [
              1,
              "#f0f921"
             ]
            ],
            "type": "surface"
           }
          ],
          "table": [
           {
            "cells": {
             "fill": {
              "color": "#EBF0F8"
             },
             "line": {
              "color": "white"
             }
            },
            "header": {
             "fill": {
              "color": "#C8D4E3"
             },
             "line": {
              "color": "white"
             }
            },
            "type": "table"
           }
          ]
         },
         "layout": {
          "annotationdefaults": {
           "arrowcolor": "#2a3f5f",
           "arrowhead": 0,
           "arrowwidth": 1
          },
          "autotypenumbers": "strict",
          "coloraxis": {
           "colorbar": {
            "outlinewidth": 0,
            "ticks": ""
           }
          },
          "colorscale": {
           "diverging": [
            [
             0,
             "#8e0152"
            ],
            [
             0.1,
             "#c51b7d"
            ],
            [
             0.2,
             "#de77ae"
            ],
            [
             0.3,
             "#f1b6da"
            ],
            [
             0.4,
             "#fde0ef"
            ],
            [
             0.5,
             "#f7f7f7"
            ],
            [
             0.6,
             "#e6f5d0"
            ],
            [
             0.7,
             "#b8e186"
            ],
            [
             0.8,
             "#7fbc41"
            ],
            [
             0.9,
             "#4d9221"
            ],
            [
             1,
             "#276419"
            ]
           ],
           "sequential": [
            [
             0,
             "#0d0887"
            ],
            [
             0.1111111111111111,
             "#46039f"
            ],
            [
             0.2222222222222222,
             "#7201a8"
            ],
            [
             0.3333333333333333,
             "#9c179e"
            ],
            [
             0.4444444444444444,
             "#bd3786"
            ],
            [
             0.5555555555555556,
             "#d8576b"
            ],
            [
             0.6666666666666666,
             "#ed7953"
            ],
            [
             0.7777777777777778,
             "#fb9f3a"
            ],
            [
             0.8888888888888888,
             "#fdca26"
            ],
            [
             1,
             "#f0f921"
            ]
           ],
           "sequentialminus": [
            [
             0,
             "#0d0887"
            ],
            [
             0.1111111111111111,
             "#46039f"
            ],
            [
             0.2222222222222222,
             "#7201a8"
            ],
            [
             0.3333333333333333,
             "#9c179e"
            ],
            [
             0.4444444444444444,
             "#bd3786"
            ],
            [
             0.5555555555555556,
             "#d8576b"
            ],
            [
             0.6666666666666666,
             "#ed7953"
            ],
            [
             0.7777777777777778,
             "#fb9f3a"
            ],
            [
             0.8888888888888888,
             "#fdca26"
            ],
            [
             1,
             "#f0f921"
            ]
           ]
          },
          "colorway": [
           "#636efa",
           "#EF553B",
           "#00cc96",
           "#ab63fa",
           "#FFA15A",
           "#19d3f3",
           "#FF6692",
           "#B6E880",
           "#FF97FF",
           "#FECB52"
          ],
          "font": {
           "color": "#2a3f5f"
          },
          "geo": {
           "bgcolor": "white",
           "lakecolor": "white",
           "landcolor": "#E5ECF6",
           "showlakes": true,
           "showland": true,
           "subunitcolor": "white"
          },
          "hoverlabel": {
           "align": "left"
          },
          "hovermode": "closest",
          "mapbox": {
           "style": "light"
          },
          "paper_bgcolor": "white",
          "plot_bgcolor": "#E5ECF6",
          "polar": {
           "angularaxis": {
            "gridcolor": "white",
            "linecolor": "white",
            "ticks": ""
           },
           "bgcolor": "#E5ECF6",
           "radialaxis": {
            "gridcolor": "white",
            "linecolor": "white",
            "ticks": ""
           }
          },
          "scene": {
           "xaxis": {
            "backgroundcolor": "#E5ECF6",
            "gridcolor": "white",
            "gridwidth": 2,
            "linecolor": "white",
            "showbackground": true,
            "ticks": "",
            "zerolinecolor": "white"
           },
           "yaxis": {
            "backgroundcolor": "#E5ECF6",
            "gridcolor": "white",
            "gridwidth": 2,
            "linecolor": "white",
            "showbackground": true,
            "ticks": "",
            "zerolinecolor": "white"
           },
           "zaxis": {
            "backgroundcolor": "#E5ECF6",
            "gridcolor": "white",
            "gridwidth": 2,
            "linecolor": "white",
            "showbackground": true,
            "ticks": "",
            "zerolinecolor": "white"
           }
          },
          "shapedefaults": {
           "line": {
            "color": "#2a3f5f"
           }
          },
          "ternary": {
           "aaxis": {
            "gridcolor": "white",
            "linecolor": "white",
            "ticks": ""
           },
           "baxis": {
            "gridcolor": "white",
            "linecolor": "white",
            "ticks": ""
           },
           "bgcolor": "#E5ECF6",
           "caxis": {
            "gridcolor": "white",
            "linecolor": "white",
            "ticks": ""
           }
          },
          "title": {
           "x": 0.05
          },
          "xaxis": {
           "automargin": true,
           "gridcolor": "white",
           "linecolor": "white",
           "ticks": "",
           "title": {
            "standoff": 15
           },
           "zerolinecolor": "white",
           "zerolinewidth": 2
          },
          "yaxis": {
           "automargin": true,
           "gridcolor": "white",
           "linecolor": "white",
           "ticks": "",
           "title": {
            "standoff": 15
           },
           "zerolinecolor": "white",
           "zerolinewidth": 2
          }
         }
        },
        "title": {
         "text": "Hotel Prices vs. Distance from Center (w/o outliers)"
        },
        "xaxis": {
         "anchor": "y",
         "domain": [
          0,
          1
         ],
         "title": {
          "text": "Price"
         }
        },
        "yaxis": {
         "anchor": "x",
         "domain": [
          0,
          1
         ],
         "title": {
          "text": "Distance from Center (meters)"
         }
        }
       }
      },
      "text/html": [
       "<div>                            <div id=\"68bd5aa3-1db7-4811-b7e6-8b48f25986cd\" class=\"plotly-graph-div\" style=\"height:525px; width:100%;\"></div>            <script type=\"text/javascript\">                require([\"plotly\"], function(Plotly) {                    window.PLOTLYENV=window.PLOTLYENV || {};                                    if (document.getElementById(\"68bd5aa3-1db7-4811-b7e6-8b48f25986cd\")) {                    Plotly.newPlot(                        \"68bd5aa3-1db7-4811-b7e6-8b48f25986cd\",                        [{\"customdata\":[[8.5],[10.0],[8.0],[8.6],[8.4],[9.0],[8.4],[8.5],[8.4],[8.6],[8.4],[8.3],[9.1],[8.6],[9.0],[8.5],[8.3],[8.1],[8.0],[8.2],[8.2],[7.2],[8.4],[7.8],[8.4],[8.4],[8.3],[8.3],[8.6],[8.8],[8.2],[8.3],[8.6],[8.3],[8.5],[9.2],[7.2],[8.9],[8.8],[8.7],[8.3],[8.9],[8.2],[8.1],[8.6],[7.6],[7.8],[7.7],[9.1],[8.4],[8.2],[7.0],[8.9],[8.5],[8.5],[8.1],[8.4],[8.7],[8.1],[7.5],[7.5],[8.4],[8.0],[7.8],[7.8],[9.0],[8.3],[8.1],[8.0],[8.3],[8.8],[8.7],[7.8],[8.9],[7.8],[9.0],[8.3],[8.1],[8.0],[8.3],[8.8],[8.7],[7.7],[7.8],[8.6],[9.0],[9.4],[8.5],[8.7],[9.1],[8.4],[8.9],[8.7],[9.1],[8.4],[8.0],[9.0]],\"hovertemplate\":\"\\u003cb\\u003e%{hovertext}\\u003c\\u002fb\\u003e\\u003cbr\\u003e\\u003cbr\\u003eprice=%{x}\\u003cbr\\u003edistance=%{y}\\u003cbr\\u003erating=%{marker.color}\\u003cextra\\u003e\\u003c\\u002fextra\\u003e\",\"hovertext\":[\"\\u8def\\u5f92Plus\\u884c\\u65c5-\\u7ad9\\u524d\\u9928\",\"\\u5c0f\\u96b1\\u5c45Hermit_Dorm\",\"\\u9996\\u90fd\\u5927\\u98ef\\u5e97\\u677e\\u5c71\\u9928\",\"\\u82d3\\u65c5\\u4e2d\\u5c71\\u9928-Lininn ZhongShan\",\"\\u6021\\u54c1\\u5546\\u65c5\",\"\\u548c\\u82d1\\u4e09\\u4e95\\u82b1\\u5712\\u98ef\\u5e97\\u53f0\\u5317\\u5fe0\\u5b5d\",\"\\u65c5\\u6a02\\u5e8f\\u7cbe\\u54c1\\u65c5\\u9928\\u7ad9\\u524d\\u4e94\\u9928\",\"\\u5b9c\\u5bb6\\u5546\\u65c5\",\"\\u53f0\\u5317\\u99a5\\u6566\\u98ef\\u5e97\\u5fa9\\u5357\\u9928\",\"\\u898b\\u6f6d\\u749e\\u65c5\",\"\\u798f\\u5bb9\\u5927\\u98ef\\u5e97\\u53f0\\u5317\\u4e00\\u9928\",\"\\u5929\\u95a3\\u9152\\u5e97\\u53f0\\u5317\\u4fe1\\u7fa9\",\"\\u53f0\\u5317\\u570b\\u6cf0\\u842c\\u6021\\u9152\\u5e97\",\"\\u53f0\\u5317\\u842c\\u8c6a\\u9152\\u5e97\",\"\\u53f0\\u5317\\u4e9e\\u90fd\\u9e97\\u7dfb\\u5927\\u98ef\\u5e97\",\"\\u6d1b\\u7881\\u5927\\u98ef\\u5e97\\u5fe0\\u5b5d\\u9928\",\"\\u67ef\\u9054\\u5927\\u98ef\\u5e97\\u53f0\\u5317\\u6566\\u5357\",\"\\u512a\\u7f8e\\u98ef\\u5e97-\\u96d9\\u9023MRT\",\"Artinn\\u85dd\\u7bc9\\u6587\\u65c5-\\u53f0\\u5317\\u7ad9\\u524d\\u9928\",\"\\u7687\\u5bb6\\u73ab\\u7470\\u65c5\\u9928\\u7ad9\\u524d\\u9928\",\"\\u96c0\\u5ba2\\u65c5\\u9928\\u53f0\\u5317\\u7ad9\\u524d\",\"\\u7b2c\\u4e00\\u5927\\u98ef\\u5e97\",\"\\u7389\\u74bd\\u7cbe\\u54c1\\u98ef\\u5e97\",\"\\u7f8e\\u4e9e\\u5546\\u65c5\",\"\\u7389\\u74bd\\u7cbe\\u54c1\\u98ef\\u5e97\",\"\\u6d1b\\u7881\\u5927\\u98ef\\u5e97\\u4e09\\u8c9d\\u8332\",\"\\u6d1b\\u7881\\u5927\\u98ef\\u5e97\\u5357\\u6e2f\\u9928\",\"\\u53f0\\u5317\\u51f1\\u9054\\u5927\\u98ef\\u5e97\",\"\\u6d1b\\u7881\\u5927\\u98ef\\u5e97\\u5357\\u4eac\\u9928\",\"\\u53f0\\u5317\\u677e\\u5c71\\u610f\\u820d\\u9152\\u5e97\",\"\\u53f0\\u5317\\u516d\\u798f\\u842c\\u6021\\u9152\\u5e97\",\"\\u827e\\u723e\\u884c\\u65c5\",\"\\u53f0\\u5317\\u4e2d\\u5c71\\u610f\\u820d\\u9152\\u5e97\",\"\\u53f0\\u5317\\u559c\\u4f86\\u767b\\u5927\\u98ef\\u5e97\",\"\\u8def\\u5883\\u884c\\u65c5-\\u5e9c\\u524d\\u9928\",\"\\u53f0\\u5317\\u6642\\u4ee3\\u5bd3\\u6240-\\u5e0c\\u723e\\u9813\\u555f\\u7e7d\\u7cbe\\u9078\\u9152\\u5e97\",\"\\u660e\\u65e5\\u5927\\u996d\\u5e97\",\"\\u5144\\u5f1f\\u5927\\u98ef\\u5e97\",\"\\u76e4\\u53e4\\u6377\\u65c5 - Panco Hotel\",\"\\u5bd2\\u5c45\\u9152\\u5e97\",\"\\u6d1b\\u7881\\u5927\\u98ef\\u5e97\\u677e\\u5c71\\u9928\",\"\\u4e30\\u5c45\\u65c5\\u5e97 - \\u5317\\u8eca\\u9928\",\"CU Hotel Taipei\",\"\\u9326\\u68e7\\u2022\\u65c5\",\"\\u67ef\\u9054\\u5927\\u98ef\\u5e97\\u53f0\\u5317\\u677e\\u6c5f\",\"\\u559c\\u5ba2\\u5546\\u65c5 Seeker Hotel - Sanchong\",\"\\u7199\\u9580\\u5c0f\\u805a YS Inn\",\"\\u552f\\u6a02\\u7c73\\u7aa9\",\"\\u91d1\\u666e\\u9813\\u5927\\u5b89\\u9152\\u5e97 - \\u6d32\\u969b\\u9152\\u5e97\\u96c6\\u5718\\u9152\\u5e97\",\"\\u677e\\u54d6\\u9152\\u5e97\",\"\\u8473\\u7687\\u6642\\u5c1a\\u98ef\\u5e97\",\"\\u8b19\\u532f-\\u666e\\u6a02\\u5ba4\\u884c\\u65c5\",\"\\u6155\\u8ed2\\u98ef\\u5e97\",\"\\u71e6\\u8def\\u90fd\\u98ef\\u5e97\",\"\\u5929\\u95a3\\u9152\\u5e97\\u53f0\\u5317\\u9577\\u5b89\",\"\\u6d1b\\u7881\\u5927\\u98ef\\u5e97\\u4e2d\\u83ef\\u9928\",\"\\u8001\\u723a\\u6703\\u9928\\u53f0\\u5317\\u6797\\u68ee \\u2013 \\u83ef\\u5c71\\u6587\\u5275\\u5712\\u5340\",\"\\u6a02\\u9824\\u98ef\\u5e97-\\u8606\\u6d32\\u53f0\\u5317\",\"\\u8da3\\u65c5\\u9928\\uff0e\\u6797\\u68ee\\u9928\",\"\\u4e0a\\u683c\\u5927\\u98ef\\u5e97\",\"T.O. Hotel \\u627f\\u5fb7\\u9928\",\"\\u8001\\u723a\\u6703\\u9928\\u53f0\\u5317\\u5357\\u897f-\\u4e2d\\u5c71\\u7ad9\",\"\\u9996\\u90fd\\u5927\\u98ef\\u5e97\\u677e\\u5c71\\u9928\",\"\\u8cb4\\u65cf\\u5546\\u52d9\\u98ef\\u5e97\",\"\\u83ef\\u5927\\u65c5\\u5e97-\\u5357\\u897f\\u9928\",\"JR\\u6771\\u65e5\\u672c\\u5927\\u98ef\\u5e97 \\u53f0\\u5317\",\"\\u67d4\\u7f8e\\u7cbe\\u54c1\\u5546\\u65c5\",\"\\u65c5\\u5c45\\u6587\\u65c5-\\u677f\\u6a4b\\u8eca\\u7ad9\\u9928\",\"\\u8587\\u95a3\\u7cbe\\u54c1\\u65c5\\u9928 - \\u5927\\u76f4\\u65d7\\u8266\\u9928\",\"\\u53f0\\u5317\\u4e2d\\u5c71\\u65c5\\u5c45\\u6587\\u65c5-\\u677e\\u5c71\\u6a5f\\u5834\\u9928\",\"\\u753a\\u8a18\\u61b6\\u65c5\\u5e97\",\"\\u6676\\u83ef\\u9152\\u5e97\",\"\\u8cb4\\u65cf\\u5546\\u52d9\\u98ef\\u5e97\",\"\\u53f0\\u5317\\u99a5\\u6566-\\u99a5\\u5bd3\",\"\\u83ef\\u5927\\u65c5\\u5e97-\\u5357\\u897f\\u9928\",\"JR\\u6771\\u65e5\\u672c\\u5927\\u98ef\\u5e97 \\u53f0\\u5317\",\"\\u67d4\\u7f8e\\u7cbe\\u54c1\\u5546\\u65c5\",\"\\u65c5\\u5c45\\u6587\\u65c5-\\u677f\\u6a4b\\u8eca\\u7ad9\\u9928\",\"\\u8587\\u95a3\\u7cbe\\u54c1\\u65c5\\u9928 - \\u5927\\u76f4\\u65d7\\u8266\\u9928\",\"\\u53f0\\u5317\\u4e2d\\u5c71\\u65c5\\u5c45\\u6587\\u65c5-\\u677e\\u5c71\\u6a5f\\u5834\\u9928\",\"\\u753a\\u8a18\\u61b6\\u65c5\\u5e97\",\"\\u6676\\u83ef\\u9152\\u5e97\",\"\\u7aa9\\u65c5\\u820d\",\"Sunrise Hotel\",\"\\u8def\\u5f92Plus\\u884c\\u65c5-\\u4e3b\\u984c\\u9928\",\"\\u683c\\u62c9\\u65af\\u9e97\\u53f0\\u5317\\u98ef\\u5e97\",\"\\u65c5\\u57ce\\u9a5b\\u93ae\",\"\\u8def\\u5f92Plus\\u884c\\u65c5-\\u7ad9\\u524d\\u9928\",\"\\u5929\\u95a3\\u9152\\u5e97\\u53f0\\u5317\\u58eb\\u6797\",\"\\u5091\\u4ed5\\u5821\\u6709\\u6c27\\u9152\\u5e97\",\"\\u53f0\\u5317\\u5927\\u76f4\\u82f1\\u8fea\\u683c\\u9152\\u5e97\",\"\\u753a\\u8a18\\u61b6\\u65c5\\u5e973\\u9928\",\"\\u96c0\\u5ba2\\u65c5\\u9928\\u65b0\\u5317\\u8606\\u6d32\",\"\\u6377\\u7d72\\u65c5\\u53f0\\u5317\\u4e09\\u91cd\\u9928\",\"\\u7532\\u5c71\\u6797\\u6e6f\\u65c5\",\"\\u5317\\u6295\\u4eab\\u6eab\\u6cc9\",\"\\u7f8e\\u4f96\\u5546\\u65c5\"],\"legendgroup\":\"\",\"marker\":{\"color\":[8.5,10.0,8.0,8.6,8.4,9.0,8.4,8.5,8.4,8.6,8.4,8.3,9.1,8.6,9.0,8.5,8.3,8.1,8.0,8.2,8.2,7.2,8.4,7.8,8.4,8.4,8.3,8.3,8.6,8.8,8.2,8.3,8.6,8.3,8.5,9.2,7.2,8.9,8.8,8.7,8.3,8.9,8.2,8.1,8.6,7.6,7.8,7.7,9.1,8.4,8.2,7.0,8.9,8.5,8.5,8.1,8.4,8.7,8.1,7.5,7.5,8.4,8.0,7.8,7.8,9.0,8.3,8.1,8.0,8.3,8.8,8.7,7.8,8.9,7.8,9.0,8.3,8.1,8.0,8.3,8.8,8.7,7.7,7.8,8.6,9.0,9.4,8.5,8.7,9.1,8.4,8.9,8.7,9.1,8.4,8.0,9.0],\"coloraxis\":\"coloraxis\",\"symbol\":\"circle\"},\"mode\":\"markers\",\"name\":\"\",\"orientation\":\"v\",\"showlegend\":false,\"x\":[6494.0,2643.0,3312.0,3080.0,3116.0,7833.0,4116.0,3420.0,5993.0,4124.0,4392.0,4050.0,5460.0,7245.0,5069.0,3658.0,3483.0,3200.0,2867.0,2941.0,3610.0,1900.0,2400.0,3645.0,2400.0,3534.0,3813.0,5500.0,3787.0,4620.0,6376.0,3370.0,4158.0,6158.0,3680.0,9118.0,2200.0,4650.0,3060.0,6431.0,4061.0,3880.0,3298.0,2772.0,4180.0,2096.0,2375.0,2790.0,8576.0,4500.0,2099.0,2414.0,6800.0,3384.0,3780.0,5890.0,4150.0,3634.0,2821.0,2448.0,2106.0,5078.0,3312.0,2160.0,3600.0,8100.0,3966.0,2480.0,3135.0,2680.0,4281.0,7970.0,2160.0,5658.0,3600.0,8100.0,3966.0,2480.0,3135.0,2680.0,4281.0,7970.0,1262.0,3080.0,5280.0,7695.0,5022.0,6494.0,4725.0,4956.0,6757.0,5081.0,3610.0,4634.0,4837.0,5681.0,9900.0],\"xaxis\":\"x\",\"y\":[400,5300,5900,2400,3100,1700,450,7900,3100,4800,2200,5600,2400,5700,2200,3500,4200,1400,500,450,400,1400,8200,200,8200,4100,9500,2300,2100,6300,9000,3100,1100,500,600,600,1200,2800,900,1600,6700,500,1200,1700,2100,3600,800,1400,2900,1900,1600,5700,3500,2000,800,800,800,5500,1900,3000,1000,800,5900,7100,1000,2500,2100,6900,5700,2800,1400,1100,7100,3100,1000,2500,2100,6900,5700,2800,1400,1100,4400,5000,400,1400,1700,400,4100,5700,5900,1400,5400,4600,2500,10100,1500],\"yaxis\":\"y\",\"type\":\"scatter\"}],                        {\"template\":{\"data\":{\"histogram2dcontour\":[{\"type\":\"histogram2dcontour\",\"colorbar\":{\"outlinewidth\":0,\"ticks\":\"\"},\"colorscale\":[[0.0,\"#0d0887\"],[0.1111111111111111,\"#46039f\"],[0.2222222222222222,\"#7201a8\"],[0.3333333333333333,\"#9c179e\"],[0.4444444444444444,\"#bd3786\"],[0.5555555555555556,\"#d8576b\"],[0.6666666666666666,\"#ed7953\"],[0.7777777777777778,\"#fb9f3a\"],[0.8888888888888888,\"#fdca26\"],[1.0,\"#f0f921\"]]}],\"choropleth\":[{\"type\":\"choropleth\",\"colorbar\":{\"outlinewidth\":0,\"ticks\":\"\"}}],\"histogram2d\":[{\"type\":\"histogram2d\",\"colorbar\":{\"outlinewidth\":0,\"ticks\":\"\"},\"colorscale\":[[0.0,\"#0d0887\"],[0.1111111111111111,\"#46039f\"],[0.2222222222222222,\"#7201a8\"],[0.3333333333333333,\"#9c179e\"],[0.4444444444444444,\"#bd3786\"],[0.5555555555555556,\"#d8576b\"],[0.6666666666666666,\"#ed7953\"],[0.7777777777777778,\"#fb9f3a\"],[0.8888888888888888,\"#fdca26\"],[1.0,\"#f0f921\"]]}],\"heatmap\":[{\"type\":\"heatmap\",\"colorbar\":{\"outlinewidth\":0,\"ticks\":\"\"},\"colorscale\":[[0.0,\"#0d0887\"],[0.1111111111111111,\"#46039f\"],[0.2222222222222222,\"#7201a8\"],[0.3333333333333333,\"#9c179e\"],[0.4444444444444444,\"#bd3786\"],[0.5555555555555556,\"#d8576b\"],[0.6666666666666666,\"#ed7953\"],[0.7777777777777778,\"#fb9f3a\"],[0.8888888888888888,\"#fdca26\"],[1.0,\"#f0f921\"]]}],\"heatmapgl\":[{\"type\":\"heatmapgl\",\"colorbar\":{\"outlinewidth\":0,\"ticks\":\"\"},\"colorscale\":[[0.0,\"#0d0887\"],[0.1111111111111111,\"#46039f\"],[0.2222222222222222,\"#7201a8\"],[0.3333333333333333,\"#9c179e\"],[0.4444444444444444,\"#bd3786\"],[0.5555555555555556,\"#d8576b\"],[0.6666666666666666,\"#ed7953\"],[0.7777777777777778,\"#fb9f3a\"],[0.8888888888888888,\"#fdca26\"],[1.0,\"#f0f921\"]]}],\"contourcarpet\":[{\"type\":\"contourcarpet\",\"colorbar\":{\"outlinewidth\":0,\"ticks\":\"\"}}],\"contour\":[{\"type\":\"contour\",\"colorbar\":{\"outlinewidth\":0,\"ticks\":\"\"},\"colorscale\":[[0.0,\"#0d0887\"],[0.1111111111111111,\"#46039f\"],[0.2222222222222222,\"#7201a8\"],[0.3333333333333333,\"#9c179e\"],[0.4444444444444444,\"#bd3786\"],[0.5555555555555556,\"#d8576b\"],[0.6666666666666666,\"#ed7953\"],[0.7777777777777778,\"#fb9f3a\"],[0.8888888888888888,\"#fdca26\"],[1.0,\"#f0f921\"]]}],\"surface\":[{\"type\":\"surface\",\"colorbar\":{\"outlinewidth\":0,\"ticks\":\"\"},\"colorscale\":[[0.0,\"#0d0887\"],[0.1111111111111111,\"#46039f\"],[0.2222222222222222,\"#7201a8\"],[0.3333333333333333,\"#9c179e\"],[0.4444444444444444,\"#bd3786\"],[0.5555555555555556,\"#d8576b\"],[0.6666666666666666,\"#ed7953\"],[0.7777777777777778,\"#fb9f3a\"],[0.8888888888888888,\"#fdca26\"],[1.0,\"#f0f921\"]]}],\"mesh3d\":[{\"type\":\"mesh3d\",\"colorbar\":{\"outlinewidth\":0,\"ticks\":\"\"}}],\"scatter\":[{\"fillpattern\":{\"fillmode\":\"overlay\",\"size\":10,\"solidity\":0.2},\"type\":\"scatter\"}],\"parcoords\":[{\"type\":\"parcoords\",\"line\":{\"colorbar\":{\"outlinewidth\":0,\"ticks\":\"\"}}}],\"scatterpolargl\":[{\"type\":\"scatterpolargl\",\"marker\":{\"colorbar\":{\"outlinewidth\":0,\"ticks\":\"\"}}}],\"bar\":[{\"error_x\":{\"color\":\"#2a3f5f\"},\"error_y\":{\"color\":\"#2a3f5f\"},\"marker\":{\"line\":{\"color\":\"#E5ECF6\",\"width\":0.5},\"pattern\":{\"fillmode\":\"overlay\",\"size\":10,\"solidity\":0.2}},\"type\":\"bar\"}],\"scattergeo\":[{\"type\":\"scattergeo\",\"marker\":{\"colorbar\":{\"outlinewidth\":0,\"ticks\":\"\"}}}],\"scatterpolar\":[{\"type\":\"scatterpolar\",\"marker\":{\"colorbar\":{\"outlinewidth\":0,\"ticks\":\"\"}}}],\"histogram\":[{\"marker\":{\"pattern\":{\"fillmode\":\"overlay\",\"size\":10,\"solidity\":0.2}},\"type\":\"histogram\"}],\"scattergl\":[{\"type\":\"scattergl\",\"marker\":{\"colorbar\":{\"outlinewidth\":0,\"ticks\":\"\"}}}],\"scatter3d\":[{\"type\":\"scatter3d\",\"line\":{\"colorbar\":{\"outlinewidth\":0,\"ticks\":\"\"}},\"marker\":{\"colorbar\":{\"outlinewidth\":0,\"ticks\":\"\"}}}],\"scattermapbox\":[{\"type\":\"scattermapbox\",\"marker\":{\"colorbar\":{\"outlinewidth\":0,\"ticks\":\"\"}}}],\"scatterternary\":[{\"type\":\"scatterternary\",\"marker\":{\"colorbar\":{\"outlinewidth\":0,\"ticks\":\"\"}}}],\"scattercarpet\":[{\"type\":\"scattercarpet\",\"marker\":{\"colorbar\":{\"outlinewidth\":0,\"ticks\":\"\"}}}],\"carpet\":[{\"aaxis\":{\"endlinecolor\":\"#2a3f5f\",\"gridcolor\":\"white\",\"linecolor\":\"white\",\"minorgridcolor\":\"white\",\"startlinecolor\":\"#2a3f5f\"},\"baxis\":{\"endlinecolor\":\"#2a3f5f\",\"gridcolor\":\"white\",\"linecolor\":\"white\",\"minorgridcolor\":\"white\",\"startlinecolor\":\"#2a3f5f\"},\"type\":\"carpet\"}],\"table\":[{\"cells\":{\"fill\":{\"color\":\"#EBF0F8\"},\"line\":{\"color\":\"white\"}},\"header\":{\"fill\":{\"color\":\"#C8D4E3\"},\"line\":{\"color\":\"white\"}},\"type\":\"table\"}],\"barpolar\":[{\"marker\":{\"line\":{\"color\":\"#E5ECF6\",\"width\":0.5},\"pattern\":{\"fillmode\":\"overlay\",\"size\":10,\"solidity\":0.2}},\"type\":\"barpolar\"}],\"pie\":[{\"automargin\":true,\"type\":\"pie\"}]},\"layout\":{\"autotypenumbers\":\"strict\",\"colorway\":[\"#636efa\",\"#EF553B\",\"#00cc96\",\"#ab63fa\",\"#FFA15A\",\"#19d3f3\",\"#FF6692\",\"#B6E880\",\"#FF97FF\",\"#FECB52\"],\"font\":{\"color\":\"#2a3f5f\"},\"hovermode\":\"closest\",\"hoverlabel\":{\"align\":\"left\"},\"paper_bgcolor\":\"white\",\"plot_bgcolor\":\"#E5ECF6\",\"polar\":{\"bgcolor\":\"#E5ECF6\",\"angularaxis\":{\"gridcolor\":\"white\",\"linecolor\":\"white\",\"ticks\":\"\"},\"radialaxis\":{\"gridcolor\":\"white\",\"linecolor\":\"white\",\"ticks\":\"\"}},\"ternary\":{\"bgcolor\":\"#E5ECF6\",\"aaxis\":{\"gridcolor\":\"white\",\"linecolor\":\"white\",\"ticks\":\"\"},\"baxis\":{\"gridcolor\":\"white\",\"linecolor\":\"white\",\"ticks\":\"\"},\"caxis\":{\"gridcolor\":\"white\",\"linecolor\":\"white\",\"ticks\":\"\"}},\"coloraxis\":{\"colorbar\":{\"outlinewidth\":0,\"ticks\":\"\"}},\"colorscale\":{\"sequential\":[[0.0,\"#0d0887\"],[0.1111111111111111,\"#46039f\"],[0.2222222222222222,\"#7201a8\"],[0.3333333333333333,\"#9c179e\"],[0.4444444444444444,\"#bd3786\"],[0.5555555555555556,\"#d8576b\"],[0.6666666666666666,\"#ed7953\"],[0.7777777777777778,\"#fb9f3a\"],[0.8888888888888888,\"#fdca26\"],[1.0,\"#f0f921\"]],\"sequentialminus\":[[0.0,\"#0d0887\"],[0.1111111111111111,\"#46039f\"],[0.2222222222222222,\"#7201a8\"],[0.3333333333333333,\"#9c179e\"],[0.4444444444444444,\"#bd3786\"],[0.5555555555555556,\"#d8576b\"],[0.6666666666666666,\"#ed7953\"],[0.7777777777777778,\"#fb9f3a\"],[0.8888888888888888,\"#fdca26\"],[1.0,\"#f0f921\"]],\"diverging\":[[0,\"#8e0152\"],[0.1,\"#c51b7d\"],[0.2,\"#de77ae\"],[0.3,\"#f1b6da\"],[0.4,\"#fde0ef\"],[0.5,\"#f7f7f7\"],[0.6,\"#e6f5d0\"],[0.7,\"#b8e186\"],[0.8,\"#7fbc41\"],[0.9,\"#4d9221\"],[1,\"#276419\"]]},\"xaxis\":{\"gridcolor\":\"white\",\"linecolor\":\"white\",\"ticks\":\"\",\"title\":{\"standoff\":15},\"zerolinecolor\":\"white\",\"automargin\":true,\"zerolinewidth\":2},\"yaxis\":{\"gridcolor\":\"white\",\"linecolor\":\"white\",\"ticks\":\"\",\"title\":{\"standoff\":15},\"zerolinecolor\":\"white\",\"automargin\":true,\"zerolinewidth\":2},\"scene\":{\"xaxis\":{\"backgroundcolor\":\"#E5ECF6\",\"gridcolor\":\"white\",\"linecolor\":\"white\",\"showbackground\":true,\"ticks\":\"\",\"zerolinecolor\":\"white\",\"gridwidth\":2},\"yaxis\":{\"backgroundcolor\":\"#E5ECF6\",\"gridcolor\":\"white\",\"linecolor\":\"white\",\"showbackground\":true,\"ticks\":\"\",\"zerolinecolor\":\"white\",\"gridwidth\":2},\"zaxis\":{\"backgroundcolor\":\"#E5ECF6\",\"gridcolor\":\"white\",\"linecolor\":\"white\",\"showbackground\":true,\"ticks\":\"\",\"zerolinecolor\":\"white\",\"gridwidth\":2}},\"shapedefaults\":{\"line\":{\"color\":\"#2a3f5f\"}},\"annotationdefaults\":{\"arrowcolor\":\"#2a3f5f\",\"arrowhead\":0,\"arrowwidth\":1},\"geo\":{\"bgcolor\":\"white\",\"landcolor\":\"#E5ECF6\",\"subunitcolor\":\"white\",\"showland\":true,\"showlakes\":true,\"lakecolor\":\"white\"},\"title\":{\"x\":0.05},\"mapbox\":{\"style\":\"light\"}}},\"xaxis\":{\"anchor\":\"y\",\"domain\":[0.0,1.0],\"title\":{\"text\":\"Price\"}},\"yaxis\":{\"anchor\":\"x\",\"domain\":[0.0,1.0],\"title\":{\"text\":\"Distance from Center (meters)\"}},\"coloraxis\":{\"colorbar\":{\"title\":{\"text\":\"rating\"}},\"colorscale\":[[0.0,\"#0d0887\"],[0.1111111111111111,\"#46039f\"],[0.2222222222222222,\"#7201a8\"],[0.3333333333333333,\"#9c179e\"],[0.4444444444444444,\"#bd3786\"],[0.5555555555555556,\"#d8576b\"],[0.6666666666666666,\"#ed7953\"],[0.7777777777777778,\"#fb9f3a\"],[0.8888888888888888,\"#fdca26\"],[1.0,\"#f0f921\"]]},\"legend\":{\"tracegroupgap\":0},\"margin\":{\"t\":60},\"title\":{\"text\":\"Hotel Prices vs. Distance from Center (w\\u002fo outliers)\"}},                        {\"responsive\": true}                    ).then(function(){\n",
       "                            \n",
       "var gd = document.getElementById('68bd5aa3-1db7-4811-b7e6-8b48f25986cd');\n",
       "var x = new MutationObserver(function (mutations, observer) {{\n",
       "        var display = window.getComputedStyle(gd).display;\n",
       "        if (!display || display === 'none') {{\n",
       "            console.log([gd, 'removed!']);\n",
       "            Plotly.purge(gd);\n",
       "            observer.disconnect();\n",
       "        }}\n",
       "}});\n",
       "\n",
       "// Listen for the removal of the full notebook cells\n",
       "var notebookContainer = gd.closest('#notebook-container');\n",
       "if (notebookContainer) {{\n",
       "    x.observe(notebookContainer, {childList: true});\n",
       "}}\n",
       "\n",
       "// Listen for the clearing of the current output cell\n",
       "var outputEl = gd.closest('.output');\n",
       "if (outputEl) {{\n",
       "    x.observe(outputEl, {childList: true});\n",
       "}}\n",
       "\n",
       "                        })                };                });            </script>        </div>"
      ]
     },
     "metadata": {},
     "output_type": "display_data"
    }
   ],
   "source": [
    "outlier = \"台北文華東方酒店\"\n",
    "hotels_rm = hotels[hotels['name'] != outlier]\n",
    "\n",
    "# Create a scatter plot\n",
    "fig = px.scatter(hotels_rm, x='price', y='distance', color='rating',\n",
    "                 hover_name='name',\n",
    "                 hover_data={'price': True, 'rating': True})\n",
    "\n",
    "# Customize the plot\n",
    "fig.update_traces(marker=dict(size=12, opacity=0.7),\n",
    "                  selector=dict(mode='markers+text'))\n",
    "\n",
    "# Add titles and labels\n",
    "fig.update_layout(\n",
    "    title='Hotel Prices vs. Distance from Center (w/o outliers)',\n",
    "    xaxis_title='Price',\n",
    "    yaxis_title='Distance from Center (meters)'\n",
    ")\n",
    "\n",
    "# Show the plot\n",
    "fig.show()"
   ]
  },
  {
   "cell_type": "markdown",
   "id": "c7a4c0f9",
   "metadata": {},
   "source": [
    "From the plot, we can see that with higher price, the rating tends to be higher as well.\n",
    "\n",
    "Also, there are more hotels around the center."
   ]
  },
  {
   "cell_type": "code",
   "execution_count": 44,
   "id": "260d3953",
   "metadata": {},
   "outputs": [],
   "source": [
    "# export cleaned data\n",
    "\n",
    "# The 'index=False' argument prevents saving the DataFrame index as a column in the CSV file\n",
    "\n",
    "# w/ outliers\n",
    "hotels.to_csv(\"cleaned_hotels.csv\", index=False)\n",
    "\n",
    "# w/o outliers\n",
    "hotels_rm.to_csv(\"cleaned_hotels_rm.csv\", index=False)"
   ]
  },
  {
   "cell_type": "markdown",
   "id": "b988c554",
   "metadata": {},
   "source": [
    "# Question 3"
   ]
  },
  {
   "cell_type": "markdown",
   "id": "8d4311fb",
   "metadata": {},
   "source": [
    "Propose two research questions."
   ]
  },
  {
   "cell_type": "code",
   "execution_count": null,
   "id": "1c557ce7",
   "metadata": {},
   "outputs": [],
   "source": []
  }
 ],
 "metadata": {
  "@webio": {
   "lastCommId": null,
   "lastKernelId": null
  },
  "kernelspec": {
   "display_name": "Python 3 (ipykernel)",
   "language": "python",
   "name": "python3"
  },
  "language_info": {
   "codemirror_mode": {
    "name": "ipython",
    "version": 3
   },
   "file_extension": ".py",
   "mimetype": "text/x-python",
   "name": "python",
   "nbconvert_exporter": "python",
   "pygments_lexer": "ipython3",
   "version": "3.10.9"
  },
  "toc": {
   "base_numbering": 1,
   "nav_menu": {},
   "number_sections": true,
   "sideBar": true,
   "skip_h1_title": false,
   "title_cell": "Table of Contents",
   "title_sidebar": "Contents",
   "toc_cell": false,
   "toc_position": {},
   "toc_section_display": true,
   "toc_window_display": false
  }
 },
 "nbformat": 4,
 "nbformat_minor": 5
}
