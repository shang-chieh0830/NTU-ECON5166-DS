{
 "cells": [
  {
   "cell_type": "markdown",
   "id": "2d7c09e5",
   "metadata": {},
   "source": [
    "# Question 1"
   ]
  },
  {
   "cell_type": "markdown",
   "id": "71151be2",
   "metadata": {},
   "source": [
    "The empirical distribution funtion with a sample size $n$ is defined as:\n",
    "\n",
    "$$\\hat F_n(x)=\\frac1n \\sum_{i=1}^{n}\\mathbb{1}_{(-\\infty, x]}(X_i)$$\n",
    "\n",
    "From questions (a) to (c), consider $n=10$ and \n",
    "\n",
    "$$(X_1, X_2, \\dots, X_{10})=(-2.2, 3.46, 2.8, 5.3, 4.84, -3.2, 6.32, 7.7, 1.5, -1.32)$$"
   ]
  },
  {
   "cell_type": "markdown",
   "id": "9620e9e5",
   "metadata": {},
   "source": [
    "## (a) Find $\\hat F_n(4)$  and $\\hat F_n(-3)$"
   ]
  },
  {
   "cell_type": "markdown",
   "id": "ebf62072",
   "metadata": {},
   "source": [
    "$\\hat F_n(4)=6/10=0.6$  \n",
    "\n",
    "\n",
    "$\\hat F_n(-3)=1/10=0.1$"
   ]
  },
  {
   "cell_type": "markdown",
   "id": "da50175b",
   "metadata": {},
   "source": [
    "## (b)"
   ]
  },
  {
   "cell_type": "markdown",
   "id": "8f2d6ec8",
   "metadata": {},
   "source": [
    "`enumerate()` returns an iterator that generates pairs of two values for each item in the iterable:\n",
    "\n",
    "- The first value is the index (position) of the item in the iterable.\n",
    "- The second value is the actual item from the iterable."
   ]
  },
  {
   "cell_type": "code",
   "execution_count": null,
   "id": "f146ac88",
   "metadata": {},
   "outputs": [],
   "source": [
    "import numpy as np\n",
    "import matplotlib.pyplot as plt\n",
    "\n",
    "# Given random sample\n",
    "data = [-2.2, 3.46, 2.8, 5.3, 4.84, -3.2, 6.32, 7.7, 1.5, -1.32]\n",
    "\n",
    "# Define the range of values\n",
    "x_range = np.arange(-10, 10.01, 0.01)\n",
    "\n",
    "# Initialize an array to store the cumulative probabilities\n",
    "edf = np.zeros(len(x_range))\n",
    "\n",
    "# Calculate the EDF\n",
    "for i, x in enumerate(x_range):\n",
    "    count = sum(1 for data_point in data if data_point <= x)\n",
    "    cumulative_prob = count / len(data)\n",
    "    edf[i] = cumulative_prob\n",
    "\n",
    "# Plot the EDF\n",
    "plt.plot(x_range, edf)\n",
    "plt.xlabel('X')\n",
    "plt.ylabel('Empirical Distribution Function (EDF)')\n",
    "plt.title('Empirical Distribution Function Plot')\n",
    "plt.grid(True)\n",
    "plt.show()\n"
   ]
  },
  {
   "cell_type": "markdown",
   "id": "4e4bc331",
   "metadata": {},
   "source": [
    "## (c)"
   ]
  },
  {
   "cell_type": "markdown",
   "id": "912ac769",
   "metadata": {},
   "source": [
    "Clearly, $\\hat F_n(x)$ is a non-decreasing function"
   ]
  },
  {
   "cell_type": "markdown",
   "id": "62e67f13",
   "metadata": {},
   "source": [
    "## (d)"
   ]
  },
  {
   "cell_type": "markdown",
   "id": "7b74417d",
   "metadata": {},
   "source": [
    "Hint: If $X\\sim Ber(p)$, then $E(X)=p$ and $Var(X)=p(1-p)$"
   ]
  },
  {
   "cell_type": "markdown",
   "id": "9027f56e",
   "metadata": {},
   "source": [
    "\n",
    "\n",
    "$$\n",
    "\\begin{align}\n",
    "E[\\hat F_n(x)]&=E[\\frac1n \\sum_{i=1}^{n}\\mathbb{1}_{(-\\infty, x]}(X_i)]\\\\\n",
    "&=\\frac1n \\sum_{i=1}^{n}E[\\mathbb{1}_{(-\\infty, x]}(X_i)]\\\\\n",
    "&=\\frac1n \\sum_{i=1}^{n}\\Pr(X_i\\le x)\\quad\\quad\\text{(by hint)}\\\\\n",
    "&=\\frac1n \\sum_{i=1}^{n}F_X(x)\\\\\n",
    "&=\\frac1n nF_X(x)\\\\\n",
    "&=F_X(x)\n",
    "\\end{align}\n",
    "$$\n",
    "\n",
    "Hence, $E[\\hat F_n(0)]=F_X(0)$ which is independent of n."
   ]
  },
  {
   "cell_type": "markdown",
   "id": "553f18ab",
   "metadata": {},
   "source": [
    "## (e)"
   ]
  },
  {
   "cell_type": "markdown",
   "id": "398df645",
   "metadata": {},
   "source": [
    "$$\n",
    "\\begin{align}\n",
    "Var[\\hat F_n(x)]&=Var[\\frac1n \\sum_{i=1}^{n}\\mathbb{1}_{(-\\infty, x]}(X_i)]\\\\\n",
    "&=\\frac{1}{n^2}Var[\\sum_{i=1}^{n}\\mathbb{1}_{(-\\infty, x]}(X_i)]\\\\\n",
    "&=\\frac{1}{n^2}\\sum_{i=1}^{n}Var[\\mathbb{1}_{(-\\infty, x]}(X_i)]\\quad\\quad\\text{(by mutual independence)}\\\\\n",
    "&=\\frac{1}{n^2}\\sum_{i=1}^{n}\\Pr(X_i\\le x)[1-\\Pr(X_i\\le x)]\\quad\\quad\\text{(by hint)}\\\\\n",
    "&=\\frac{1}{n^2}\\sum_{i=1}^{n}F_X(x)[1-F_X(x)]\\\\\n",
    "&=\\frac{1}{n^2}nF_X(x)[1-F_X(x)]\\\\\n",
    "&=\\frac1n F_X(x)[1-F_X(x)]\n",
    "\\end{align}\n",
    "$$\n",
    "\n",
    "Hence, $Var[\\hat F_n(0)]=\\frac1n F_X(0)[1-F_X(0)]$ which is dependent on n."
   ]
  },
  {
   "cell_type": "markdown",
   "id": "c33a96e8",
   "metadata": {},
   "source": [
    "## (f)"
   ]
  },
  {
   "cell_type": "markdown",
   "id": "3a548a5b",
   "metadata": {},
   "source": [
    "We've shown the empirical distribution function is an unbiased estimator of the true distribution function.\n",
    "\n",
    "Furthermore, as $n\\rightarrow \\infty$, we have $Var[\\hat F_n(x)]\\rightarrow 0$\n",
    "\n",
    "Hence, $\\hat F_n(0)$ is a good estimator of $F_X(0)$"
   ]
  },
  {
   "cell_type": "markdown",
   "id": "686706ea",
   "metadata": {},
   "source": [
    "## (g)"
   ]
  },
  {
   "cell_type": "markdown",
   "id": "548fd5c5",
   "metadata": {},
   "source": [
    "Given $X\\sim N(0, 1)$, $F_X(0)=\\frac12$"
   ]
  },
  {
   "cell_type": "markdown",
   "id": "642c3f2f",
   "metadata": {},
   "source": [
    "## (h)"
   ]
  },
  {
   "cell_type": "code",
   "execution_count": null,
   "id": "1458479a",
   "metadata": {},
   "outputs": [],
   "source": [
    "np.random.seed(5516)\n",
    "\n",
    "mu, sigma = 0, 1\n",
    "n = 100 # number of data points in each simulation\n",
    "R = 10000 # number of simulations\n",
    "\n",
    "\n",
    "# Initialize an empty array of length R to store EDF\n",
    "edf_values = np.zeros(R)\n",
    "\n",
    "# Simulate and calculate EDF for each round of simulation\n",
    "for i in range(R):\n",
    "    # Generate a random sample of size n from a standard normal distribution\n",
    "    data = np.random.normal(mu, sigma, n)\n",
    "    \n",
    "    # Calculate the EDF at x=0\n",
    "    edf_at_zero = sum(1 for value in data if value <= 0) / n\n",
    "    edf_values[i] = edf_at_zero\n",
    "    \n",
    "    \n",
    "    \n",
    "# Plot the histogram of EDF values\n",
    "plt.hist(edf_values, bins=35, density=True, alpha=0.7, color='blue')\n",
    "plt.xlabel('EDF at x=0')\n",
    "plt.ylabel('Density')\n",
    "plt.title('Empirical Distribution Function at x=0 (10,000 Simulations)')\n",
    "plt.grid(True)\n",
    "plt.show()\n",
    "\n",
    "print(\"The Empirical distribution function at x=0 obtained from the first round of simulation is:\", edf_values[0])"
   ]
  },
  {
   "cell_type": "markdown",
   "id": "a449a43e",
   "metadata": {},
   "source": [
    "Calculate the MSE:\n",
    "\n",
    "$$\\frac{1}{10000}\\sum_{b=1}^{10000}[\\hat F_{n,b}(0)-F_X(0)]^2$$\n",
    "\n",
    "which is the average squared distance between the estimator $\\hat F_{n,b}(0)$ and its true value $F_X(0)$"
   ]
  },
  {
   "cell_type": "code",
   "execution_count": null,
   "id": "1afe7405",
   "metadata": {},
   "outputs": [],
   "source": [
    "# True value of the EDF at x=0\n",
    "true_value = 1/2\n",
    "\n",
    "# Calculate the squared differences between simulated EDF and true value\n",
    "squared_differences = [(edf - true_value)**2 for edf in edf_values]\n",
    "\n",
    "# Calculate the mean squared error (MSE)\n",
    "mse = np.mean(squared_differences)\n",
    "\n",
    "print(\"Mean Squared Error (MSE):\", mse)"
   ]
  },
  {
   "cell_type": "markdown",
   "id": "f92ba31c",
   "metadata": {},
   "source": [
    "## (i)"
   ]
  },
  {
   "cell_type": "code",
   "execution_count": null,
   "id": "1caf031f",
   "metadata": {},
   "outputs": [],
   "source": [
    "np.random.seed(5516)\n",
    "\n",
    "mu, sigma = 0, 1\n",
    "n = 200 # number of data points in each simulation\n",
    "R = 10000 # number of simulations\n",
    "\n",
    "\n",
    "# Initialize an empty array of length R to store EDF\n",
    "edf_values = np.zeros(R)\n",
    "\n",
    "# Simulate and calculate EDF for each round of simulation\n",
    "for i in range(R):\n",
    "    # Generate a random sample of size n from a standard normal distribution\n",
    "    data = np.random.normal(mu, sigma, n)\n",
    "    \n",
    "    # Calculate the EDF at x=0\n",
    "    edf_at_zero = sum(1 for value in data if value <= 0) / n\n",
    "    edf_values[i] = edf_at_zero\n",
    "    \n",
    "# True value of the EDF at x=0\n",
    "true_value = 1/2\n",
    "\n",
    "# Calculate the squared differences between simulated EDF and true value\n",
    "squared_differences = [(edf - true_value)**2 for edf in edf_values]\n",
    "\n",
    "# Calculate the mean squared error (MSE)\n",
    "mse = np.mean(squared_differences)\n",
    "\n",
    "print(\"Mean Squared Error (MSE) with n=200:\", mse)"
   ]
  },
  {
   "cell_type": "code",
   "execution_count": null,
   "id": "e43bb95c",
   "metadata": {},
   "outputs": [],
   "source": [
    "np.random.seed(5516)\n",
    "\n",
    "mu, sigma = 0, 1\n",
    "n = 500 # number of data points in each simulation\n",
    "R = 10000 # number of simulations\n",
    "\n",
    "\n",
    "# Initialize an empty array of length R to store EDF\n",
    "edf_values = np.zeros(R)\n",
    "\n",
    "# Simulate and calculate EDF for each round of simulation\n",
    "for i in range(R):\n",
    "    # Generate a random sample of size n from a standard normal distribution\n",
    "    data = np.random.normal(mu, sigma, n)\n",
    "    \n",
    "    # Calculate the EDF at x=0\n",
    "    edf_at_zero = sum(1 for value in data if value <= 0) / n\n",
    "    edf_values[i] = edf_at_zero\n",
    "    \n",
    "# True value of the EDF at x=0\n",
    "true_value = 1/2\n",
    "\n",
    "# Calculate the squared differences between simulated EDF and true value\n",
    "squared_differences = [(edf - true_value)**2 for edf in edf_values]\n",
    "\n",
    "# Calculate the mean squared error (MSE)\n",
    "mse = np.mean(squared_differences)\n",
    "\n",
    "print(\"Mean Squared Error (MSE) with n=500:\", mse)"
   ]
  },
  {
   "cell_type": "markdown",
   "id": "0638876e",
   "metadata": {},
   "source": [
    "The MSE is smaller when n is larger."
   ]
  },
  {
   "cell_type": "markdown",
   "id": "fbba6cb1",
   "metadata": {},
   "source": [
    "## (j)"
   ]
  },
  {
   "cell_type": "markdown",
   "id": "d5f2b05a",
   "metadata": {},
   "source": [
    "CLT states that \n",
    "\n",
    "$$\\sqrt{n}(\\hat F_n(t)-F(t))\\xrightarrow{d} N(0, F(t)(1-F(t)))$$"
   ]
  },
  {
   "cell_type": "code",
   "execution_count": null,
   "id": "16452578",
   "metadata": {},
   "outputs": [],
   "source": [
    "from scipy.stats import norm\n",
    "\n",
    "np.random.seed(5516)\n",
    "\n",
    "mu, sigma = 0, 1\n",
    "n = 500 # number of data points in each simulation\n",
    "R = 10000 # number of simulations\n",
    "\n",
    "\n",
    "# Initialize an empty array of length R to store EDF\n",
    "edf_values = np.zeros(R)\n",
    "\n",
    "# Simulate and calculate EDF for each round of simulation\n",
    "for i in range(R):\n",
    "    # Generate a random sample of size n from a standard normal distribution\n",
    "    data = np.random.normal(mu, sigma, n)\n",
    "    \n",
    "    # Calculate the EDF at x=0\n",
    "    edf_at_zero = sum(1 for value in data if value <= 0) / n\n",
    "    edf_values[i] = edf_at_zero\n",
    "    \n",
    "# True value of the EDF at x=0\n",
    "true_value = 1/2\n",
    "\n",
    "# Calculate the squared differences between simulated EDF and true value\n",
    "differences = [(edf - true_value) for edf in edf_values] \n",
    "\n",
    "\n",
    "adjusted_differences = [diff * np.sqrt(n) for diff in differences]\n",
    "\n",
    "# Plot a histogram of the adjusted differences\n",
    "plt.hist(adjusted_differences, bins=40, density=True, alpha=0.7, color='blue')\n",
    "\n",
    "# Plot the true standard normal distribution PDF\n",
    "x_range = np.linspace(-3, 3, 1000)\n",
    "pdf_values = norm.pdf(x_range, loc=mu, scale=0.5*0.5)\n",
    "plt.plot(x_range, pdf_values, color=\"red\")\n",
    "\n",
    "\n",
    "plt.xlabel('Adjusted Differences')\n",
    "plt.ylabel('Density')\n",
    "plt.title('Histogram of Adjusted Differences')\n",
    "plt.grid(True)\n",
    "plt.show()"
   ]
  },
  {
   "cell_type": "markdown",
   "id": "f24e988b",
   "metadata": {},
   "source": [
    "The plot somewhat supports CLT."
   ]
  },
  {
   "cell_type": "markdown",
   "id": "85173f6e",
   "metadata": {},
   "source": [
    "# Question 2"
   ]
  },
  {
   "cell_type": "markdown",
   "id": "d35fa547",
   "metadata": {},
   "source": [
    "## (a)\n",
    "\n",
    "1. Convert the `price` column to numerical format (float)\n",
    "\n",
    "2. Handle missing values in the `rating` column.\n",
    "\n",
    "3. Convert the `rating` to float, as `distance` to integer\n",
    "\n",
    "4. Remove the [,] and , from `comment`\n",
    "\n",
    "5. Transform all the distances to meter\n",
    "\n",
    "6. Do you spot anything else?"
   ]
  },
  {
   "cell_type": "code",
   "execution_count": null,
   "id": "8322d2d0",
   "metadata": {},
   "outputs": [],
   "source": [
    "import pandas as pd\n",
    "\n",
    "hotels = pd.read_csv(\"hotels.csv\")\n",
    "\n",
    "hotels"
   ]
  },
  {
   "cell_type": "code",
   "execution_count": null,
   "id": "67cf1b75",
   "metadata": {},
   "outputs": [],
   "source": [
    "# 1. Remove \"TWD\" and commas from the 'price' column and convert it to float\n",
    "hotels['price'] = hotels['price'].str.replace('TWD', '').str.replace(',', '').astype(float)\n",
    "\n",
    "\n",
    "# 2. # Use dropna to remove rows with NaN values in the \"rating\" column\n",
    "hotels.dropna(subset=['rating'], inplace=True) # The inplace=True argument modifies the original DataFrame in place, so you don't need to reassign it\n",
    "\n",
    "# 3. \n",
    "\n",
    "hotels[\"rating\"] = hotels[\"rating\"].astype(float)\n",
    "\n",
    "# Use apply with a lambda function to convert and clean the \"distance\" column\n",
    "hotels['distance'] = hotels['distance'].apply(lambda x: int(float(x.replace('距中心 ', '').split(' ')[0]) * 1000) if '公里' in x else int(x.replace('距中心 ', '').split(' ')[0]))\n",
    "\n",
    "\n"
   ]
  },
  {
   "cell_type": "markdown",
   "id": "d4485905",
   "metadata": {},
   "source": [
    "Also, it appears that some locations are mismatched. For example, `板橋`, `蘆洲`, and `三重` belong to `新北市`.\n",
    "\n",
    "The following codes can be used to address this concern (if necessary)."
   ]
  },
  {
   "cell_type": "code",
   "execution_count": null,
   "id": "03c26c0e",
   "metadata": {},
   "outputs": [],
   "source": [
    "# Create a dictionary to define the replacements\n",
    "#replacement_dict = {\n",
    "#    \"蘆洲, 台北\": \"蘆洲, 新北\",\n",
    "#    \"三重, 台北\": \"三重, 新北\",\n",
    "#    \"板橋, 台北\": \"板橋, 新北\"\n",
    "#}\n",
    "\n",
    "# Use the replace method to apply the replacements to the 'location' column\n",
    "#hotels['location'] = hotels['location'].replace(replacement_dict)"
   ]
  },
  {
   "cell_type": "code",
   "execution_count": null,
   "id": "7b5c342b",
   "metadata": {},
   "outputs": [],
   "source": [
    "hotels"
   ]
  },
  {
   "cell_type": "markdown",
   "id": "eb8901d1",
   "metadata": {},
   "source": [
    "## (b)"
   ]
  },
  {
   "cell_type": "code",
   "execution_count": null,
   "id": "50893bdb",
   "metadata": {},
   "outputs": [],
   "source": [
    "import plotly.express as px\n",
    "\n",
    "# Create a scatter plot\n",
    "fig = px.scatter(hotels, x='price', y='distance', color='rating',\n",
    "                 hover_name='name',\n",
    "                 hover_data={'price': True, 'rating': True}) # to be displayed when hovering over datapoints\n",
    "\n",
    "# Customize the plot\n",
    "fig.update_traces(marker=dict(size=12, opacity=0.7),\n",
    "                  selector=dict(mode='markers+text'))\n",
    "\n",
    "# Add titles and labels\n",
    "fig.update_layout(\n",
    "    title='Hotel Prices vs. Distance from Center',\n",
    "    xaxis_title='Price',\n",
    "    yaxis_title='Distance from Center (meters)'\n",
    ")\n",
    "\n",
    "# Show the plot\n",
    "fig.show()"
   ]
  },
  {
   "cell_type": "markdown",
   "id": "7510e34d",
   "metadata": {},
   "source": [
    "It appears that `台北文華東方酒店` is an outlier, we remove it and plot again."
   ]
  },
  {
   "cell_type": "code",
   "execution_count": null,
   "id": "1a20e4bd",
   "metadata": {
    "scrolled": false
   },
   "outputs": [],
   "source": [
    "outlier = \"台北文華東方酒店\"\n",
    "hotels_rm = hotels[hotels['name'] != outlier]\n",
    "\n",
    "# Create a scatter plot\n",
    "fig = px.scatter(hotels_rm, x='price', y='distance', color='rating',\n",
    "                 hover_name='name',\n",
    "                 hover_data={'price': True, 'rating': True})\n",
    "\n",
    "# Customize the plot\n",
    "fig.update_traces(marker=dict(size=12, opacity=0.7),\n",
    "                  selector=dict(mode='markers+text'))\n",
    "\n",
    "# Add titles and labels\n",
    "fig.update_layout(\n",
    "    title='Hotel Prices vs. Distance from Center (w/o outliers)',\n",
    "    xaxis_title='Price',\n",
    "    yaxis_title='Distance from Center (meters)'\n",
    ")\n",
    "\n",
    "# Show the plot\n",
    "fig.show()"
   ]
  },
  {
   "cell_type": "markdown",
   "id": "c7a4c0f9",
   "metadata": {},
   "source": [
    "From the plot, we can see that with higher price, the rating tends to be higher.\n",
    "\n",
    "Also, there are more hotels around the center."
   ]
  },
  {
   "cell_type": "code",
   "execution_count": null,
   "id": "260d3953",
   "metadata": {},
   "outputs": [],
   "source": [
    "# export cleaned data\n",
    "\n",
    "# The 'index=False' argument prevents saving the DataFrame index as a column in the CSV file\n",
    "\n",
    "# w/ outliers\n",
    "hotels.to_csv(\"cleaned_hotels.csv\", index=False)\n",
    "\n",
    "# w/o outliers\n",
    "hotels_rm.to_csv(\"cleaned_hotels_rm.csv\", index=False)"
   ]
  },
  {
   "cell_type": "markdown",
   "id": "b988c554",
   "metadata": {},
   "source": [
    "# Question 3"
   ]
  },
  {
   "cell_type": "markdown",
   "id": "8d4311fb",
   "metadata": {},
   "source": [
    "Propose two research questions.\n",
    "\n",
    "1. 慘遭真人化？真人影視作品的成功因素\n",
    "\n",
    "2. 台灣選舉年對股市的影響"
   ]
  }
 ],
 "metadata": {
  "@webio": {
   "lastCommId": null,
   "lastKernelId": null
  },
  "kernelspec": {
   "display_name": "Python 3 (ipykernel)",
   "language": "python",
   "name": "python3"
  },
  "language_info": {
   "codemirror_mode": {
    "name": "ipython",
    "version": 3
   },
   "file_extension": ".py",
   "mimetype": "text/x-python",
   "name": "python",
   "nbconvert_exporter": "python",
   "pygments_lexer": "ipython3",
   "version": "3.10.9"
  },
  "toc": {
   "base_numbering": 1,
   "nav_menu": {},
   "number_sections": true,
   "sideBar": true,
   "skip_h1_title": false,
   "title_cell": "Table of Contents",
   "title_sidebar": "Contents",
   "toc_cell": false,
   "toc_position": {},
   "toc_section_display": true,
   "toc_window_display": false
  }
 },
 "nbformat": 4,
 "nbformat_minor": 5
}
